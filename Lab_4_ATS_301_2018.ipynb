{
 "cells": [
  {
   "cell_type": "markdown",
   "metadata": {},
   "source": [
    "# Computer Lab 4: Linear Trends\n",
    "Climate Data Analysis, ATS 301, Fall 2018\t\t\t\t\t\n",
    "\n",
    "Primary objectives for today:\n",
    "Calculate and plot linear trends for the time series. \n",
    "\n",
    "\n",
    "As before, we start by specifing that we want plots to be displayed inside the Jupyter Notebook, and import the modules we'll need.\n",
    "\n",
    "This time, we want to do linear regression, so we'll add the `scipy` module. We don't need all of it, so we just import the `stats` package."
   ]
  },
  {
   "cell_type": "code",
   "execution_count": 2,
   "metadata": {
    "scrolled": true
   },
   "outputs": [],
   "source": [
    "%matplotlib inline\n",
    "import matplotlib.pyplot as plt\n",
    "import numpy as np\n",
    "from scipy import stats"
   ]
  },
  {
   "cell_type": "markdown",
   "metadata": {},
   "source": [
    "Read in one of the time series."
   ]
  },
  {
   "cell_type": "code",
   "execution_count": 2,
   "metadata": {},
   "outputs": [],
   "source": [
    "gistemp=np.genfromtxt(\"/data/ATS_301/Data/GLB.Ts_dSST_2018_Sept.csv\",delimiter=',', skip_header=2)"
   ]
  },
  {
   "cell_type": "markdown",
   "metadata": {},
   "source": [
    "Plot the data to make sure it's what we want."
   ]
  },
  {
   "cell_type": "code",
   "execution_count": 3,
   "metadata": {
    "scrolled": false
   },
   "outputs": [
    {
     "data": {
      "text/plain": [
       "Text(0.5,1,'Global Mean Estimates based on Land and Ocean Data (GISTEMP)')"
      ]
     },
     "execution_count": 3,
     "metadata": {},
     "output_type": "execute_result"
    },
    {
     "data": {
      "image/png": "[encoded data removed]",
      "text/plain": [
       "<Figure size 432x288 with 1 Axes>"
      ]
     },
     "metadata": {
      "needs_background": "light"
     },
     "output_type": "display_data"
    }
   ],
   "source": [
    "plt.plot(gistemp[:,0],gistemp[:,13],'sk-',markersize=5)\n",
    "plt.axhline(color='k')\n",
    "plt.ylabel(\"Temperature Anomaly (°C)\")\n",
    "plt.xlabel(\"Year\")\n",
    "plt.title(\"Global Mean Estimates based on Land and Ocean Data (GISTEMP)\",size=10)"
   ]
  },
  {
   "cell_type": "markdown",
   "metadata": {},
   "source": [
    "Save the citation info:\n",
    "\n",
    "+ GISTEMP Team, 2018: GISS Surface Temperature Analysis (GISTEMP). NASA Goddard Institute for Space Studies. Dataset accessed 2018-09-16 at http://data.giss.nasa.gov/gistemp/.\n",
    "+ Hansen, J., R. Ruedy, M. Sato, and K. Lo, 2010: Global surface temperature change, Rev. Geophys., 48, RG4004, doi:10.1029/2010RG000345. "
   ]
  },
  {
   "cell_type": "markdown",
   "metadata": {
    "collapsed": true
   },
   "source": [
    "## Linear regression##\n",
    "\n",
    "While there are many ways in python to do linear regression, we'll be using the basic function included in the module `scipy`. As with any new function, you should start by looking at the `help` output to get a general overview of the function, its inputs, its outputs, and options."
   ]
  },
  {
   "cell_type": "code",
   "execution_count": 4,
   "metadata": {
    "scrolled": true
   },
   "outputs": [
    {
     "name": "stdout",
     "output_type": "stream",
     "text": [
      "Help on function linregress in module scipy.stats._stats_mstats_common:\n",
      "\n",
      "linregress(x, y=None)\n",
      "    Calculate a linear least-squares regression for two sets of measurements.\n",
      "    \n",
      "    Parameters\n",
      "    ----------\n",
      "    x, y : array_like\n",
      "        Two sets of measurements.  Both arrays should have the same length.\n",
      "        If only x is given (and y=None), then it must be a two-dimensional\n",
      "        array where one dimension has length 2.  The two sets of measurements\n",
      "        are then found by splitting the array along the length-2 dimension.\n",
      "    \n",
      "    Returns\n",
      "    -------\n",
      "    slope : float\n",
      "        slope of the regression line\n",
      "    intercept : float\n",
      "        intercept of the regression line\n",
      "    rvalue : float\n",
      "        correlation coefficient\n",
      "    pvalue : float\n",
      "        two-sided p-value for a hypothesis test whose null hypothesis is\n",
      "        that the slope is zero, using Wald Test with t-distribution of\n",
      "        the test statistic.\n",
      "    stderr : float\n",
      "        Standard error of the estimated gradient.\n",
      "    \n",
      "    See also\n",
      "    --------\n",
      "    :func:`scipy.optimize.curve_fit` : Use non-linear\n",
      "     least squares to fit a function to data.\n",
      "    :func:`scipy.optimize.leastsq` : Minimize the sum of\n",
      "     squares of a set of equations.\n",
      "    \n",
      "    Examples\n",
      "    --------\n",
      "    >>> import matplotlib.pyplot as plt\n",
      "    >>> from scipy import stats\n",
      "    >>> np.random.seed(12345678)\n",
      "    >>> x = np.random.random(10)\n",
      "    >>> y = np.random.random(10)\n",
      "    >>> slope, intercept, r_value, p_value, std_err = stats.linregress(x, y)\n",
      "    \n",
      "    To get coefficient of determination (r_squared)\n",
      "    \n",
      "    >>> print(\"r-squared:\", r_value**2)\n",
      "    r-squared: 0.08040226853902833\n",
      "    \n",
      "    Plot the data along with the fitted line\n",
      "    \n",
      "    >>> plt.plot(x, y, 'o', label='original data')\n",
      "    >>> plt.plot(x, intercept + slope*x, 'r', label='fitted line')\n",
      "    >>> plt.legend()\n",
      "    >>> plt.show()\n",
      "\n"
     ]
    }
   ],
   "source": [
    "help(stats.linregress)"
   ]
  },
  {
   "cell_type": "markdown",
   "metadata": {},
   "source": [
    "So let's try calculating the slope, etc., for the whole time series. \n",
    "\n",
    "<b>NOTE</b>: Because the 2018s values in our array are nan's, we need to exclude those from the linear regression. When subscripting arrays, **using a negative number means to count from the end**. So, specifying -1 as the \"stop\" value in an array subset means we include the second to last value."
   ]
  },
  {
   "cell_type": "code",
   "execution_count": 5,
   "metadata": {
    "scrolled": true
   },
   "outputs": [
    {
     "data": {
      "text/plain": [
       "LinregressResult(slope=0.0071928747068990325, intercept=-13.988069989581172, rvalue=0.8670419046942898, pvalue=5.5767462219259004e-43, stderr=0.000354427473346482)"
      ]
     },
     "execution_count": 5,
     "metadata": {},
     "output_type": "execute_result"
    }
   ],
   "source": [
    "stats.linregress(gistemp[0:-1,0],gistemp[0:-1,13])"
   ]
  },
  {
   "cell_type": "markdown",
   "metadata": {},
   "source": [
    "Try leaving off the \"-1\"'s and see what happens."
   ]
  },
  {
   "cell_type": "code",
   "execution_count": 6,
   "metadata": {},
   "outputs": [
    {
     "data": {
      "text/plain": [
       "LinregressResult(slope=nan, intercept=nan, rvalue=nan, pvalue=nan, stderr=nan)"
      ]
     },
     "execution_count": 6,
     "metadata": {},
     "output_type": "execute_result"
    }
   ],
   "source": [
    "stats.linregress(gistemp[0:,0],gistemp[0:,13])"
   ]
  },
  {
   "cell_type": "markdown",
   "metadata": {},
   "source": [
    "Note: if you leave off the *first* number in the array subscripts, it assumes the first subscript is 0. So, we don't really need to include the 0's in this function. However, it is sometimes clearer to specifically include the 0.\n",
    "\n",
    "This outputs the results, but we would like to save these values. To do this, we specify the output variables for the function as is done in the example for the help command."
   ]
  },
  {
   "cell_type": "code",
   "execution_count": 7,
   "metadata": {},
   "outputs": [],
   "source": [
    "slope, intercept, r_value, p_value, std_err = stats.linregress(gistemp[:-1,0],gistemp[:-1,13])"
   ]
  },
  {
   "cell_type": "markdown",
   "metadata": {},
   "source": [
    "We want to add this regression line to the plot. To do this, we create a new variable that has the trend line y value for every year.  We are essentially creating a 1-D array with the <em>y</em> values from the *y=a+bx* linear equation."
   ]
  },
  {
   "cell_type": "code",
   "execution_count": 8,
   "metadata": {},
   "outputs": [],
   "source": [
    "trend_line = intercept + slope*gistemp[:-1,0]"
   ]
  },
  {
   "cell_type": "markdown",
   "metadata": {},
   "source": [
    "Now we can plot this line on the same graph as the GISTEMP data:"
   ]
  },
  {
   "cell_type": "code",
   "execution_count": 9,
   "metadata": {},
   "outputs": [
    {
     "data": {
      "text/plain": [
       "Text(0.5,1,'Global Mean Estimates based on Land and Ocean Data (GISTEMP)')"
      ]
     },
     "execution_count": 9,
     "metadata": {},
     "output_type": "execute_result"
    },
    {
     "data": {
      "image/png": "[encoded data removed]",
      "text/plain": [
       "<Figure size 432x288 with 1 Axes>"
      ]
     },
     "metadata": {
      "needs_background": "light"
     },
     "output_type": "display_data"
    }
   ],
   "source": [
    "plt.plot(gistemp[:,0],gistemp[:,13],'sk-',markersize=5)\n",
    "plt.plot(gistemp[:-1,0],trend_line,'k')\n",
    "plt.axhline(color='k')\n",
    "plt.ylabel(\"Temperature Anomaly (°C)\")\n",
    "plt.xlabel(\"Year\")\n",
    "plt.title(\"Global Mean Estimates based on Land and Ocean Data (GISTEMP)\",size=10)"
   ]
  },
  {
   "cell_type": "markdown",
   "metadata": {},
   "source": [
    "Does this look like the linear trend is a good fit to the data?\n",
    "\n",
    "I would like to calculate the slope for the second half of the 20th Century.  Figure out what starting and ending indices to use to include this period. Print out the `gistemp` year values in this range to confirm."
   ]
  },
  {
   "cell_type": "code",
   "execution_count": null,
   "metadata": {
    "code_folding": []
   },
   "outputs": [],
   "source": [
    "# Replace the X's below:\n",
    "\n",
    "print(gistemp[XXXXXX:XXXXXX,0])"
   ]
  },
  {
   "cell_type": "code",
   "execution_count": 10,
   "metadata": {
    "code_folding": [
     0
    ]
   },
   "outputs": [
    {
     "name": "stdout",
     "output_type": "stream",
     "text": [
      "[1950. 1951. 1952. 1953. 1954. 1955. 1956. 1957. 1958. 1959. 1960. 1961.\n",
      " 1962. 1963. 1964. 1965. 1966. 1967. 1968. 1969. 1970. 1971. 1972. 1973.\n",
      " 1974. 1975. 1976. 1977. 1978. 1979. 1980. 1981. 1982. 1983. 1984. 1985.\n",
      " 1986. 1987. 1988. 1989. 1990. 1991. 1992. 1993. 1994. 1995. 1996. 1997.\n",
      " 1998. 1999.]\n"
     ]
    }
   ],
   "source": [
    "# \n",
    "print(gistemp[70:120,0])"
   ]
  },
  {
   "cell_type": "markdown",
   "metadata": {},
   "source": [
    "\n",
    "Now use the data in this range to calculate a new slope.  We still want to keep the original values, so we need to use new variables for this time period.  Here, I'll add `_1950_1999` to the end of the original variable names. This way, I can look at the name of my variable and know which years it includes. \n"
   ]
  },
  {
   "cell_type": "code",
   "execution_count": null,
   "metadata": {},
   "outputs": [],
   "source": [
    "# Fill in the indices below\n",
    "\n",
    "slope_1950_1999, intercept_1950_1999, r_value_1950_1999, p_value_1950_1999, std_err_1950_1999 = stats.linregress(gistemp[XXXX:XXXX,XXXX],gistemp[XXXX:XXX,XXXX])\n",
    "\n",
    "trend_line_1950_1999 = intercept_1950_1999 + slope_1950_1999*gistemp[XXX:XXX,XXX]"
   ]
  },
  {
   "cell_type": "code",
   "execution_count": 1,
   "metadata": {
    "code_folding": []
   },
   "outputs": [
    {
     "ename": "NameError",
     "evalue": "name 'stats' is not defined",
     "output_type": "error",
     "traceback": [
      "\u001b[0;31m---------------------------------------------------------------------------\u001b[0m",
      "\u001b[0;31mNameError\u001b[0m                                 Traceback (most recent call last)",
      "\u001b[0;32m<ipython-input-1-572efeb93519>\u001b[0m in \u001b[0;36m<module>\u001b[0;34m()\u001b[0m\n\u001b[1;32m      1\u001b[0m \u001b[0;31m#\u001b[0m\u001b[0;34m\u001b[0m\u001b[0;34m\u001b[0m\u001b[0m\n\u001b[0;32m----> 2\u001b[0;31m \u001b[0mslope_1950_1999\u001b[0m\u001b[0;34m,\u001b[0m \u001b[0mintercept_1950_1999\u001b[0m\u001b[0;34m,\u001b[0m \u001b[0mr_value_1950_1999\u001b[0m\u001b[0;34m,\u001b[0m \u001b[0mp_value_1950_1999\u001b[0m\u001b[0;34m,\u001b[0m \u001b[0mstd_err_1950_1999\u001b[0m \u001b[0;34m=\u001b[0m \u001b[0mstats\u001b[0m\u001b[0;34m.\u001b[0m\u001b[0mlinregress\u001b[0m\u001b[0;34m(\u001b[0m\u001b[0mgistemp\u001b[0m\u001b[0;34m[\u001b[0m\u001b[0;36m70\u001b[0m\u001b[0;34m:\u001b[0m\u001b[0;36m120\u001b[0m\u001b[0;34m,\u001b[0m\u001b[0;36m0\u001b[0m\u001b[0;34m]\u001b[0m\u001b[0;34m,\u001b[0m\u001b[0mgistemp\u001b[0m\u001b[0;34m[\u001b[0m\u001b[0;36m70\u001b[0m\u001b[0;34m:\u001b[0m\u001b[0;36m120\u001b[0m\u001b[0;34m,\u001b[0m\u001b[0;36m13\u001b[0m\u001b[0;34m]\u001b[0m\u001b[0;34m)\u001b[0m\u001b[0;34m\u001b[0m\u001b[0m\n\u001b[0m\u001b[1;32m      3\u001b[0m \u001b[0;34m\u001b[0m\u001b[0m\n\u001b[1;32m      4\u001b[0m \u001b[0mtrend_line_1950_1999\u001b[0m \u001b[0;34m=\u001b[0m \u001b[0mintercept_1950_1999\u001b[0m \u001b[0;34m+\u001b[0m \u001b[0mslope_1950_1999\u001b[0m\u001b[0;34m*\u001b[0m\u001b[0mgistemp\u001b[0m\u001b[0;34m[\u001b[0m\u001b[0;36m70\u001b[0m\u001b[0;34m:\u001b[0m\u001b[0;36m120\u001b[0m\u001b[0;34m,\u001b[0m\u001b[0;36m0\u001b[0m\u001b[0;34m]\u001b[0m\u001b[0;34m\u001b[0m\u001b[0m\n",
      "\u001b[0;31mNameError\u001b[0m: name 'stats' is not defined"
     ]
    }
   ],
   "source": [
    "#\n",
    "slope_1950_1999, intercept_1950_1999, r_value_1950_1999, p_value_1950_1999, std_err_1950_1999 = stats.linregress(gistemp[70:120,0],gistemp[70:120,13])\n",
    "\n",
    "trend_line_1950_1999 = intercept_1950_1999 + slope_1950_1999*gistemp[70:120,0]"
   ]
  },
  {
   "cell_type": "markdown",
   "metadata": {},
   "source": [
    "And then plot the data..."
   ]
  },
  {
   "cell_type": "code",
   "execution_count": null,
   "metadata": {},
   "outputs": [],
   "source": [
    "plt.plot(gistemp[:,0],gistemp[:,13],'sk-',markersize=5)\n",
    "plt.plot(gistemp[:-1,0],trend_line,'k')\n",
    "plt.plot(gistemp[70:120,0],trend_line_1950_1999,'r')\n",
    "plt.axhline(color='k')\n",
    "plt.ylabel(\"Temperature Anomaly (°C)\")\n",
    "plt.xlabel(\"Year\")\n",
    "plt.title(\"Global Mean Estimates based on Land and Ocean Data (GISTEMP)\",size=10)\n",
    "plt.show()"
   ]
  },
  {
   "cell_type": "markdown",
   "metadata": {},
   "source": [
    "Now, add a legend to the plot. To do this, we need to `label` all of the data in the `plt.plot` function, and then add the `plt.legend()` function.\n",
    "\n",
    "Note that we need to specify the `()` in the legend function. This indicates to python that this is a function, even if the function has no arguments.  **All functions have to have `()`.**"
   ]
  },
  {
   "cell_type": "code",
   "execution_count": null,
   "metadata": {},
   "outputs": [],
   "source": [
    "plt.plot(gistemp[:,0],gistemp[:,13],'sk-',markersize=5,label=\"Annual data\")\n",
    "plt.plot(gistemp[:-1,0],trend_line,'k',label=\"All-year trend\")\n",
    "plt.plot(gistemp[70:120,0],trend_line_1950_1999,'r',label=\"1950-99 trend\")\n",
    "plt.axhline(color='k')\n",
    "plt.ylabel(\"Temperature Anomaly (°C)\")\n",
    "plt.xlabel(\"Year\")\n",
    "plt.title(\"Global Mean Estimates based on Land and Ocean Data (GISTEMP)\",size=10)\n",
    "plt.legend()\n",
    "plt.show()"
   ]
  },
  {
   "cell_type": "code",
   "execution_count": null,
   "metadata": {},
   "outputs": [],
   "source": [
    "help(plt.legend)"
   ]
  },
  {
   "cell_type": "markdown",
   "metadata": {},
   "source": [
    "If you want to specify where the legend will go (for example, to make sure the legend doesn't cover the data), add the `loc` option to the `legend` command.  This specifies the lower right corner (see the help command for more).\n"
   ]
  },
  {
   "cell_type": "code",
   "execution_count": null,
   "metadata": {},
   "outputs": [],
   "source": [
    "plt.plot(gistemp[:,0],gistemp[:,13],'sk-',markersize=5,label=\"Annual data\")\n",
    "plt.plot(gistemp[:-1,0],trend_line,'k',label=\"All-year trend\")\n",
    "plt.plot(gistemp[70:120,0],trend_line_1950_1999,'r',label=\"1950-99 trend\")\n",
    "plt.axhline(color='k')\n",
    "plt.ylabel(\"Temperature Anomaly (°C)\")\n",
    "plt.xlabel(\"Year\")\n",
    "plt.title(\"Global Mean Estimates based on Land and Ocean Data (GISTEMP)\",size=10)\n",
    "plt.legend(loc=4)\n",
    "plt.show()"
   ]
  },
  {
   "cell_type": "markdown",
   "metadata": {},
   "source": [
    "Print out the slope, intercept, etc. You can use a separate `print` statement for each variable.  You can print multiple strings or variable values in one `print` statement by separating them with a comma."
   ]
  },
  {
   "cell_type": "code",
   "execution_count": null,
   "metadata": {},
   "outputs": [],
   "source": [
    "print('                  all-year           50-year')\n",
    "print('slope (K/yr): ',slope, slope_1950_1999)\n",
    "print('intercept (K):',intercept, intercept_1950_1999)\n",
    "print('p_value: ',p_value, p_value_1950_1999)"
   ]
  },
  {
   "cell_type": "markdown",
   "metadata": {},
   "source": [
    "But this is sort of messy.  We'd like to make a nice table to make it easy to compare your different slopes.  To put values into a table, you need to use the `format` command and *string replacement*. \n",
    "\n",
    "The next `print` commands use *replacement fields* surrounded by curly braces `{}`. Anything that is not contained in braces is considered *literal text*, which is copied unchanged to the output (including spaces).  The braces are replaced by the strings in the `format` function, based on the order of the strings.\n",
    "\n",
    "In this example, `{0:.4f}` will be replaced by the first value (i.e., index 0) in the `format` command (i.e., `slope`), whereas `{1:.4f}` will be replaced by index 1 in the `format` command. Thus, the first number after the { indicates which variable goes in the space. \n",
    "\n",
    "This index is followed by a colon `:`, which indicates that we will be *formatting* the string. `.4f` means a \"f\"loating point with \"4\" digits after the decimal \".\", and as many points in front of the decimal as we need. `.2e` means \"e\"xponential notation. Here, we don't need as many digits after the decimal point.\n",
    "\n",
    "Add spaces inside the `print` command by trial and error to get the columns to line up."
   ]
  },
  {
   "cell_type": "code",
   "execution_count": null,
   "metadata": {},
   "outputs": [],
   "source": [
    "print('                  all-year           50-year')\n",
    "print('slope (K/yr):       {0:.4f}          {1:.4f}'.format(slope, slope_1950_1999))\n",
    "print('intercept (K):    {0:.4f}        {1:.4f}'.format(intercept, intercept_1950_1999))\n",
    "print('p_value:            {0:.2e}        {1:.2e}'.format(p_value, p_value_1950_1999))"
   ]
  },
  {
   "cell_type": "code",
   "execution_count": null,
   "metadata": {},
   "outputs": [],
   "source": []
  }
 ],
 "metadata": {
  "kernelspec": {
   "display_name": "Python 3",
   "language": "python",
   "name": "python3"
  },
  "language_info": {
   "codemirror_mode": {
    "name": "ipython",
    "version": 3
   },
   "file_extension": ".py",
   "mimetype": "text/x-python",
   "name": "python",
   "nbconvert_exporter": "python",
   "pygments_lexer": "ipython3",
   "version": "3.6.5"
  },
  "varInspector": {
   "cols": {
    "lenName": 16,
    "lenType": 16,
    "lenVar": 40
   },
   "kernels_config": {
    "python": {
     "delete_cmd_postfix": "",
     "delete_cmd_prefix": "del ",
     "library": "var_list.py",
     "varRefreshCmd": "print(var_dic_list())"
    },
    "r": {
     "delete_cmd_postfix": ") ",
     "delete_cmd_prefix": "rm(",
     "library": "var_list.r",
     "varRefreshCmd": "cat(var_dic_list()) "
    }
   },
   "types_to_exclude": [
    "module",
    "function",
    "builtin_function_or_method",
    "instance",
    "_Feature"
   ],
   "window_display": false
  }
 },
 "nbformat": 4,
 "nbformat_minor": 1
}

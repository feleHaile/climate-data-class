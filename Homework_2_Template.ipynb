{
 "cells": [
  {
   "cell_type": "markdown",
   "metadata": {},
   "source": [
    "# Homework 2 Template\n",
    "Climate Data Analysis, ATS 301, Fall 2018\n",
    "\n",
    "## Draft due Oct. 8; Final due Oct. 10\n",
    "\n",
    "\n",
    "This week, we will look at the observational record of Atlantic tropical storms. The data comes from this table: \n",
    "\n",
    "http://www.aoml.noaa.gov/hrd/hurdat/comparison_table.html,\n",
    "\n",
    "but I have converted it into csv format to make it easier to use.  \n",
    "\n",
    "Start by specifing inline plots and importing all the modules you'll need.\n"
   ]
  },
  {
   "cell_type": "code",
   "execution_count": null,
   "metadata": {
    "collapsed": true,
    "scrolled": true
   },
   "outputs": [],
   "source": [
    "# Your code here"
   ]
  },
  {
   "cell_type": "markdown",
   "metadata": {},
   "source": [
    "## 1.\tRead in the Atlantic tropical storm data from the file `/data/ATS_301/Data/tropical_storm_2017.csv`."
   ]
  },
  {
   "cell_type": "code",
   "execution_count": null,
   "metadata": {},
   "outputs": [],
   "source": [
    "# Your code here"
   ]
  },
  {
   "cell_type": "markdown",
   "metadata": {},
   "source": [
    "Be sure to save the citation information in a markdown cell!"
   ]
  },
  {
   "cell_type": "markdown",
   "metadata": {},
   "source": [
    "## 2. Plot the time series of the _revised_ numbers of named storms, hurricanes, and major hurricanes on a single line plot.\n",
    "\n",
    "You can change the plotting options to make the plot nicer than what we did in class."
   ]
  },
  {
   "cell_type": "code",
   "execution_count": null,
   "metadata": {},
   "outputs": [],
   "source": [
    "# Your code here"
   ]
  },
  {
   "cell_type": "markdown",
   "metadata": {},
   "source": [
    "## 3. Create tables with the median, mean, standard deviation, minimum, and maximum values:\n",
    "\n",
    "### 3.1 For the _revised_ named storms, hurricanes, major hurricanes, and US hurricanes. \n"
   ]
  },
  {
   "cell_type": "code",
   "execution_count": null,
   "metadata": {},
   "outputs": [],
   "source": [
    "# Your code here"
   ]
  },
  {
   "cell_type": "markdown",
   "metadata": {},
   "source": [
    "### 3.2 For the _original_ data. "
   ]
  },
  {
   "cell_type": "code",
   "execution_count": null,
   "metadata": {},
   "outputs": [],
   "source": [
    "# Your code here"
   ]
  },
  {
   "cell_type": "markdown",
   "metadata": {},
   "source": [
    "### 3.3 Which statistical properties are the same for the revised and original data? Which ones differ? Discuss some reasons why they may differ."
   ]
  },
  {
   "cell_type": "markdown",
   "metadata": {},
   "source": [
    "Your answer should be about a paragraph. "
   ]
  },
  {
   "cell_type": "markdown",
   "metadata": {},
   "source": [
    "## 4. Histograms\n",
    "\n",
    "### 4.1\tPlot the histograms of the revised numbers of named storms, hurricanes, and major hurricanes on a single plot. Play around with color, transparency, and other `plt.hist` options to create a histogram plot that is easy to understand. "
   ]
  },
  {
   "cell_type": "code",
   "execution_count": null,
   "metadata": {},
   "outputs": [],
   "source": [
    "# Your code here"
   ]
  },
  {
   "cell_type": "markdown",
   "metadata": {},
   "source": [
    "### 4.2 Compare the histograms of the three different variables. Explain why they differ (you may find the statistics from question 3 useful as well here).\n",
    "\n",
    "Your answer should be about a paragraph."
   ]
  },
  {
   "cell_type": "markdown",
   "metadata": {},
   "source": [
    "## 5. Create a bar plot of the time series of the revised numbers of named storms, hurricanes, and major hurricanes, similar to the one shown in class.\n"
   ]
  },
  {
   "cell_type": "code",
   "execution_count": null,
   "metadata": {},
   "outputs": [],
   "source": [
    "# Your code here"
   ]
  },
  {
   "cell_type": "markdown",
   "metadata": {},
   "source": [
    "## 6.  Using the plots from Q. 2 and 5, identify 2-3 periods with low numbers of storms, and some with high.\n",
    "\n",
    "List the year ranges here."
   ]
  },
  {
   "cell_type": "markdown",
   "metadata": {},
   "source": [
    "## 7. ACE\t\n",
    "\n",
    "### 7.1 Plot the ACE from 1951 to the present, similar to the plot from the Lecture.  \n"
   ]
  },
  {
   "cell_type": "code",
   "execution_count": null,
   "metadata": {},
   "outputs": [],
   "source": [
    "# Your code here"
   ]
  },
  {
   "cell_type": "markdown",
   "metadata": {},
   "source": [
    "### 7.2 Describe how ACE has changed with time."
   ]
  },
  {
   "cell_type": "markdown",
   "metadata": {},
   "source": [
    "Two-three sentences."
   ]
  },
  {
   "cell_type": "markdown",
   "metadata": {
    "collapsed": true
   },
   "source": [
    "## 8. Strong hurricanes\n",
    "\n",
    "### 8.1 Plot the fraction of hurricanes that became strong hurricanes from 1970-present. "
   ]
  },
  {
   "cell_type": "code",
   "execution_count": null,
   "metadata": {},
   "outputs": [],
   "source": [
    "# Your code here"
   ]
  },
  {
   "cell_type": "markdown",
   "metadata": {},
   "source": [
    "### 8.2 Does the addition of the most recent years alter the trend?\n",
    "\n",
    "That is, compare this figure to the one in the lecture, which ends in 2012."
   ]
  },
  {
   "cell_type": "markdown",
   "metadata": {},
   "source": [
    "## 9. Discuss whether or not you think the *number* of Atlantic tropical storms have been changing since 1970 <span style=\"color:red\">*due to anthropogenic climate change*</span>."
   ]
  },
  {
   "cell_type": "markdown",
   "metadata": {},
   "source": [
    "About a paragraph.  You don’t need to do a formal trend analysis; just eye-ball it. (Hint: you may want to discuss the difference between *detection* and *attribution*.)\n"
   ]
  },
  {
   "cell_type": "markdown",
   "metadata": {},
   "source": [
    "## Checklist\n",
    "\n",
    "* Notebook re-runs correctly (\"Kernel\" -> \"Restart and run all\" works)\n",
    "* Plots include titles, labels (with units) on x and y axes, and legends (if multiple lines). (Titles are not necessary if they convey no more information than x and y axis labels.)\n",
    "* Numerical values in Markdown or print statements include units.\n",
    "* Answers to “compare,” “explain,” etc. questions are in complete sentences and grammatically correct. \n",
    "\n"
   ]
  },
  {
   "cell_type": "code",
   "execution_count": null,
   "metadata": {
    "collapsed": true
   },
   "outputs": [],
   "source": []
  }
 ],
 "metadata": {
  "kernelspec": {
   "display_name": "Python 3",
   "language": "python",
   "name": "python3"
  },
  "language_info": {
   "codemirror_mode": {
    "name": "ipython",
    "version": 3
   },
   "file_extension": ".py",
   "mimetype": "text/x-python",
   "name": "python",
   "nbconvert_exporter": "python",
   "pygments_lexer": "ipython3",
   "version": "3.6.5"
  },
  "toc": {
   "base_numbering": 1,
   "nav_menu": {},
   "number_sections": false,
   "sideBar": true,
   "skip_h1_title": false,
   "title_cell": "Table of Contents",
   "title_sidebar": "Contents",
   "toc_cell": false,
   "toc_position": {},
   "toc_section_display": true,
   "toc_window_display": false
  },
  "varInspector": {
   "cols": {
    "lenName": 16,
    "lenType": 16,
    "lenVar": 40
   },
   "kernels_config": {
    "python": {
     "delete_cmd_postfix": "",
     "delete_cmd_prefix": "del ",
     "library": "var_list.py",
     "varRefreshCmd": "print(var_dic_list())"
    },
    "r": {
     "delete_cmd_postfix": ") ",
     "delete_cmd_prefix": "rm(",
     "library": "var_list.r",
     "varRefreshCmd": "cat(var_dic_list()) "
    }
   },
   "types_to_exclude": [
    "module",
    "function",
    "builtin_function_or_method",
    "instance",
    "_Feature"
   ],
   "window_display": false
  }
 },
 "nbformat": 4,
 "nbformat_minor": 1
}

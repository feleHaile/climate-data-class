{
 "cells": [
  {
   "cell_type": "markdown",
   "metadata": {},
   "source": [
    "# Homework 3 Template\n",
    "Climate Data Analysis, ATS 301, Fall 2018\n",
    "\n",
    "## Draft due Oct. 22; Final due Oct. 24\n",
    "\n",
    "\n",
    "This week, we will look at a climate model's estimate of future precipitation using the RCP8.5 scenario. The data comes from two files: \n",
    "\n",
    "/data/ATS_301/Data/pr_Amon_GISS-E2-H_rcp85_r1i1p1_200601-205012.nc\n",
    "\n",
    "/data/ATS_301/Data/pr_Amon_GISS-E2-H_rcp85_r1i1p1_205101-210012.nc\n",
    "\n",
    "I downloaded these files from the CMIP5 archive at https://esgf-node.llnl.gov/projects/cmip5/aboutus/.\n",
    "\n",
    "Start by specifing inline plots and importing all the modules you'll need.\n"
   ]
  },
  {
   "cell_type": "code",
   "execution_count": 1,
   "metadata": {
    "collapsed": true,
    "scrolled": true
   },
   "outputs": [],
   "source": [
    "# Your code here"
   ]
  },
  {
   "cell_type": "markdown",
   "metadata": {},
   "source": [
    "## 1.\tRead in and merge the data from both files into a single `<xarray.Dataset>`."
   ]
  },
  {
   "cell_type": "code",
   "execution_count": 2,
   "metadata": {},
   "outputs": [],
   "source": [
    "# Your code here"
   ]
  },
  {
   "cell_type": "markdown",
   "metadata": {},
   "source": [
    "Describe this data set. What model is used? Which experiment is it? What range of years is included? What is the time and spatial resolution? What is the reference for the model documentation?"
   ]
  },
  {
   "cell_type": "markdown",
   "metadata": {},
   "source": [
    "*You can put your answer in this Markdown cell.*"
   ]
  },
  {
   "cell_type": "markdown",
   "metadata": {},
   "source": [
    "For all of the following, use the merged precipitation data.\n",
    "\n",
    "## 2. Plot the annual, global-mean precipitation as a function of time.\n",
    "\n"
   ]
  },
  {
   "cell_type": "code",
   "execution_count": 3,
   "metadata": {},
   "outputs": [],
   "source": [
    "# Your code here"
   ]
  },
  {
   "cell_type": "markdown",
   "metadata": {},
   "source": [
    "Describe how the precipitation changes with time. (One to two sentences.)"
   ]
  },
  {
   "cell_type": "markdown",
   "metadata": {},
   "source": [
    "*You can put your answer in this Markdown cell.*"
   ]
  },
  {
   "cell_type": "markdown",
   "metadata": {},
   "source": [
    "## 3. Plot the seasonal cycle of precipitation (mean monthly precip for each month) :\n",
    "\n",
    "### 3.1 For the global mean\n",
    "\n",
    "### 3.2 For the NH mean\n",
    "\n",
    "### 3.3 For the SH mean\n"
   ]
  },
  {
   "cell_type": "code",
   "execution_count": 4,
   "metadata": {},
   "outputs": [],
   "source": [
    "# Your code here"
   ]
  },
  {
   "cell_type": "markdown",
   "metadata": {},
   "source": [
    "### 3.4 \n",
    "\n",
    "In which month is the NH-mean precipitation the largest? The smallest? In which month is the SH precipitation the largest? The smallest? Why are the maxima and minima in these months? (Two to four sentences.)"
   ]
  },
  {
   "cell_type": "markdown",
   "metadata": {},
   "source": [
    "*You can put your answer in this Markdown cell.*"
   ]
  },
  {
   "cell_type": "markdown",
   "metadata": {},
   "source": [
    "## 4. Plot the time-mean, zonal-mean precipitation (as a function of latitude). "
   ]
  },
  {
   "cell_type": "code",
   "execution_count": 5,
   "metadata": {},
   "outputs": [],
   "source": [
    "# Your code here"
   ]
  },
  {
   "cell_type": "markdown",
   "metadata": {},
   "source": [
    "In which latitudes is the precipitation the largest and smallest? Why? (Two-four sentences.)"
   ]
  },
  {
   "cell_type": "markdown",
   "metadata": {},
   "source": [
    "*You can put your answer in this Markdown cell.*"
   ]
  },
  {
   "cell_type": "markdown",
   "metadata": {},
   "source": [
    "## 5.  Plot precipitation maps (latitude-longitude) for:\n",
    "### 5.1\ttime-mean over all months and years\n",
    "### 5.2 time-mean of first 20 years\n",
    "### 5.3 time-mean of last 20 years\n",
    "### 5.4 absolute difference between the means of the first 20 and last 20 year.\n",
    "### 5.5 fractional difference between the first 20 and last 20-year means\n",
    "\n",
    "Note: use the same contour levels for the first three plots.\n"
   ]
  },
  {
   "cell_type": "code",
   "execution_count": 7,
   "metadata": {},
   "outputs": [],
   "source": [
    "# Your code here"
   ]
  },
  {
   "cell_type": "markdown",
   "metadata": {},
   "source": [
    "### 5.6\n",
    "Where does the precipitation increase between the beginning and end of the 21st Century? Where does it decrease?  Compare the locations of these regions to locations where the precipitation is generally high or low. (about a paragraph). "
   ]
  },
  {
   "cell_type": "markdown",
   "metadata": {},
   "source": [
    "*You can put your answer in this Markdown cell.*"
   ]
  },
  {
   "cell_type": "markdown",
   "metadata": {},
   "source": [
    "## 6. For your chosen month, plot the global-mean precipitation as a function of time.\n",
    "\n"
   ]
  },
  {
   "cell_type": "code",
   "execution_count": 6,
   "metadata": {},
   "outputs": [],
   "source": [
    "# Your code here"
   ]
  },
  {
   "cell_type": "markdown",
   "metadata": {},
   "source": [
    "Describe how the precipitation for this month changes with time. Compare and contrast this with the annual-mean time series. (Two-three sentences.)"
   ]
  },
  {
   "cell_type": "markdown",
   "metadata": {},
   "source": [
    "*You can put your answer in this Markdown cell.*"
   ]
  },
  {
   "cell_type": "markdown",
   "metadata": {},
   "source": [
    "## 7. For your month, plot the time-mean, zonal-mean precipitation (as a function of latitude). "
   ]
  },
  {
   "cell_type": "code",
   "execution_count": 7,
   "metadata": {},
   "outputs": [],
   "source": [
    "# Your code here"
   ]
  },
  {
   "cell_type": "markdown",
   "metadata": {},
   "source": [
    "In which latitudes is the precipitation the largest and smallest? Why? Compare and contrast this with the annual mean. (Two to three sentences.)"
   ]
  },
  {
   "cell_type": "markdown",
   "metadata": {},
   "source": [
    "*You can put your answer in this Markdown cell.*"
   ]
  },
  {
   "cell_type": "markdown",
   "metadata": {},
   "source": [
    "## 8.  For your month, plot precipitation maps (latitude-longitude) for:\n",
    "### 8.1\ttime-mean over all years\n",
    "### 8.2 time-mean of first 20 years\n",
    "### 8.3 time-mean of last 20 years\n",
    "### 8.4 absolute difference between the means of the first 20 and last 20 year.\n",
    "### 8.5 fractional difference between the first 20 and last 20-year means\n",
    "\n",
    "Use the same contour levels for 8.1-8.3 as you did for 5.1-5.3.  Use the same contour levels for 8.4 as you did for 5.4, and for 8.5 as you did for 5.5.\n"
   ]
  },
  {
   "cell_type": "code",
   "execution_count": 7,
   "metadata": {},
   "outputs": [],
   "source": [
    "# Your code here"
   ]
  },
  {
   "cell_type": "markdown",
   "metadata": {},
   "source": [
    "### 8.6\n",
    "Where does the precipitation increase between the beginning and end of the 21st Century? Where does it decrease? \n",
    "\n",
    "Compare and contrast these maps (8.1-8.5) to those for the annual means (5.1-5.5). For example, are there regions where precipitation changes between the first and last 20 years in the annual mean, but not for your month? If possible, explain the main differences. (about two paragraphs). "
   ]
  },
  {
   "cell_type": "markdown",
   "metadata": {},
   "source": [
    "*You can put your answer in this Markdown cell.*"
   ]
  },
  {
   "cell_type": "markdown",
   "metadata": {},
   "source": [
    "## Checklist\n",
    "\n",
    "* Notebook re-runs correctly (\"Kernel\" -> \"Restart and run all\" works)\n",
    "* Plots include titles, labels (with units) on x and y axes, and legends (if multiple lines). (Titles are not necessary if they convey no more information than x and y axis labels.)\n",
    "* Numerical values in Markdown or print statements include units.\n",
    "* Answers to “compare,” “explain,” etc. questions are in complete sentences and grammatically correct. \n",
    "\n"
   ]
  },
  {
   "cell_type": "code",
   "execution_count": null,
   "metadata": {
    "collapsed": true
   },
   "outputs": [],
   "source": []
  }
 ],
 "metadata": {
  "kernelspec": {
   "display_name": "Python 3",
   "language": "python",
   "name": "python3"
  },
  "language_info": {
   "codemirror_mode": {
    "name": "ipython",
    "version": 3
   },
   "file_extension": ".py",
   "mimetype": "text/x-python",
   "name": "python",
   "nbconvert_exporter": "python",
   "pygments_lexer": "ipython3",
   "version": "3.6.5"
  },
  "toc": {
   "base_numbering": 1,
   "nav_menu": {},
   "number_sections": false,
   "sideBar": true,
   "skip_h1_title": false,
   "title_cell": "Table of Contents",
   "title_sidebar": "Contents",
   "toc_cell": false,
   "toc_position": {},
   "toc_section_display": true,
   "toc_window_display": false
  },
  "varInspector": {
   "cols": {
    "lenName": 16,
    "lenType": 16,
    "lenVar": 40
   },
   "kernels_config": {
    "python": {
     "delete_cmd_postfix": "",
     "delete_cmd_prefix": "del ",
     "library": "var_list.py",
     "varRefreshCmd": "print(var_dic_list())"
    },
    "r": {
     "delete_cmd_postfix": ") ",
     "delete_cmd_prefix": "rm(",
     "library": "var_list.r",
     "varRefreshCmd": "cat(var_dic_list()) "
    }
   },
   "types_to_exclude": [
    "module",
    "function",
    "builtin_function_or_method",
    "instance",
    "_Feature"
   ],
   "window_display": false
  }
 },
 "nbformat": 4,
 "nbformat_minor": 1
}

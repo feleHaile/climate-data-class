{
 "cells": [
  {
   "cell_type": "markdown",
   "metadata": {},
   "source": [
    "# Computer Lab 2: Variables, modules, Markdown, basic plots\n",
    "Climate Data Analysis, ATS 301, Fall 2018\t\t\t\t\t\n",
    "\n",
    "Primary objective for today:\n",
    "\tCreate temperature anomaly plot similar to the GISTEMP plot, using pre-downloaded GISTEMP data\n",
    "\n",
    "Secondary objectives:\n",
    "\tGain basic familiarity with Jupyter interface and Python: variables, functions, loading modules, Markdown cells.\n",
    "\n",
    "\n",
    "## Pre-Lab\n",
    "\n",
    "Start by logging on to the server (https://jupyter.coas.oregonstate.edu), and opening your pre-Lab 1 \"notebook\". \n",
    "\n",
    "You hopefully were able to calculate the effective blackbody temperature of the Earth:\n",
    "\n",
    "<p style=\"text-align:center;\">$S(1-\\alpha)=\\sigma T^4$\n",
    "<p>\n",
    "\n",
    "•\tWhere S is the solar constant (340 Wm$^{-2}$)\n",
    "\n",
    "•\tα is the planetary albedo (0.3)\n",
    "\n",
    "•\tσ is the Stephan-Boltzman contant (5.67 x 10$^{-8}$ Wm$^{-2}$K$^{-4}$)\n",
    "\n",
    "•\tand T is the effective blackbody temperature (in K). \n",
    "\n",
    "(You may find it helpful that you can take the nth root of something using exponentiation to the 1/n power.)\n",
    "\n",
    "If you were not able to do this calculation, we will go over it now.    "
   ]
  },
  {
   "cell_type": "markdown",
   "metadata": {},
   "source": [
    "## Pre-Lab: Variables\n",
    "\n",
    "Say you wanted to calculate T for a whole bunch of different values of the solar constant and albedo. Rather than copying and pasting the previous line, or retyping, the better way is to use *variables*. By assigning a *value* to a variable, you can use it again later. This also ensures that the same value is used for a variable everywhere in your code. You only have to change it in one place, and then it’s the same everywhere when you re-run the code.  Otherwise, you may accidently use the old value somewhere.\n",
    "\n",
    "There are different conventions for naming variables. I prefer descriptive words, separated by underscores. <b>You cannot use spaces in a variable name.</b> \n"
   ]
  },
  {
   "cell_type": "code",
   "execution_count": 1,
   "metadata": {},
   "outputs": [],
   "source": [
    "solar_constant=340"
   ]
  },
  {
   "cell_type": "code",
   "execution_count": 2,
   "metadata": {},
   "outputs": [],
   "source": [
    "albedo=0.3"
   ]
  },
  {
   "cell_type": "markdown",
   "metadata": {},
   "source": [
    "Notice that there is no output this time. That is because the interpreter is doing *assignment* rather than *evaluation*. (See *Think Python* for an explanation of this.) \n",
    "\n",
    "Now we can use these variables to calculate the absorbed solar radiation.\n"
   ]
  },
  {
   "cell_type": "code",
   "execution_count": 3,
   "metadata": {},
   "outputs": [
    {
     "data": {
      "text/plain": [
       "237.99999999999997"
      ]
     },
     "execution_count": 3,
     "metadata": {},
     "output_type": "execute_result"
    }
   ],
   "source": [
    "solar_constant * (1-albedo)"
   ]
  },
  {
   "cell_type": "markdown",
   "metadata": {},
   "source": [
    "Now you’ve calculated the absorbed solar radiation. **Compare your answer with your neighbor before moving on.** \n",
    "\n",
    "You don’t have to enter in all of the commands one line at a time (in fact, you normally don’t want to). You can keep adding lines to the cell until you press 'shift-enter'.\n"
   ]
  },
  {
   "cell_type": "code",
   "execution_count": 4,
   "metadata": {},
   "outputs": [
    {
     "data": {
      "text/plain": [
       "239.39999999999998"
      ]
     },
     "execution_count": 4,
     "metadata": {},
     "output_type": "execute_result"
    }
   ],
   "source": [
    "new_solar=342\n",
    "new_solar*(1-albedo)"
   ]
  },
  {
   "cell_type": "markdown",
   "metadata": {},
   "source": [
    "Here, you’ve calculated the absorbed solar radiation for a slightly brighter sun. Notice that the value of `albedo` is the same. Actually, `solar_constant` is the same as well, since you haven’t changed that either. You can reassign a value to a variable using “`=`” again. Here I’ll increase the solar constant yet again.\n"
   ]
  },
  {
   "cell_type": "code",
   "execution_count": 7,
   "metadata": {},
   "outputs": [
    {
     "name": "stdout",
     "output_type": "stream",
     "text": [
      "344\n"
     ]
    },
    {
     "data": {
      "text/plain": [
       "240.79999999999998"
      ]
     },
     "execution_count": 7,
     "metadata": {},
     "output_type": "execute_result"
    }
   ],
   "source": [
    "print(new_solar)\n",
    "new_solar*(1-albedo)"
   ]
  },
  {
   "cell_type": "markdown",
   "metadata": {},
   "source": [
    "One thing to note here is that if you want to output the values from lines before the last one is that you need to use a *`print` command* to output this. See the discussion of *interactive* vs *script mode* in *Think Python*.\n",
    "\n",
    "Here, I use `print` statements to check on the values of the two different solar constant variables. Before you run this cell, write down what you expect the output to be.\n"
   ]
  },
  {
   "cell_type": "code",
   "execution_count": 9,
   "metadata": {},
   "outputs": [
    {
     "name": "stdout",
     "output_type": "stream",
     "text": [
      "346\n",
      "340\n"
     ]
    },
    {
     "data": {
      "text/plain": [
       "0.3"
      ]
     },
     "execution_count": 9,
     "metadata": {},
     "output_type": "execute_result"
    }
   ],
   "source": [
    "new_solar=346\n",
    "print(new_solar)\n",
    "print(solar_constant)\n",
    "new_solar*(1-albedo)\n",
    "albedo"
   ]
  },
  {
   "cell_type": "markdown",
   "metadata": {},
   "source": [
    "<b>To do</b>: Given the 0-D energy balance model, calculate the effective temperature based on a solar constant of 340 Wm$^{-2}$, albedo of 0.3, but this time, use variable names for everything. "
   ]
  },
  {
   "cell_type": "code",
   "execution_count": null,
   "metadata": {
    "code_folding": []
   },
   "outputs": [],
   "source": [
    "####### your code goes here #######"
   ]
  },
  {
   "cell_type": "markdown",
   "metadata": {},
   "source": [
    "## Python functions\n",
    "\n",
    "Python can do more than math operations. Say you wanted to calculate the absolute value of something. Try this:"
   ]
  },
  {
   "cell_type": "code",
   "execution_count": 1,
   "metadata": {},
   "outputs": [
    {
     "data": {
      "text/plain": [
       "0.5"
      ]
     },
     "execution_count": 1,
     "metadata": {},
     "output_type": "execute_result"
    }
   ],
   "source": [
    "abs(-0.5)"
   ]
  },
  {
   "cell_type": "code",
   "execution_count": 3,
   "metadata": {},
   "outputs": [],
   "source": [
    "abs_point_five=abs(0.5)"
   ]
  },
  {
   "cell_type": "markdown",
   "metadata": {},
   "source": [
    "`abs` is a *function*.  You already knew one function (`print`), and now you know two. Functions take *arguments* as *input*, and *return* a value (or values, as we’ll see later). In this case, Some functions take more than one argument, and some allow you to specify optional arguments. \n",
    "\n",
    "The `abs` function, as used above, is not very interesting, since you already know the answer. However, when we combine functions with *variables*, they become much more valuable.\n",
    "\n",
    "Say you wanted to calculate the absolute value for a whole bunch of different numbers. Rather than copying and pasting the previous line, or retyping, the better way is to use variables. Since a common quantity of interest in in climate is a temperature change, let’s create a new temperature change variable:\n",
    "\n"
   ]
  },
  {
   "cell_type": "code",
   "execution_count": 4,
   "metadata": {},
   "outputs": [
    {
     "name": "stdout",
     "output_type": "stream",
     "text": [
      "0.5\n"
     ]
    }
   ],
   "source": [
    "temp_change = 0.5\n",
    "print(temp_change)"
   ]
  },
  {
   "cell_type": "markdown",
   "metadata": {},
   "source": [
    "Now, whenever you use temp_change in your code, python will replace it with whatever value you last set it to. (Note: it will use the last value, which is not always what you intend it to use. If your code gets long (later on in the class), use a `print` statement to verify the value is what you think it is.) \n",
    "\n",
    "Now, use this variable in the `abs` function:\n"
   ]
  },
  {
   "cell_type": "code",
   "execution_count": 5,
   "metadata": {},
   "outputs": [
    {
     "data": {
      "text/plain": [
       "0.5"
      ]
     },
     "execution_count": 5,
     "metadata": {},
     "output_type": "execute_result"
    }
   ],
   "source": [
    "abs(temp_change)"
   ]
  },
  {
   "cell_type": "markdown",
   "metadata": {},
   "source": [
    "Try with a different temp_change value:\n"
   ]
  },
  {
   "cell_type": "code",
   "execution_count": 6,
   "metadata": {},
   "outputs": [
    {
     "data": {
      "text/plain": [
       "0.7"
      ]
     },
     "execution_count": 6,
     "metadata": {},
     "output_type": "execute_result"
    }
   ],
   "source": [
    "temp_change = -0.7\n",
    "abs(temp_change)"
   ]
  },
  {
   "cell_type": "markdown",
   "metadata": {},
   "source": [
    "While this doesn’t seem like it is any more efficient right now, it will become more useful when you have multiple calculations in a row.\n",
    "\n",
    "## Save your work\n",
    "\n",
    "Now would be a good time to save your work.\n",
    "\n",
    "Go to the \"File\" menu and select \"Save and Checkpoint\", or click on the disk icon in the toolbar.  You should do this often.\n",
    "\n",
    "## Python modules\n",
    "\n",
    "The base Python includes only a few _functions_ by default. `abs` is an example of a built-in Python function. It takes a value (`temp_change` in our case) and returns the absolute value. But basic Python does not include many built-in functions.\n",
    "\n",
    "To extend the functionality of Python, we use _modules_. Modules are files that have predefined functions that you can _import_ into and use in Python.  This allows for great customization of Python, but it can be challenging sometimes when you are trying to find a particular function, and don’t remember which module it’s in. I recommend keeping a “cheat sheet” of functions you often use, so you can refer back to it to remember how to do certain calculations or plots.\n",
    "\n",
    "Some common modules we’ll use in this class are `matplotlib`, which includes basic plotting commands and is intended to be similar to Matlab, and `numpy`, which allows us to do neat things with multi-dimension arrays. In the spirit of continuing to jump into the deep end, today we’ll just start using them, and talk about what they actually do later.\n"
   ]
  },
  {
   "cell_type": "markdown",
   "metadata": {},
   "source": [
    "First, we need to _import_ the modules. Actually, **before** importing the `matplotlib` functions, we use the `%matplotlib inline` command to tell Jupyter to include the plots _inline_ on this web interface, rather than as a separate window. <span style=\"color:red\">**If you use a matplotlib function before you run this command, you will need to rewrite your code and \"restart and rerun\" the kernel to get inline plotting to work.**</span>\n",
    "\n",
    "The first `import` command imports the `pyplot` subset of functions from the `matplotlib` module. To simpify our code, we are giving these functions the nickname of `plt`. (Otherwise, we would have to write `matplotlib.pyplot` every place you see `plt` below.)\n",
    "\n",
    "We are also importing the `numpy` module, shortening the name to `np` so that we don't have to type the three extra characters. Programmers are lazy.\n"
   ]
  },
  {
   "cell_type": "code",
   "execution_count": 7,
   "metadata": {
    "scrolled": true
   },
   "outputs": [],
   "source": [
    "%matplotlib inline\n",
    "import matplotlib.pyplot as plt\n",
    "import numpy as np"
   ]
  },
  {
   "cell_type": "markdown",
   "metadata": {},
   "source": [
    "In general, it's a good idea to import all of the modules you need for a particular notebook in the very first code cell of the notebook. \n",
    "\n",
    "## Our first look at the GISTEMP Data\n",
    "\n",
    "Next week, you will learn how to read in data from a file and save it in variables. But, today, we just want to make a quick plot so that we have something pretty to look at this first lab.  So I have already extracted the variables for you. \n",
    "\n",
    "The following command \"runs\" the Python code to get this data. The code is in the `/Data/ATS_301/Share/` directory, rather than your home directory, so we have to tell the computer exactly where it is.\n",
    "\n",
    "After the command runs, you will have the data stored in the variables `glob_ann_gistemp` (global annual average temperature anomaly) and `gistemp_year` (corresponding year for each anomaly). These are a special type of variable called an *array*, which we'll learn more about next week.\n"
   ]
  },
  {
   "cell_type": "code",
   "execution_count": 8,
   "metadata": {},
   "outputs": [],
   "source": [
    "%run /data/ATS_301/Share/Gistemp.ipynb"
   ]
  },
  {
   "cell_type": "markdown",
   "metadata": {},
   "source": [
    "Let's look at all the year values, just to make sure they look reasonable. Normally, you wouldn't want to look at all the data, since it would be too long, but let's try it just this once."
   ]
  },
  {
   "cell_type": "code",
   "execution_count": 9,
   "metadata": {},
   "outputs": [
    {
     "name": "stdout",
     "output_type": "stream",
     "text": [
      "[1880. 1881. 1882. 1883. 1884. 1885. 1886. 1887. 1888. 1889. 1890. 1891.\n",
      " 1892. 1893. 1894. 1895. 1896. 1897. 1898. 1899. 1900. 1901. 1902. 1903.\n",
      " 1904. 1905. 1906. 1907. 1908. 1909. 1910. 1911. 1912. 1913. 1914. 1915.\n",
      " 1916. 1917. 1918. 1919. 1920. 1921. 1922. 1923. 1924. 1925. 1926. 1927.\n",
      " 1928. 1929. 1930. 1931. 1932. 1933. 1934. 1935. 1936. 1937. 1938. 1939.\n",
      " 1940. 1941. 1942. 1943. 1944. 1945. 1946. 1947. 1948. 1949. 1950. 1951.\n",
      " 1952. 1953. 1954. 1955. 1956. 1957. 1958. 1959. 1960. 1961. 1962. 1963.\n",
      " 1964. 1965. 1966. 1967. 1968. 1969. 1970. 1971. 1972. 1973. 1974. 1975.\n",
      " 1976. 1977. 1978. 1979. 1980. 1981. 1982. 1983. 1984. 1985. 1986. 1987.\n",
      " 1988. 1989. 1990. 1991. 1992. 1993. 1994. 1995. 1996. 1997. 1998. 1999.\n",
      " 2000. 2001. 2002. 2003. 2004. 2005. 2006. 2007. 2008. 2009. 2010. 2011.\n",
      " 2012. 2013. 2014. 2015. 2016. 2017.]\n"
     ]
    }
   ],
   "source": [
    "print(gistemp_year)"
   ]
  },
  {
   "cell_type": "code",
   "execution_count": 10,
   "metadata": {},
   "outputs": [
    {
     "name": "stdout",
     "output_type": "stream",
     "text": [
      "[-0.18 -0.09 -0.1  -0.19 -0.29 -0.31 -0.32 -0.34 -0.18 -0.11 -0.37 -0.24\n",
      " -0.27 -0.32 -0.31 -0.22 -0.11 -0.12 -0.28 -0.18 -0.09 -0.15 -0.3  -0.39\n",
      " -0.49 -0.29 -0.22 -0.39 -0.43 -0.47 -0.43 -0.43 -0.35 -0.35 -0.15 -0.12\n",
      " -0.33 -0.44 -0.28 -0.26 -0.25 -0.17 -0.27 -0.24 -0.25 -0.2  -0.09 -0.2\n",
      " -0.19 -0.35 -0.14 -0.1  -0.17 -0.3  -0.14 -0.21 -0.16 -0.04 -0.03 -0.03\n",
      "  0.12  0.18  0.06  0.07  0.21  0.09 -0.07 -0.04 -0.1  -0.11 -0.18 -0.06\n",
      "  0.01  0.07 -0.15 -0.15 -0.21  0.04  0.07  0.03 -0.02  0.06  0.04  0.07\n",
      " -0.2  -0.1  -0.05 -0.02 -0.08  0.07  0.03 -0.09  0.01  0.16 -0.08 -0.01\n",
      " -0.11  0.17  0.06  0.16  0.27  0.33  0.13  0.31  0.16  0.12  0.18  0.33\n",
      "  0.41  0.29  0.44  0.41  0.22  0.24  0.31  0.45  0.34  0.47  0.62  0.4\n",
      "  0.4   0.54  0.63  0.61  0.54  0.67  0.62  0.64  0.51  0.63  0.7   0.58\n",
      "  0.61  0.64  0.73  0.87  0.99  0.89]\n"
     ]
    }
   ],
   "source": [
    "print(glob_ann_gistemp)"
   ]
  },
  {
   "cell_type": "markdown",
   "metadata": {},
   "source": [
    "When you use a new dataset, it's always a good idea to do some sanity checks before using it. Let's start by exploring some basic aspects of the array. The function `np.shape` will tell you the size of a numpy array."
   ]
  },
  {
   "cell_type": "code",
   "execution_count": 11,
   "metadata": {},
   "outputs": [
    {
     "data": {
      "text/plain": [
       "(138,)"
      ]
     },
     "execution_count": 11,
     "metadata": {},
     "output_type": "execute_result"
    }
   ],
   "source": [
    "np.shape(glob_ann_gistemp)"
   ]
  },
  {
   "cell_type": "markdown",
   "metadata": {},
   "source": [
    "Since the array is 1-D, the first number (the length of the array) is followed by a comma and nothing else. If the array had multiple dimensions, there would be additional numbers here.\n",
    "\n",
    "Verify that the size of the year array is the same before moving on."
   ]
  },
  {
   "cell_type": "code",
   "execution_count": 12,
   "metadata": {
    "code_folding": []
   },
   "outputs": [
    {
     "data": {
      "text/plain": [
       "(138,)"
      ]
     },
     "execution_count": 12,
     "metadata": {},
     "output_type": "execute_result"
    }
   ],
   "source": [
    "# Your code goes here.\n",
    "\n",
    "np.shape(gistemp_year)"
   ]
  },
  {
   "cell_type": "markdown",
   "metadata": {},
   "source": [
    "Based on what you already know (in this case, you can see the final plot you’re trying to make, but generally you’ll have to use rely more on your own background knowledge) what do you expect the maxumim and minimum values to be, approximately? Add a *Markdown cell* with your rough estimate before continuing.\n",
    "\n",
    "**To add a Markdown cell**, start in a new cell, go to the pull-down menu that says \"Code\", and switch it to \"Markdown\". Now, you can just type in plain text. When you run the cell, it converts it to text like you see here."
   ]
  },
  {
   "cell_type": "markdown",
   "metadata": {},
   "source": [
    "Hello, world."
   ]
  },
  {
   "cell_type": "markdown",
   "metadata": {},
   "source": [
    "### Add your Markdown cell here\n",
    "\n",
    "Based on the plot shown in class, I expect the maximum value to be about XXXXX.\n",
    "\n",
    "Don't forget to include the units."
   ]
  },
  {
   "cell_type": "markdown",
   "metadata": {},
   "source": [
    "Now calculate the actual max and min temp anomalies to verify they're about what you expect. The `min` and `max` functions do what you would expect:"
   ]
  },
  {
   "cell_type": "code",
   "execution_count": 13,
   "metadata": {
    "scrolled": true
   },
   "outputs": [
    {
     "data": {
      "text/plain": [
       "0.99"
      ]
     },
     "execution_count": 13,
     "metadata": {},
     "output_type": "execute_result"
    }
   ],
   "source": [
    "max(glob_ann_gistemp)"
   ]
  },
  {
   "cell_type": "code",
   "execution_count": 14,
   "metadata": {},
   "outputs": [
    {
     "data": {
      "text/plain": [
       "-0.49"
      ]
     },
     "execution_count": 14,
     "metadata": {},
     "output_type": "execute_result"
    }
   ],
   "source": [
    "min(glob_ann_gistemp)"
   ]
  },
  {
   "cell_type": "markdown",
   "metadata": {},
   "source": [
    "## Plotting\n",
    "\n",
    "Now you are ready to make your first plot, using the `matplotlib` module.\n",
    "\n",
    "http://matplotlib.org/users/pyplot_tutorial.html provides an introduction to basic plotting using these `pyplot` functions. You can also check out the matplotlib documentation through the Help menu in the menu bar.\n",
    "\n",
    "The basic command to plot an x-y plot (scatterplot or line plot) is `plt.plot`. The `plt` part at the beginning of the functions tells us that we are using functions from the `matplotlib` module called `pyplot` (which we imported in an earlier step). "
   ]
  },
  {
   "cell_type": "code",
   "execution_count": 15,
   "metadata": {},
   "outputs": [
    {
     "data": {
      "text/plain": [
       "[<matplotlib.lines.Line2D at 0x7f30857e0390>]"
      ]
     },
     "execution_count": 15,
     "metadata": {},
     "output_type": "execute_result"
    },
    {
     "data": {
      "image/png": "[encoded data removed]",
      "text/plain": [
       "<Figure size 432x288 with 1 Axes>"
      ]
     },
     "metadata": {
      "needs_background": "light"
     },
     "output_type": "display_data"
    }
   ],
   "source": [
    "plt.plot(glob_ann_gistemp)"
   ]
  },
  {
   "cell_type": "markdown",
   "metadata": {},
   "source": [
    "What is plotted on the x axis? What is on the y axis?\n",
    "\n",
    "Since we didn't specify values to use for the x-axis, Python just used the _index_ associated with each temperature anomaly data point for the plot. However, we know what the year values are, so we can include them explictly.\n",
    "\n",
    "Redo this plot to show time on the x axis, rather index, by using a different form of the `plot` command. Rather than one _argument_, this one takes two. The first is the list of x values for each point. The second is the list of y values for each point. (If the lists are different lengths, you will get an error.)\n",
    "\n",
    "So the plot command become\n"
   ]
  },
  {
   "cell_type": "code",
   "execution_count": 16,
   "metadata": {
    "scrolled": false
   },
   "outputs": [
    {
     "data": {
      "text/plain": [
       "[<matplotlib.lines.Line2D at 0x7f308577c400>]"
      ]
     },
     "execution_count": 16,
     "metadata": {},
     "output_type": "execute_result"
    },
    {
     "data": {
      "image/png": "[encoded data removed]",
      "text/plain": [
       "<Figure size 432x288 with 1 Axes>"
      ]
     },
     "metadata": {
      "needs_background": "light"
     },
     "output_type": "display_data"
    }
   ],
   "source": [
    "plt.plot(gistemp_year,glob_ann_gistemp)"
   ]
  },
  {
   "cell_type": "markdown",
   "metadata": {},
   "source": [
    "We need to add labels to our plot. `plt.xlabel`, `plt.ylabel`, and `plt.title` add the specified text to the axes and title. The title is a little long, so we'll change the font size. Try this cell with a larger or smaller `size` to see what happens."
   ]
  },
  {
   "cell_type": "code",
   "execution_count": 17,
   "metadata": {
    "scrolled": false
   },
   "outputs": [
    {
     "data": {
      "text/plain": [
       "Text(0.5,1,'Global Mean Estimates based on Land and Ocean Data (GISTEMP)')"
      ]
     },
     "execution_count": 17,
     "metadata": {},
     "output_type": "execute_result"
    },
    {
     "data": {
      "image/png": "[encoded data removed]",
      "text/plain": [
       "<Figure size 432x288 with 1 Axes>"
      ]
     },
     "metadata": {
      "needs_background": "light"
     },
     "output_type": "display_data"
    }
   ],
   "source": [
    "plt.plot(gistemp_year,glob_ann_gistemp)\n",
    "plt.ylabel(\"Temperature Anomaly (°C)\")\n",
    "plt.xlabel(\"Year\")\n",
    "plt.title(\"Global Mean Estimates based on Land and Ocean Data (GISTEMP)\",size=10)"
   ]
  },
  {
   "cell_type": "markdown",
   "metadata": {},
   "source": [
    "The plot we are trying to replicate uses black markers for the data points. How do we do this?\n",
    "\n",
    "The `plt.plot` function has many options. To see what these are, we use the `help` command. The `help` command will be one of your greatest friends this term. It will provide you with all sorts of information about how to use various functions.\n"
   ]
  },
  {
   "cell_type": "code",
   "execution_count": 18,
   "metadata": {
    "scrolled": true
   },
   "outputs": [
    {
     "name": "stdout",
     "output_type": "stream",
     "text": [
      "Help on function plot in module matplotlib.pyplot:\n",
      "\n",
      "plot(*args, **kwargs)\n",
      "    Plot y versus x as lines and/or markers.\n",
      "    \n",
      "    Call signatures::\n",
      "    \n",
      "        plot([x], y, [fmt], data=None, **kwargs)\n",
      "        plot([x], y, [fmt], [x2], y2, [fmt2], ..., **kwargs)\n",
      "    \n",
      "    The coordinates of the points or line nodes are given by *x*, *y*.\n",
      "    \n",
      "    The optional parameter *fmt* is a convenient way for defining basic\n",
      "    formatting like color, marker and linestyle. It's a shortcut string\n",
      "    notation described in the *Notes* section below.\n",
      "    \n",
      "    >>> plot(x, y)        # plot x and y using default line style and color\n",
      "    >>> plot(x, y, 'bo')  # plot x and y using blue circle markers\n",
      "    >>> plot(y)           # plot y using x as index array 0..N-1\n",
      "    >>> plot(y, 'r+')     # ditto, but with red plusses\n",
      "    \n",
      "    You can use `.Line2D` properties as keyword arguments for more\n",
      "    control on the  appearance. Line properties and *fmt* can be mixed.\n",
      "    The following two calls yield identical results:\n",
      "    \n",
      "    >>> plot(x, y, 'go--', linewidth=2, markersize=12)\n",
      "    >>> plot(x, y, color='green', marker='o', linestyle='dashed',\n",
      "            linewidth=2, markersize=12)\n",
      "    \n",
      "    When conflicting with *fmt*, keyword arguments take precedence.\n",
      "    \n",
      "    **Plotting labelled data**\n",
      "    \n",
      "    There's a convenient way for plotting objects with labelled data (i.e.\n",
      "    data that can be accessed by index ``obj['y']``). Instead of giving\n",
      "    the data in *x* and *y*, you can provide the object in the *data*\n",
      "    parameter and just give the labels for *x* and *y*::\n",
      "    \n",
      "    >>> plot('xlabel', 'ylabel', data=obj)\n",
      "    \n",
      "    All indexable objects are supported. This could e.g. be a `dict`, a\n",
      "    `pandas.DataFame` or a structured numpy array.\n",
      "    \n",
      "    \n",
      "    **Plotting multiple sets of data**\n",
      "    \n",
      "    There are various ways to plot multiple sets of data.\n",
      "    \n",
      "    - The most straight forward way is just to call `plot` multiple times.\n",
      "      Example:\n",
      "    \n",
      "      >>> plot(x1, y1, 'bo')\n",
      "      >>> plot(x2, y2, 'go')\n",
      "    \n",
      "    - Alternatively, if your data is already a 2d array, you can pass it\n",
      "      directly to *x*, *y*. A separate data set will be drawn for every\n",
      "      column.\n",
      "    \n",
      "      Example: an array ``a`` where the first column represents the *x*\n",
      "      values and the other columns are the *y* columns::\n",
      "    \n",
      "      >>> plot(a[0], a[1:])\n",
      "    \n",
      "    - The third way is to specify multiple sets of *[x]*, *y*, *[fmt]*\n",
      "      groups::\n",
      "    \n",
      "      >>> plot(x1, y1, 'g^', x2, y2, 'g-')\n",
      "    \n",
      "      In this case, any additional keyword argument applies to all\n",
      "      datasets. Also this syntax cannot be combined with the *data*\n",
      "      parameter.\n",
      "    \n",
      "    By default, each line is assigned a different style specified by a\n",
      "    'style cycle'. The *fmt* and line property parameters are only\n",
      "    necessary if you want explicit deviations from these defaults.\n",
      "    Alternatively, you can also change the style cycle using the\n",
      "    'axes.prop_cycle' rcParam.\n",
      "    \n",
      "    Parameters\n",
      "    ----------\n",
      "    x, y : array-like or scalar\n",
      "        The horizontal / vertical coordinates of the data points.\n",
      "        *x* values are optional. If not given, they default to\n",
      "        ``[0, ..., N-1]``.\n",
      "    \n",
      "        Commonly, these parameters are arrays of length N. However,\n",
      "        scalars are supported as well (equivalent to an array with\n",
      "        constant value).\n",
      "    \n",
      "        The parameters can also be 2-dimensional. Then, the columns\n",
      "        represent separate data sets.\n",
      "    \n",
      "    fmt : str, optional\n",
      "        A format string, e.g. 'ro' for red circles. See the *Notes*\n",
      "        section for a full description of the format strings.\n",
      "    \n",
      "        Format strings are just an abbreviation for quickly setting\n",
      "        basic line properties. All of these and more can also be\n",
      "        controlled by keyword arguments.\n",
      "    \n",
      "    data : indexable object, optional\n",
      "        An object with labelled data. If given, provide the label names to\n",
      "        plot in *x* and *y*.\n",
      "    \n",
      "        .. note::\n",
      "            Technically there's a slight ambiguity in calls where the\n",
      "            second label is a valid *fmt*. `plot('n', 'o', data=obj)`\n",
      "            could be `plt(x, y)` or `plt(y, fmt)`. In such cases,\n",
      "            the former interpretation is chosen, but a warning is issued.\n",
      "            You may suppress the warning by adding an empty format string\n",
      "            `plot('n', 'o', '', data=obj)`.\n",
      "    \n",
      "    \n",
      "    Other Parameters\n",
      "    ----------------\n",
      "    scalex, scaley : bool, optional, default: True\n",
      "        These parameters determined if the view limits are adapted to\n",
      "        the data limits. The values are passed on to `autoscale_view`.\n",
      "    \n",
      "    **kwargs : `.Line2D` properties, optional\n",
      "        *kwargs* are used to specify properties like a line label (for\n",
      "        auto legends), linewidth, antialiasing, marker face color.\n",
      "        Example::\n",
      "    \n",
      "        >>> plot([1,2,3], [1,2,3], 'go-', label='line 1', linewidth=2)\n",
      "        >>> plot([1,2,3], [1,4,9], 'rs',  label='line 2')\n",
      "    \n",
      "        If you make multiple lines with one plot command, the kwargs\n",
      "        apply to all those lines.\n",
      "    \n",
      "        Here is a list of available `.Line2D` properties:\n",
      "    \n",
      "          agg_filter: a filter function, which takes a (m, n, 3) float array and a dpi value, and returns a (m, n, 3) array \n",
      "      alpha: float (0.0 transparent through 1.0 opaque) \n",
      "      animated: bool \n",
      "      antialiased or aa: bool \n",
      "      clip_box: a `.Bbox` instance \n",
      "      clip_on: bool \n",
      "      clip_path: [(`~matplotlib.path.Path`, `.Transform`) | `.Patch` | None] \n",
      "      color or c: any matplotlib color \n",
      "      contains: a callable function \n",
      "      dash_capstyle: ['butt' | 'round' | 'projecting'] \n",
      "      dash_joinstyle: ['miter' | 'round' | 'bevel'] \n",
      "      dashes: sequence of on/off ink in points \n",
      "      drawstyle: ['default' | 'steps' | 'steps-pre' | 'steps-mid' | 'steps-post'] \n",
      "      figure: a `.Figure` instance \n",
      "      fillstyle: ['full' | 'left' | 'right' | 'bottom' | 'top' | 'none'] \n",
      "      gid: an id string \n",
      "      label: object \n",
      "      linestyle or ls: ['solid' | 'dashed', 'dashdot', 'dotted' | (offset, on-off-dash-seq) | ``'-'`` | ``'--'`` | ``'-.'`` | ``':'`` | ``'None'`` | ``' '`` | ``''``]\n",
      "      linewidth or lw: float value in points \n",
      "      marker: :mod:`A valid marker style <matplotlib.markers>`\n",
      "      markeredgecolor or mec: any matplotlib color \n",
      "      markeredgewidth or mew: float value in points \n",
      "      markerfacecolor or mfc: any matplotlib color \n",
      "      markerfacecoloralt or mfcalt: any matplotlib color \n",
      "      markersize or ms: float \n",
      "      markevery: [None | int | length-2 tuple of int | slice | list/array of int | float | length-2 tuple of float]\n",
      "      path_effects: `.AbstractPathEffect` \n",
      "      picker: float distance in points or callable pick function ``fn(artist, event)`` \n",
      "      pickradius: float distance in points\n",
      "      rasterized: bool or None \n",
      "      sketch_params: (scale: float, length: float, randomness: float) \n",
      "      snap: bool or None \n",
      "      solid_capstyle: ['butt' | 'round' |  'projecting'] \n",
      "      solid_joinstyle: ['miter' | 'round' | 'bevel'] \n",
      "      transform: a :class:`matplotlib.transforms.Transform` instance \n",
      "      url: a url string \n",
      "      visible: bool \n",
      "      xdata: 1D array \n",
      "      ydata: 1D array \n",
      "      zorder: float \n",
      "    \n",
      "    Returns\n",
      "    -------\n",
      "    lines\n",
      "        A list of `.Line2D` objects representing the plotted data.\n",
      "    \n",
      "    \n",
      "    See Also\n",
      "    --------\n",
      "    scatter : XY scatter plot with markers of variing size and/or color (\n",
      "        sometimes also called bubble chart).\n",
      "    \n",
      "    \n",
      "    Notes\n",
      "    -----\n",
      "    **Format Strings**\n",
      "    \n",
      "    A format string consists of a part for color, marker and line::\n",
      "    \n",
      "        fmt = '[color][marker][line]'\n",
      "    \n",
      "    Each of them is optional. If not provided, the value from the style\n",
      "    cycle is used. Exception: If ``line`` is given, but no ``marker``,\n",
      "    the data will be a line without markers.\n",
      "    \n",
      "    **Colors**\n",
      "    \n",
      "    The following color abbreviations are supported:\n",
      "    \n",
      "    =============    ===============================\n",
      "    character        color\n",
      "    =============    ===============================\n",
      "    ``'b'``          blue\n",
      "    ``'g'``          green\n",
      "    ``'r'``          red\n",
      "    ``'c'``          cyan\n",
      "    ``'m'``          magenta\n",
      "    ``'y'``          yellow\n",
      "    ``'k'``          black\n",
      "    ``'w'``          white\n",
      "    =============    ===============================\n",
      "    \n",
      "    If the color is the only part of the format string, you can\n",
      "    additionally use any  `matplotlib.colors` spec, e.g. full names\n",
      "    (``'green'``) or hex strings (``'#008000'``).\n",
      "    \n",
      "    **Markers**\n",
      "    \n",
      "    =============    ===============================\n",
      "    character        description\n",
      "    =============    ===============================\n",
      "    ``'.'``          point marker\n",
      "    ``','``          pixel marker\n",
      "    ``'o'``          circle marker\n",
      "    ``'v'``          triangle_down marker\n",
      "    ``'^'``          triangle_up marker\n",
      "    ``'<'``          triangle_left marker\n",
      "    ``'>'``          triangle_right marker\n",
      "    ``'1'``          tri_down marker\n",
      "    ``'2'``          tri_up marker\n",
      "    ``'3'``          tri_left marker\n",
      "    ``'4'``          tri_right marker\n",
      "    ``'s'``          square marker\n",
      "    ``'p'``          pentagon marker\n",
      "    ``'*'``          star marker\n",
      "    ``'h'``          hexagon1 marker\n",
      "    ``'H'``          hexagon2 marker\n",
      "    ``'+'``          plus marker\n",
      "    ``'x'``          x marker\n",
      "    ``'D'``          diamond marker\n",
      "    ``'d'``          thin_diamond marker\n",
      "    ``'|'``          vline marker\n",
      "    ``'_'``          hline marker\n",
      "    =============    ===============================\n",
      "    \n",
      "    **Line Styles**\n",
      "    \n",
      "    =============    ===============================\n",
      "    character        description\n",
      "    =============    ===============================\n",
      "    ``'-'``          solid line style\n",
      "    ``'--'``         dashed line style\n",
      "    ``'-.'``         dash-dot line style\n",
      "    ``':'``          dotted line style\n",
      "    =============    ===============================\n",
      "    \n",
      "    Example format strings::\n",
      "    \n",
      "        'b'    # blue markers with default shape\n",
      "        'ro'   # red circles\n",
      "        'g-'   # green solid line\n",
      "        '--'   # dashed line with default color\n",
      "        'k^:'  # black triangle_up markers connected by a dotted line\n",
      "    \n",
      "    .. note::\n",
      "        In addition to the above described arguments, this function can take a\n",
      "        **data** keyword argument. If such a **data** argument is given, the\n",
      "        following arguments are replaced by **data[<arg>]**:\n",
      "    \n",
      "        * All arguments with the following names: 'x', 'y'.\n",
      "\n"
     ]
    }
   ],
   "source": [
    "help(plt.plot)"
   ]
  },
  {
   "cell_type": "markdown",
   "metadata": {},
   "source": [
    "Click on the side of the cell to toggle between scrolling and non-scrolling, since this command results in lots of output.\n",
    "\n",
    "Based on the output from the help command, work with your partner to figure out which options to use in the `plt.plot` command to create the plot with black markers and line rather than a blue line. "
   ]
  },
  {
   "cell_type": "code",
   "execution_count": null,
   "metadata": {
    "scrolled": false
   },
   "outputs": [],
   "source": [
    "plt.plot(gistemp_year,glob_ann_gistemp,###### put the correct options here #######)\n",
    "plt.ylabel(\"Temperature Anomaly (°C)\")\n",
    "plt.xlabel(\"Year\")\n",
    "plt.title(\"Global Mean Estimates based on Land and Ocean Data (GISTEMP)\",size=10)\n",
    "         "
   ]
  },
  {
   "cell_type": "code",
   "execution_count": 19,
   "metadata": {
    "code_folding": [
     0
    ],
    "scrolled": false
   },
   "outputs": [
    {
     "data": {
      "text/plain": [
       "Text(0.5,1,'Global Mean Estimates based on Land and Ocean Data (GISTEMP)')"
      ]
     },
     "execution_count": 19,
     "metadata": {},
     "output_type": "execute_result"
    },
    {
     "data": {
      "image/png": "[encoded data removed]",
      "text/plain": [
       "<Figure size 432x288 with 1 Axes>"
      ]
     },
     "metadata": {
      "needs_background": "light"
     },
     "output_type": "display_data"
    }
   ],
   "source": [
    "#\n",
    "\n",
    "plt.plot(gistemp_year,glob_ann_gistemp,'ks-')\n",
    "plt.ylabel(\"Temperature Anomaly (°C)\")\n",
    "plt.xlabel(\"Year\")\n",
    "plt.title(\"Global Mean Estimates based on Land and Ocean Data (GISTEMP)\",size=10)\n",
    "       "
   ]
  },
  {
   "cell_type": "markdown",
   "metadata": {},
   "source": [
    "## Turning in lab notebook\n",
    "\n",
    "\n",
    "1. Go to \"File\" -> \"Save and Checkpoint\" to save your lab notebook.\n",
    "\n",
    "2. Go to \"File\" -> \"Close and Halt\". The notebook tab will close, and you will be back on the directory web page. \n",
    "\n",
    "3. Click the box next to the notebook file.\n",
    "\n",
    "4. Click \"duplicate\", so that you can save a copy in your home directory.\n",
    "\n",
    "5. Click the box next to the notebook file again.\n",
    "\n",
    "6. Click the \"move\" button.\n",
    "\n",
    "7. Type \"data/ATS_301/Labs/Lab01\".\n"
   ]
  },
  {
   "cell_type": "markdown",
   "metadata": {
    "collapsed": true
   },
   "source": [
    "## For more info\n",
    "\n",
    "\n",
    "http://matplotlib.org/users/pyplot_tutorial.html provides an introduction to basic plotting using this pyplot functions.\n"
   ]
  },
  {
   "cell_type": "code",
   "execution_count": null,
   "metadata": {},
   "outputs": [],
   "source": []
  }
 ],
 "metadata": {
  "kernelspec": {
   "display_name": "Python 3",
   "language": "python",
   "name": "python3"
  },
  "language_info": {
   "codemirror_mode": {
    "name": "ipython",
    "version": 3
   },
   "file_extension": ".py",
   "mimetype": "text/x-python",
   "name": "python",
   "nbconvert_exporter": "python",
   "pygments_lexer": "ipython3",
   "version": "3.6.5"
  },
  "varInspector": {
   "cols": {
    "lenName": 16,
    "lenType": 16,
    "lenVar": 40
   },
   "kernels_config": {
    "python": {
     "delete_cmd_postfix": "",
     "delete_cmd_prefix": "del ",
     "library": "var_list.py",
     "varRefreshCmd": "print(var_dic_list())"
    },
    "r": {
     "delete_cmd_postfix": ") ",
     "delete_cmd_prefix": "rm(",
     "library": "var_list.r",
     "varRefreshCmd": "cat(var_dic_list()) "
    }
   },
   "types_to_exclude": [
    "module",
    "function",
    "builtin_function_or_method",
    "instance",
    "_Feature"
   ],
   "window_display": false
  }
 },
 "nbformat": 4,
 "nbformat_minor": 1
}

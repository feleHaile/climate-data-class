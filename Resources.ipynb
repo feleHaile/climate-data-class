{
 "cells": [
  {
   "cell_type": "markdown",
   "metadata": {},
   "source": [
    "<b>Books:</b>\n",
    "\n",
    "Think Python: How to Think Like a Computer Scientist, 2nd Edition, Allen Downey\n",
    "Green Tea Press Needham, Massachusetts, 2015. PDF on jupyter. http://greenteapress.com/wp/think-python-2e/ \n",
    "\n",
    "Data analysis methods in weather and climate research, David B. Stephenson, 2005. PDF on jupyter. [DO NOT SHARE THIS, as it is unpublished work.]\n",
    "\n",
    "A Hands-On Introduction to Using Python in the Atmospheric and Oceanic Sciences, by Johnny Wei-Bing Lin, 2012. Individual chapters available in \"Lin Book\" directory on jupyter. http://www.johnny-lin.com/pyintro/ [Chapter 2 is not relevant for this class, since we run Python a different way.]\n",
    "\n",
    "Climate Change 2013: The Physical Science Basis. (IPCC AR5 WG1) https://www.ipcc.ch/report/ar5/wg1/\n",
    "\n",
    "\n",
    "<b>Links:</b>\n",
    "\n",
    "Climate Data Guide: https://climatedataguide.ucar.edu/\n",
    "\n",
    "\n",
    "Climate Data Primer: https://www.climate.gov/maps-data/primer/climate-data-primer\n",
    "\n",
    "\n",
    "\n"
   ]
  },
  {
   "cell_type": "markdown",
   "metadata": {},
   "source": [
    "<b>Blogs</b>\n",
    "\n",
    "\n",
    "RealClimate http://www.realclimate.org/\n",
    "\n",
    "Open Mind (Tamino) https://tamino.wordpress.com/\n",
    "* Includes a list of climate data links: https://tamino.wordpress.com/climate-data-links/\n",
    "* \"The 5 Most Important Data Sets of Climate Science\": https://tamino.wordpress.com/2018/11/01/the-5-most-important-data-sets-of-climate-science/\n",
    "\n",
    "\n",
    "\n",
    "Posted on November 1, 2018\n",
    "\n",
    "Arctic Sea Ice Blog http://neven1.typepad.com/blog/\n",
    "\n",
    "Climate Lab Book https://www.climate-lab-book.ac.uk/"
   ]
  },
  {
   "cell_type": "markdown",
   "metadata": {
    "collapsed": true
   },
   "source": [
    "**Data** \n",
    "\n",
    "Climate Data Guide:\n",
    "https://climatedataguide.ucar.edu/\n",
    "\n",
    "* Can search by variable, keyword\n",
    "\n",
    "* Advanced data search provides more options\n",
    "\n",
    "* Data type: reanalysis, satellite, gridded obs, etc.\n",
    "* Format, date range, timestep ....\n",
    "\n",
    "NOAA’s Climate.gov data directory\n",
    "https://www.climate.gov/maps-data/datasets\n",
    "\n",
    "* Plots, interactive graphics available\n",
    "* OK to use this data, but must do something different from what’s here\n",
    "\n",
    "NOAA’s Climate Data Records\n",
    "http://www.ncdc.noaa.gov/cdr\n",
    "\n",
    "Another NOAA website \n",
    "http://www.ncdc.noaa.gov/data-access\n",
    "\n",
    "* Bigger variety, paleoclimate proxies, weather balloon, etc.\n",
    "\n",
    "NASA’s Global Change Master Directory\n",
    "http://gcmd.nasa.gov/\n",
    "\n",
    "* Alot of data, almost too much, not all “climate”\n",
    "\n",
    "NSIDC (cryosphere data)\n",
    "http://nsidc.org/data/search/\n",
    "\n",
    "Climate model output (CMIP)\n",
    "https://esgf-node.llnl.gov/projects/esgf-llnl/\n",
    "\n",
    "* Must register for some (generally easy)\n"
   ]
  },
  {
   "cell_type": "code",
   "execution_count": null,
   "metadata": {},
   "outputs": [],
   "source": []
  }
 ],
 "metadata": {
  "kernelspec": {
   "display_name": "Python 3",
   "language": "python",
   "name": "python3"
  },
  "language_info": {
   "codemirror_mode": {
    "name": "ipython",
    "version": 3
   },
   "file_extension": ".py",
   "mimetype": "text/x-python",
   "name": "python",
   "nbconvert_exporter": "python",
   "pygments_lexer": "ipython3",
   "version": "3.6.5"
  },
  "varInspector": {
   "cols": {
    "lenName": 16,
    "lenType": 16,
    "lenVar": 40
   },
   "kernels_config": {
    "python": {
     "delete_cmd_postfix": "",
     "delete_cmd_prefix": "del ",
     "library": "var_list.py",
     "varRefreshCmd": "print(var_dic_list())"
    },
    "r": {
     "delete_cmd_postfix": ") ",
     "delete_cmd_prefix": "rm(",
     "library": "var_list.r",
     "varRefreshCmd": "cat(var_dic_list()) "
    }
   },
   "types_to_exclude": [
    "module",
    "function",
    "builtin_function_or_method",
    "instance",
    "_Feature"
   ],
   "window_display": false
  }
 },
 "nbformat": 4,
 "nbformat_minor": 2
}

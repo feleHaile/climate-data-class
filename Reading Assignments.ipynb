{
 "cells": [
  {
   "cell_type": "markdown",
   "metadata": {},
   "source": [
    "Note: Some U.S. government websites (NASA, NOAA, EPA, etc.) may stop working at some point. Please let me know if any links no longer work.\n",
    "\n",
    "<h2 style=\"color:blue;\"> Week 1 (GISTEMP)</h2>\n",
    "\n",
    "<h3 style=\"color:red;\"> Required reading due Sept. 24</h3>\n",
    "\n",
    "<p style=\"color:red;\"><b>Python Intro</b></p>\n",
    "\n",
    "Chapters 1 and 2 in <a href =\"https://jupyter.coas.oregonstate.edu/user/shellk/files/data/ATS_301/References/thinkpython2.pdf\">Think Python</a> [PDF]. \n",
    "\n",
    "Chapters 1 and 2 in <a href =\"thinkpython2.pdf\">Think Python</a> [PDF]. \n",
    "\n",
    "\n",
    "<b style=\"color:red;\">Background reading for GISTEMP data set</b>\n",
    "\n",
    "http://data.giss.nasa.gov/gistemp/ [Especially “Background of GISS analysis method,” “Documentation and assessment of results,” and “GISS homogenization (urban adjustment)”] \n",
    "\n",
    "http://data.giss.nasa.gov/gistemp/faq/\n",
    "\n",
    "http://data.giss.nasa.gov/gistemp/faq/abs_temp.html [Note this is a separate page from the FAQ linked above]\n",
    "\n",
    "\n",
    "### Optional\n",
    "\n",
    "<b>Jupyter</b>\n",
    "\n",
    "https://nbviewer.jupyter.org/github/ipython/ipython/blob/3.x/examples/Notebook/Notebook%20Basics.ipynb [Skip \"Running the Notebook Server\".]\n",
    "\n",
    "<b>Arrays</b>\n",
    "\n",
    "Chapter 4: Array Operations in A Hands-On Introduction to Using Python in the Atmospheric and Oceanic Sciences. Sections 4.1 through 4.5.\n",
    "<a href=\"Lin Book/ch04.pdf\">PDF</a> Read this if you would like more examples of using arrays.\n",
    "\n",
    "An introduction to Numpy and Scipy: Basic arrays sections (p. 3-12) \n",
    "\n",
    "<b>General climate data info</b>\n",
    "\n",
    "Climate Data Primer https://www.climate.gov/maps-data/primer/climate-data-primer [overviews with some nice pictures and animations]\n",
    "*    \"What's the difference between climate and weather?\"\n",
    "*    \"How do weather observations become climate data?\"\n",
    "*    \"How do we observe today's climate?\"\n",
    "\n",
    "Climate Data Guide: https://climatedataguide.ucar.edu/climate-data-tools-and-analysis/overview-climate-data-processing; \n",
    "\n",
    "\"Climate Data Processing Software\": https://climatedataguide.ucar.edu/climate-data-tools-and-analysis/climate-data-processing-software\n",
    "\n",
    "<b>Hiatus References</b>\n",
    "\n",
    "Mother Jones: Who Created the Global Warming \"Pause\"? http://www.motherjones.com/environment/2013/09/global-warming-pause-ipcc\n",
    "\n",
    "RealClimate: NOAA temperature record updates and the ‘hiatus’ http://www.realclimate.org/index.php/archives/2015/06/noaa-temperature-record-updates-and-the-hiatus/\n",
    "\n",
    "Karl et al., Possible artifacts of data biases in the recent global surface warming hiatus. Science  26 Jun 2015: Vol. 348, Issue 6242, pp. 1469-1472. DOI: 10.1126/science.aaa5632 \n",
    "http://science.sciencemag.org/content/348/6242/1469.full\n",
    "\n",
    "RealClimate: There was no pause http://www.realclimate.org/index.php/archives/2017/01/there-was-no-pause/\n",
    "\n",
    "Tamino: Slowdown Skeptic https://tamino.wordpress.com/2015/04/30/slowdown-skeptic/  [may be too technical]\n",
    "\n",
    "\n",
    "<b>News about BEST temperature project</b>\n",
    "\n",
    "<http://www.realclimate.org/index.php/archives/2011/10/berkeley-earthquake-called-off/>\n",
    "<p>\n",
    "\n",
    "<http://www.bbc.com/news/science-environment-15373071>\n"
   ]
  },
  {
   "cell_type": "markdown",
   "metadata": {},
   "source": [
    "<h2 style=\"color:blue;\">Week 2 (Tropical Storms)</h2>\n",
    "\n",
    "<h3 style=\"color:red;\"> Required reading due Oct. 1</h3>\n",
    "\n",
    "https://www.epa.gov/climate-indicators/climate-change-indicators-tropical-cyclone-activity (3 pages, click on different figures)\n",
    "\n",
    "Will Hurricanes Change as the World Warms? | NOAA Climate.gov:\n",
    "https://www.climate.gov/news-features/features/will-hurricanes-change-world-warms\n",
    "\n",
    "<a href=\"https://jupyter.coas.oregonstate.edu/user/shellk/files/data/ATS_301/References/Data_Analysis_Methods_Weather_Climate.pdf\">Data analysis methods in weather and climate research</a> [PDF]: Chapter 2: Descriptive statistics [skim Ch. 1]\n",
    "\n",
    "### Optional\n",
    "\n",
    "**2017**\n",
    "\n",
    "Hurricane season 2017: what the hell just happened?\n",
    "https://www.vox.com/energy-and-environment/2017/10/25/16504488/hurricane-season-2017-what-the-hell (Oct. 27, 2017)\n",
    "\n",
    "Why This Hurricane Season Has Been So Catastrophic:  \n",
    "http://news.nationalgeographic.com/2017/09/hurricane-irma-harvey-season-climate-change-weather/ (2017)\n",
    "\n",
    "September Is the Strongest Hurricane Month Ever Recorded—Probably\n",
    "https://www.theatlantic.com/science/archive/2017/09/september-2017-hurricane-energy-record-irma-maria-harvey/541185/ (2017)\n",
    "\n",
    "One of the clearest signs of climate change in Hurricanes Maria, Irma, and Harvey was the rain\n",
    "https://www.vox.com/energy-and-environment/2017/9/28/16362522/hurricane-maria-2017-irma-harvey-rain-flooding-climate-change (2017)\n",
    "\n",
    "** Earlier stories**\n",
    "\n",
    "http://earthobservatory.nasa.gov/Features/ClimateStorms/page1.php\n",
    "\n",
    "http://www.ucsusa.org/global_warming/science_and_impacts/impacts/hurricanes-and-climate-change.\n",
    "\n",
    "\n",
    "Better hurricane observation techniques over the decades make big storms less deadly: https://theconversation.com/better-hurricane-observation-techniques-over-the-decades-make-big-storms-less-deadly-41918 (2015)\n",
    "\n",
    "**ACE**\n",
    "\n",
    "https://www.wunderground.com/hurricane/accumulated_cyclone_energy.asp\n",
    "\n",
    "**Records**\n",
    "\n",
    "Top 10 Most Active (Atlantic) Hurricane Seasons\n",
    "\n",
    "https://www.wunderground.com/hurricane/top10.asp\n",
    "\n",
    "**Scientific papers**\n",
    "\n",
    "Knutson, Thomas R., John L. McBride, Johnny Chan, Kerry Emanuel, Greg Holland, Chris Landsea, Isaac Held, James P. Kossin, A. K. Srivastava, and Masato Sugi. 2010. Tropical cyclones and climate change. Nature Geoscience. 3: 157-163. doi:10.1038/ngeo779.\n",
    "\n"
   ]
  },
  {
   "cell_type": "markdown",
   "metadata": {},
   "source": [
    "<h2 style=\"color:blue;\">Week 4 (Modeled Precipitation Changes)</h2>\n",
    "\n",
    "<h3 style=\"color:red;\"> Required reading due Oct. 15</h3>\n",
    "\n",
    "**Read** the **\"Key Message 2: Future Climate Change\"** and **\"Key Message 5: U.S. Precipitation Change\"** sections of Ch. 2 in the 3rd National Climate Assessment$^1$, paying particular attention to the information about precipitation changes. You can download a PDF of this chapter from http://s3.amazonaws.com/nca2014/low/NCA3_Full_Report_02_Our_Changing_Climate_LowRes.pdf?download=1, or look at these sections in the interactive version: http://nca2014.globalchange.gov/report/our-changing-climate/future-climate-change and http://nca2014.globalchange.gov/report/our-changing-climate/precipitation-change.\n",
    "\n",
    "\n",
    "The interactive version has neater figures where you can switch back and forth between plots for different scenarios.\n",
    "\n",
    "$^1$Walsh, J., D. Wuebbles, K. Hayhoe, J. Kossin, K. Kunkel, G. Stephens, P. Thorne, R. Vose, M. Wehner, J. Willis, D. Anderson, S. Doney, R. Feely, P. Hennon, V. Kharin, T. Knutson, F. Landerer, T. Lenton, J. Kennedy, and R. Somerville, 2014: Ch. 2: Our Changing Climate. Climate Change Impacts in the United States: The Third National Climate Assessment\n",
    ", J. M. Melillo, Terese (T.C.) Richmond, and G. W. Yohe, Eds., U.S. Global Change Research Program, 19-67. doi:10.7930/J0KW5CXT.  \n",
    "\n",
    "**Also read** Climate Data Guide: “NetCDF Overview” here: https://climatedataguide.ucar.edu/climate-data-tools-and-analysis/netcdf-overview [ignore the part at the bottom about \"arrays that contain coordinates\"].\n",
    "\n",
    "\n"
   ]
  },
  {
   "cell_type": "markdown",
   "metadata": {},
   "source": [
    "<h2 style=\"color:blue;\">Week 5 (Snow Cover Extent)</h2>\n",
    "\n",
    "<h3 style=\"color:red;\"> Required reading due Oct. 24</h3>\n",
    "\n",
    "Climate Data Guide entry (esp. the Summary and Expert Guidance) for this dataset:<https://climatedataguide.ucar.edu/climate-data/snow-cover-extent-northern-hemisphere-climate-data-record-rutgers>\n",
    "\n",
    "Documentation on the data web site (some of this is the same as what’s in the CDG, but there is some new info): <http://climate.rutgers.edu/snowcover/docs.php?target=vis>\n",
    "\n",
    "**Also read <a href=\"https://jupyter.coas.oregonstate.edu/user/shellk/files/data/ATS_301/Referenceso90pp/Data_Analysis_Methods_Weather_Climate.pdf\">Data analysis methods in weather and climate research</a> [PDF]: Chapters 3 [\"Basic probability concepts\"] through 6 [“Statistical hypothesis testing”]**. Hopefully much of this is review for you."
   ]
  },
  {
   "cell_type": "markdown",
   "metadata": {},
   "source": [
    "<h2 style=\"color:blue;\">Week 7 (Ice Core Record)</h2>\n",
    "\n",
    "<h3 style=\"color:red;\"> Required reading due Nov. 5</h3>\n",
    "\n",
    "<a href=\"Climate_and_Atmospheric_History_of_the_Past_420000.pdf\">Climate and atmospheric history of\n",
    "the past 420,000 years from the Vostok ice core, Antarctica</a>\n",
    "\n",
    "Data analysis methods in weather and climate research: “Basic Linear Regression”\n",
    "\n",
    "### Optional\n",
    "\n",
    "<a href=\"Global_Warming_Preceded_by_Increasing_Carbon_Dioxi.pdf\">Global warming preceded by increasing\n",
    "carbon dioxide concentrations during the\n",
    "last deglaciation</a>.  Many of the authors on this paper are from CEOAS."
   ]
  },
  {
   "cell_type": "markdown",
   "metadata": {},
   "source": [
    "<h2 style=\"color:blue;\">Possible Reading for Later Weeks</h2>\n",
    "\n",
    "[Based on student interest, project topics]\n",
    "\n",
    "Data analysis methods in weather and climate research: Chapter 7 and 8 [“Introduction to time series”]\n",
    "\n",
    "IPCC AR5 WG1 Report: “Changes in Extreme Events” in “Chapter 2: Observations: Atmosphere and Surface”\n",
    "\n",
    "IPCC AR5 WG1 Report: sections of “Chapter 10: Detection and Attribution of Climate Change”\n",
    "\n",
    "IPCC AR5 WG1 Report: sections of “Chapter 12: Long-term Climate Change”"
   ]
  },
  {
   "cell_type": "code",
   "execution_count": null,
   "metadata": {
    "collapsed": true
   },
   "outputs": [],
   "source": []
  }
 ],
 "metadata": {
  "kernelspec": {
   "display_name": "Python 3",
   "language": "python",
   "name": "python3"
  },
  "language_info": {
   "codemirror_mode": {
    "name": "ipython",
    "version": 3
   },
   "file_extension": ".py",
   "mimetype": "text/x-python",
   "name": "python",
   "nbconvert_exporter": "python",
   "pygments_lexer": "ipython3",
   "version": "3.6.5"
  },
  "varInspector": {
   "cols": {
    "lenName": 16,
    "lenType": 16,
    "lenVar": 40
   },
   "kernels_config": {
    "python": {
     "delete_cmd_postfix": "",
     "delete_cmd_prefix": "del ",
     "library": "var_list.py",
     "varRefreshCmd": "print(var_dic_list())"
    },
    "r": {
     "delete_cmd_postfix": ") ",
     "delete_cmd_prefix": "rm(",
     "library": "var_list.r",
     "varRefreshCmd": "cat(var_dic_list()) "
    }
   },
   "types_to_exclude": [
    "module",
    "function",
    "builtin_function_or_method",
    "instance",
    "_Feature"
   ],
   "window_display": false
  }
 },
 "nbformat": 4,
 "nbformat_minor": 2
}

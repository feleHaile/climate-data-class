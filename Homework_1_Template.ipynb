{
 "cells": [
  {
   "cell_type": "markdown",
   "metadata": {},
   "source": [
    "# Homework 1 Template\n",
    "Climate Data Analysis, ATS 301, Fall 2018\n",
    "\n",
    "## Draft due Oct. 1; Final due Oct. 3\n",
    "\n",
    "Start by specifing inline plots and import all the modules you'll need."
   ]
  },
  {
   "cell_type": "code",
   "execution_count": null,
   "metadata": {
    "collapsed": true,
    "scrolled": true
   },
   "outputs": [],
   "source": [
    "# Your code here"
   ]
  },
  {
   "cell_type": "markdown",
   "metadata": {},
   "source": [
    "## 1.\tRead in the GISTEMP global, Northern Hemisphere, and Southern Hempisphere LOTI data from the files in `/data/ATS_301/Data/`."
   ]
  },
  {
   "cell_type": "code",
   "execution_count": null,
   "metadata": {},
   "outputs": [],
   "source": [
    "# Your code here"
   ]
  },
  {
   "cell_type": "markdown",
   "metadata": {},
   "source": [
    "Be sure to save the citation information in a markdown cell!\n",
    "\n",
    "(You can use this one.)"
   ]
  },
  {
   "cell_type": "markdown",
   "metadata": {},
   "source": [
    "## 2. Plot the time series of the annual means of all three on one plot.\n",
    "\n",
    "Change the plotting options to make the plot clearer than what we did in class."
   ]
  },
  {
   "cell_type": "code",
   "execution_count": null,
   "metadata": {},
   "outputs": [],
   "source": [
    "# Your code here"
   ]
  },
  {
   "cell_type": "markdown",
   "metadata": {},
   "source": [
    "## 3. Compare and contrast the three annual means. Speculate as to why there are differences (based on what you know from previous classes).\n",
    "\n",
    "Your answer should be a paragraph or two.  Use complete sentences. I am more interested in the consistency of your explanation than the \"correct\" answer."
   ]
  },
  {
   "cell_type": "markdown",
   "metadata": {},
   "source": [
    "*You can put it in this Markdown cell.*"
   ]
  },
  {
   "cell_type": "markdown",
   "metadata": {},
   "source": [
    "## 4. For your month (coordinated in class so that we don't duplicate months), make four time series plots (plots of means as a function of time): \n",
    "\n",
    "a) the three (global, NH, and SH) monthly means, \n",
    "\n",
    "b) the NH monthly and NH annual means \n",
    "\n",
    "c) the SH monthly and SH annual means, and \n",
    "\n",
    "d) the global monthly and global annual means.\n",
    "\n",
    "Be sure to indicate on your plots which month you are studying."
   ]
  },
  {
   "cell_type": "code",
   "execution_count": null,
   "metadata": {},
   "outputs": [],
   "source": [
    "# Your code here"
   ]
  },
  {
   "cell_type": "markdown",
   "metadata": {},
   "source": [
    "## 5. How does the data for your month compare with the annual mean? Explain why they are (or are not) different.\n",
    "\n",
    "Your answer should be about a paragraph. Refer to plots in Question 4. Be sure to discuss the three spatial means (global, NH, and SH).\n"
   ]
  },
  {
   "cell_type": "markdown",
   "metadata": {},
   "source": [
    "*You can put your answer in this Markdown cell.*"
   ]
  },
  {
   "cell_type": "markdown",
   "metadata": {},
   "source": [
    "## 6. For all 6 [(annual and monthly) x (global, NH, and SH) means] time series, use linear regression to calculate the all-year trend.\n",
    "\n",
    "### 6.1 Print out the slopes, y intercepts, and p values. Include units where appropriate."
   ]
  },
  {
   "cell_type": "code",
   "execution_count": null,
   "metadata": {},
   "outputs": [],
   "source": [
    "# Your code here"
   ]
  },
  {
   "cell_type": "markdown",
   "metadata": {},
   "source": [
    "### 6.2. Looking at the plots above (Question 4), which slope do you expect to be the largest?  The smallest?  Why?\n",
    "\n",
    "Support your conclusions by referring to specific data on specific plots. Ignore your results from Q. 6.1 here."
   ]
  },
  {
   "cell_type": "markdown",
   "metadata": {},
   "source": [
    "*You can put your answer in this Markdown cell.*"
   ]
  },
  {
   "cell_type": "markdown",
   "metadata": {},
   "source": [
    "### 6.3. Now look at your calculated slopes (Question 6.1). Which slope is the largest? Which is the smallest? Does this match your expectations from Question 6.2?  Are all 6 slopes statistically significant at the 95% confidence level?\n"
   ]
  },
  {
   "cell_type": "markdown",
   "metadata": {},
   "source": [
    "*You can put your answer in this Markdown cell.*"
   ]
  },
  {
   "cell_type": "markdown",
   "metadata": {},
   "source": [
    "## 7. For the annual, global mean data, calculate the trends for the “hiatus” period (2000-2012).\n",
    "\n",
    "### 7.1 Plot the annual, global mean data with the two trend lines on it, and output the values for the trends."
   ]
  },
  {
   "cell_type": "code",
   "execution_count": null,
   "metadata": {},
   "outputs": [],
   "source": [
    "# Your code here"
   ]
  },
  {
   "cell_type": "markdown",
   "metadata": {},
   "source": [
    "### 7.2. Compare the \"hiatus\" trend to the all-year trend."
   ]
  },
  {
   "cell_type": "markdown",
   "metadata": {},
   "source": [
    "*You can put your answer in this Markdown cell.*"
   ]
  },
  {
   "cell_type": "markdown",
   "metadata": {},
   "source": [
    "### 7.3. Change either the beginning or ending year by 1 year.  (You can increase or decrease the year, your choice.)  Recalculate and print the new trend value."
   ]
  },
  {
   "cell_type": "code",
   "execution_count": null,
   "metadata": {},
   "outputs": [],
   "source": [
    "# Your code here"
   ]
  },
  {
   "cell_type": "markdown",
   "metadata": {},
   "source": [
    "### 7.4.  Find a period, starting sometime after 1970, with a negative slope.  Similarly to Q. 7.1, plot the annual, global mean data with the two trend lines (new slope and entire time period slope) on it, and output the new trend value."
   ]
  },
  {
   "cell_type": "code",
   "execution_count": null,
   "metadata": {},
   "outputs": [],
   "source": [
    "# Your code here"
   ]
  },
  {
   "cell_type": "markdown",
   "metadata": {
    "collapsed": true
   },
   "source": [
    "## 8. Explain what is meant by the global warming “hiatus,” “pause,” “slowdown,” etc. Using your results, do you think that the hiatus is “real”?  Would a real hiatus disprove the theory of anthropogenic climate change? Why or why not? \n",
    "\n",
    "You answer should be about a paragraph or two long. Clarity counts! Use your above results to support your conclusions. \n",
    "\n",
    "You might find this video useful: https://youtu.be/xWdJuNYLTLs\n"
   ]
  },
  {
   "cell_type": "markdown",
   "metadata": {},
   "source": [
    "*You can put your answer in this Markdown cell.*"
   ]
  },
  {
   "cell_type": "markdown",
   "metadata": {},
   "source": [
    "## Checklist\n",
    "\n",
    "* Notebook re-runs correctly (\"Kernel\" -> \"Restart and run all\" works)\n",
    "* Plots include titles, labels (with units) on x and y axes, and legends (if multiple lines). (Titles are not necessary if they convey no more information than x and y axis labels.)\n",
    "* Numerical values in Markdown or print statements include units.\n",
    "* Answers to “compare,” “explain,” etc. questions are in complete sentences and grammatically correct. \n",
    "\n"
   ]
  },
  {
   "cell_type": "code",
   "execution_count": null,
   "metadata": {
    "collapsed": true
   },
   "outputs": [],
   "source": []
  }
 ],
 "metadata": {
  "kernelspec": {
   "display_name": "Python 3",
   "language": "python",
   "name": "python3"
  },
  "language_info": {
   "codemirror_mode": {
    "name": "ipython",
    "version": 3
   },
   "file_extension": ".py",
   "mimetype": "text/x-python",
   "name": "python",
   "nbconvert_exporter": "python",
   "pygments_lexer": "ipython3",
   "version": "3.6.5"
  },
  "toc": {
   "base_numbering": 1,
   "nav_menu": {},
   "number_sections": false,
   "sideBar": true,
   "skip_h1_title": false,
   "title_cell": "Table of Contents",
   "title_sidebar": "Contents",
   "toc_cell": false,
   "toc_position": {},
   "toc_section_display": true,
   "toc_window_display": true
  },
  "varInspector": {
   "cols": {
    "lenName": 16,
    "lenType": 16,
    "lenVar": 40
   },
   "kernels_config": {
    "python": {
     "delete_cmd_postfix": "",
     "delete_cmd_prefix": "del ",
     "library": "var_list.py",
     "varRefreshCmd": "print(var_dic_list())"
    },
    "r": {
     "delete_cmd_postfix": ") ",
     "delete_cmd_prefix": "rm(",
     "library": "var_list.r",
     "varRefreshCmd": "cat(var_dic_list()) "
    }
   },
   "types_to_exclude": [
    "module",
    "function",
    "builtin_function_or_method",
    "instance",
    "_Feature"
   ],
   "window_display": false
  }
 },
 "nbformat": 4,
 "nbformat_minor": 1
}

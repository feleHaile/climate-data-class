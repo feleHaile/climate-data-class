{
 "cells": [
  {
   "cell_type": "markdown",
   "metadata": {},
   "source": [
    "# Computer Lab 3a: Lists, arrays\n",
    "Climate Data Analysis, ATS 301, Fall 2018\t\t\t\t\t\n",
    "\n",
    "Primary objectives for this lab:\n",
    "* Learn about lists, numpy arrays\n",
    "\n",
    "\n",
    "First, though, a reminder about your new favorite command:"
   ]
  },
  {
   "cell_type": "markdown",
   "metadata": {
    "heading_collapsed": true
   },
   "source": [
    "## Help function\n",
    "\n",
    "The `help` command is one you will probably use quite often."
   ]
  },
  {
   "cell_type": "code",
   "execution_count": null,
   "metadata": {
    "hidden": true
   },
   "outputs": [],
   "source": [
    "help(print)"
   ]
  },
  {
   "cell_type": "markdown",
   "metadata": {
    "hidden": true
   },
   "source": [
    "The `help` command provides information about input values, options, etc.  After you import a module, you can use `help` to learn about specific commands:"
   ]
  },
  {
   "cell_type": "code",
   "execution_count": null,
   "metadata": {
    "hidden": true
   },
   "outputs": [],
   "source": [
    "%matplotlib inline\n",
    "import matplotlib.pyplot as plt\n",
    "help(plt.plot) "
   ]
  },
  {
   "cell_type": "markdown",
   "metadata": {
    "heading_collapsed": true
   },
   "source": [
    "## Commenting"
   ]
  },
  {
   "cell_type": "markdown",
   "metadata": {
    "hidden": true
   },
   "source": [
    "Sometimes you want to include information within a chunk of code, without evaluating that text.  I've already used *commenting* in some cells of Lab 2.  \n",
    "\n",
    "* Comments in Python are indicated by `#`\n",
    "* Any line that starts with `#` will be ignored.\n",
    "* If `#` appears later in a line, the part after `#` will be ignored."
   ]
  },
  {
   "cell_type": "code",
   "execution_count": 1,
   "metadata": {
    "hidden": true
   },
   "outputs": [],
   "source": [
    "# This is a comment. It is not evaluated."
   ]
  },
  {
   "cell_type": "code",
   "execution_count": 2,
   "metadata": {
    "hidden": true
   },
   "outputs": [
    {
     "name": "stdout",
     "output_type": "stream",
     "text": [
      "Hello, World\n"
     ]
    }
   ],
   "source": [
    "print(\"Hello, World\") # The first part of this line is evaluated, but not the part after #"
   ]
  },
  {
   "cell_type": "code",
   "execution_count": 3,
   "metadata": {
    "hidden": true
   },
   "outputs": [
    {
     "name": "stdout",
     "output_type": "stream",
     "text": [
      "This\n"
     ]
    }
   ],
   "source": [
    "print(\"This\")\n",
    "# print(\"That\")"
   ]
  },
  {
   "cell_type": "markdown",
   "metadata": {
    "hidden": true
   },
   "source": [
    "Even though the second print command is a valid command, it is not evaluated."
   ]
  },
  {
   "cell_type": "markdown",
   "metadata": {
    "heading_collapsed": true
   },
   "source": [
    "## Types of Variables "
   ]
  },
  {
   "cell_type": "markdown",
   "metadata": {
    "hidden": true
   },
   "source": [
    "Values and variable have different types\n",
    "* Integer (2, 17, 555, etc.)\n",
    "    * class ‘int’\n",
    "* Floating-point number (1.5, 0.776, etc.)\n",
    "    * class ‘float’\n",
    "* String (‘Hello, World!’)\n",
    "    * class ‘str’\n",
    "\n",
    "Use the `type` function to determine the type if you’re not sure:"
   ]
  },
  {
   "cell_type": "code",
   "execution_count": 4,
   "metadata": {
    "hidden": true
   },
   "outputs": [
    {
     "data": {
      "text/plain": [
       "int"
      ]
     },
     "execution_count": 4,
     "metadata": {},
     "output_type": "execute_result"
    }
   ],
   "source": [
    "type(2)"
   ]
  },
  {
   "cell_type": "code",
   "execution_count": 5,
   "metadata": {
    "hidden": true
   },
   "outputs": [
    {
     "data": {
      "text/plain": [
       "float"
      ]
     },
     "execution_count": 5,
     "metadata": {},
     "output_type": "execute_result"
    }
   ],
   "source": [
    "type(2.0)"
   ]
  },
  {
   "cell_type": "markdown",
   "metadata": {
    "heading_collapsed": true
   },
   "source": [
    "## Lists"
   ]
  },
  {
   "cell_type": "markdown",
   "metadata": {
    "hidden": true
   },
   "source": [
    "Basic Python includes another built-in type: lists \n",
    "\n",
    "A *list* is a *sequence* of *values*. Here are a few examples of lists:\n",
    "\n",
    "`[1, 5, 7, 10] \n",
    "[\"a\",\"b\",\"c\",\"d\",\"e\"] \n",
    "[1, \"yellow\", 5, \"f\"]` \n",
    "\n",
    "Note that, technically, you can have a mix of different *types* within a single list. In general, I don't recommend doing this. In fact, we’re pretty much going to use arrays for everything, which we’ll get to in a little while.\n",
    "\n",
    "* The square brackets (“`[`” and “`]`”) indicate a list.\n",
    "* *Values* within the *list* are separated by commas.\n",
    "* You can assign lists to variables. \n",
    "\n",
    "A few things you can do:\n",
    "\n",
    "**Create a list:**"
   ]
  },
  {
   "cell_type": "code",
   "execution_count": 6,
   "metadata": {
    "hidden": true
   },
   "outputs": [],
   "source": [
    "my_list = [7, \"blue\", 42.5]\n",
    "my_other_list = [\"a\", 3.14, \"Karen\"]"
   ]
  },
  {
   "cell_type": "markdown",
   "metadata": {
    "hidden": true
   },
   "source": [
    "**Combine two lists:**"
   ]
  },
  {
   "cell_type": "code",
   "execution_count": 7,
   "metadata": {
    "hidden": true
   },
   "outputs": [
    {
     "name": "stdout",
     "output_type": "stream",
     "text": [
      "[7, 'blue', 42.5, 'a', 3.14, 'Karen']\n"
     ]
    }
   ],
   "source": [
    "my_big_list = my_list+my_other_list\n",
    "print(my_big_list)"
   ]
  },
  {
   "cell_type": "markdown",
   "metadata": {
    "hidden": true
   },
   "source": [
    "To **create an empty list** using empty square brackets (useful if you want to initialize a variable before adding values to it):"
   ]
  },
  {
   "cell_type": "code",
   "execution_count": 8,
   "metadata": {
    "hidden": true
   },
   "outputs": [],
   "source": [
    "my_empty_list = []"
   ]
  },
  {
   "cell_type": "markdown",
   "metadata": {
    "hidden": true
   },
   "source": [
    "You can then **add (append) things to a list** by using the `append` function:"
   ]
  },
  {
   "cell_type": "code",
   "execution_count": 9,
   "metadata": {
    "hidden": true
   },
   "outputs": [
    {
     "name": "stdout",
     "output_type": "stream",
     "text": [
      "[12]\n"
     ]
    }
   ],
   "source": [
    "my_empty_list.append(12)\n",
    "print(my_empty_list)\n",
    "# not so empty anymore"
   ]
  },
  {
   "cell_type": "markdown",
   "metadata": {
    "hidden": true
   },
   "source": [
    "Appending can be useful when you are repeating a calculation and want to save the result each time, for later analysis or plotting.\n",
    "\n",
    "### List Indices \n",
    "\n",
    "To use a specific value from a list, specify the list *index*:"
   ]
  },
  {
   "cell_type": "code",
   "execution_count": 10,
   "metadata": {
    "hidden": true
   },
   "outputs": [
    {
     "name": "stdout",
     "output_type": "stream",
     "text": [
      "42.5\n"
     ]
    }
   ],
   "source": [
    "print(my_big_list[2])"
   ]
  },
  {
   "cell_type": "markdown",
   "metadata": {
    "hidden": true
   },
   "source": [
    "Does this give you the value you expect?\n",
    "\n",
    "<span style=\"color:red\">**List indices start at 0, not 1.**</span> So the first value in a list is `my_big_list[0]`.\n",
    "\n",
    "You can **replace individual values** within a list:"
   ]
  },
  {
   "cell_type": "code",
   "execution_count": 11,
   "metadata": {
    "hidden": true
   },
   "outputs": [
    {
     "name": "stdout",
     "output_type": "stream",
     "text": [
      "[7, 'blue', 12, 'a', 3.14, 'Karen']\n"
     ]
    }
   ],
   "source": [
    "my_big_list[2] = 12\n",
    "print(my_big_list)"
   ]
  },
  {
   "cell_type": "markdown",
   "metadata": {
    "hidden": true
   },
   "source": [
    "<span style=\"color:red\">**Important Note:**</span>     \n",
    "* <span style=\"color:red\">**Functions use `()`**</span>  \n",
    "* <span style=\"color:red\">**Lists/arrays use `[]`**</span>\n",
    "\n",
    "\n",
    "\n",
    "But really, lists are not very useful for our purposes. Instead, we want ...\n",
    "\n"
   ]
  },
  {
   "cell_type": "markdown",
   "metadata": {},
   "source": [
    "## Arrays\n",
    "\n",
    "*Arrays* are widely used in scientific computing to store the values of a variable with respect to time, space, or some set of parameters. The default functions available in Python are not very useful, so we use the package `numpy` to work with arrays. \n",
    "\n",
    "Arrays:\n",
    "* Way to store data in orderly fashion\n",
    "* Similar to lists, except that every element of an array must be of the same type, typically a numeric type like `float` or `int`\n",
    "* Like matrix\n",
    "* Can be any number of dimensions (lists are only one)\n",
    "\n",
    "For more info on arrays:\n",
    "* One good resource is \"A Hands-On Introduction to Using Python in the Atmospheric and Oceanic Sciences\" http://www.johnny-lin.com/pyintro/ed01/free_pdfs/ch04.pdf (which is also available in the \"Resources\" directory on the server, `ch04.pdf`).\n",
    "* Also `numpy.pdf` (Introduction to Numpy and Scipy, also on jupyter)\n",
    "* Under the Help menu from a Jupyter notebook, you'll find a link to the numpy web page (as well as some other reference pages).\n",
    "\n",
    "\n",
    "To use `numpy`, we have to first import the module. To make the name we use in our code a little shorter, a common option is to import the module as \"`np`\". You'll see this in lots of examples online."
   ]
  },
  {
   "cell_type": "code",
   "execution_count": 12,
   "metadata": {},
   "outputs": [],
   "source": [
    "import numpy as np"
   ]
  },
  {
   "cell_type": "markdown",
   "metadata": {},
   "source": [
    "If you already have a list, you can **convert it to an array** using np.array. Here's an example from this web page: http://www.python-course.eu/numpy.php/\n",
    "\n",
    "Start with a regular *list* with values of temperatures in Celsius: "
   ]
  },
  {
   "cell_type": "code",
   "execution_count": 13,
   "metadata": {},
   "outputs": [],
   "source": [
    "cvalues = [25.3, 24.8, 26.9, 23.9]"
   ]
  },
  {
   "cell_type": "markdown",
   "metadata": {},
   "source": [
    "Use the `np.array` function to turn this list into a one-dimensional `numpy` array:"
   ]
  },
  {
   "cell_type": "code",
   "execution_count": 14,
   "metadata": {},
   "outputs": [
    {
     "name": "stdout",
     "output_type": "stream",
     "text": [
      "[25.3 24.8 26.9 23.9]\n"
     ]
    }
   ],
   "source": [
    "C = np.array(cvalues)\n",
    "print(C)"
   ]
  },
  {
   "cell_type": "markdown",
   "metadata": {},
   "source": [
    "Now, convert the values into degrees Fahrenheit. Try the *array* first:"
   ]
  },
  {
   "cell_type": "code",
   "execution_count": 15,
   "metadata": {},
   "outputs": [
    {
     "name": "stdout",
     "output_type": "stream",
     "text": [
      "[77.54 76.64 80.42 75.02]\n"
     ]
    }
   ],
   "source": [
    "print(C * 9 / 5 + 32)"
   ]
  },
  {
   "cell_type": "markdown",
   "metadata": {},
   "source": [
    "What happens when you try the same calculation with the *list*?"
   ]
  },
  {
   "cell_type": "code",
   "execution_count": 16,
   "metadata": {},
   "outputs": [
    {
     "ename": "TypeError",
     "evalue": "unsupported operand type(s) for /: 'list' and 'int'",
     "output_type": "error",
     "traceback": [
      "\u001b[0;31m---------------------------------------------------------------------------\u001b[0m",
      "\u001b[0;31mTypeError\u001b[0m                                 Traceback (most recent call last)",
      "\u001b[0;32m<ipython-input-16-68e4ed48a84b>\u001b[0m in \u001b[0;36m<module>\u001b[0;34m()\u001b[0m\n\u001b[0;32m----> 1\u001b[0;31m \u001b[0mprint\u001b[0m\u001b[0;34m(\u001b[0m\u001b[0mcvalues\u001b[0m\u001b[0;34m*\u001b[0m  \u001b[0;36m9\u001b[0m \u001b[0;34m/\u001b[0m \u001b[0;36m5\u001b[0m \u001b[0;34m+\u001b[0m \u001b[0;36m32\u001b[0m\u001b[0;34m)\u001b[0m\u001b[0;34m\u001b[0m\u001b[0m\n\u001b[0m",
      "\u001b[0;31mTypeError\u001b[0m: unsupported operand type(s) for /: 'list' and 'int'"
     ]
    }
   ],
   "source": [
    "print(cvalues*  9 / 5 + 32)"
   ]
  },
  {
   "cell_type": "markdown",
   "metadata": {},
   "source": [
    "So, using `numpy` makes working with 1-D arrays much easier (as well as allowing multi-D arrays.]\n",
    "\n",
    "You can create an array in different ways. As shown above, you can create an array by converting a list. You can also create a multi-D array by using a *nested lists* (a list of lists)."
   ]
  },
  {
   "cell_type": "code",
   "execution_count": 17,
   "metadata": {},
   "outputs": [],
   "source": [
    "A = np.array([\n",
    "[11,12,13,14,15],\n",
    "[21,22,23,24,25],\n",
    "[31,32,33,34,35],\n",
    "[41,42,43,44,45],\n",
    "[51,52,53,54,55]])"
   ]
  },
  {
   "cell_type": "code",
   "execution_count": 18,
   "metadata": {},
   "outputs": [
    {
     "name": "stdout",
     "output_type": "stream",
     "text": [
      "[[11 12 13 14 15]\n",
      " [21 22 23 24 25]\n",
      " [31 32 33 34 35]\n",
      " [41 42 43 44 45]\n",
      " [51 52 53 54 55]]\n",
      "2\n",
      "(5, 5)\n"
     ]
    }
   ],
   "source": [
    "print(A)\n",
    "print(np.ndim(A))\n",
    "print(np.shape(A))"
   ]
  },
  {
   "cell_type": "markdown",
   "metadata": {},
   "source": [
    "`np.ndim` returns the number of *dimensions* in the array, while `np.shape` returns the sizes of each of those dimensions.\n",
    "\n",
    "What happens if you leave off the `np.`?"
   ]
  },
  {
   "cell_type": "code",
   "execution_count": 19,
   "metadata": {},
   "outputs": [
    {
     "ename": "NameError",
     "evalue": "name 'ndim' is not defined",
     "output_type": "error",
     "traceback": [
      "\u001b[0;31m---------------------------------------------------------------------------\u001b[0m",
      "\u001b[0;31mNameError\u001b[0m                                 Traceback (most recent call last)",
      "\u001b[0;32m<ipython-input-19-2f3fcae9462a>\u001b[0m in \u001b[0;36m<module>\u001b[0;34m()\u001b[0m\n\u001b[0;32m----> 1\u001b[0;31m \u001b[0mprint\u001b[0m\u001b[0;34m(\u001b[0m\u001b[0mndim\u001b[0m\u001b[0;34m(\u001b[0m\u001b[0mA\u001b[0m\u001b[0;34m)\u001b[0m\u001b[0;34m)\u001b[0m\u001b[0;34m\u001b[0m\u001b[0m\n\u001b[0m",
      "\u001b[0;31mNameError\u001b[0m: name 'ndim' is not defined"
     ]
    }
   ],
   "source": [
    "print(ndim(A))"
   ]
  },
  {
   "cell_type": "markdown",
   "metadata": {},
   "source": [
    "You can also create arrays with the `np.ones` function, which takes the *shape* of the array as input and fills the array accordingly with ones. "
   ]
  },
  {
   "cell_type": "code",
   "execution_count": 20,
   "metadata": {},
   "outputs": [
    {
     "name": "stdout",
     "output_type": "stream",
     "text": [
      "[[1. 1. 1.]\n",
      " [1. 1. 1.]]\n"
     ]
    }
   ],
   "source": [
    "E = np.ones((2,3))\n",
    "print(E)"
   ]
  },
  {
   "cell_type": "markdown",
   "metadata": {},
   "source": [
    "There is also an `np.zeros` function, while does what you'd expect: "
   ]
  },
  {
   "cell_type": "code",
   "execution_count": 21,
   "metadata": {},
   "outputs": [
    {
     "name": "stdout",
     "output_type": "stream",
     "text": [
      "[[0. 0. 0. 0.]\n",
      " [0. 0. 0. 0.]]\n"
     ]
    }
   ],
   "source": [
    "Z = np.zeros((2,4))\n",
    "print(Z)"
   ]
  },
  {
   "cell_type": "markdown",
   "metadata": {},
   "source": [
    "\n",
    "## Array Indexing\n",
    "\n",
    "To get a particular value in the array, specify the index for each dimension. **Remember that indices start at 0, not 1.** \n",
    "\n",
    "For 2-D arrays, the array indices are separating by a comma: `[row index, column index]`. For example, this prints the value in the second row of the first column:"
   ]
  },
  {
   "cell_type": "code",
   "execution_count": 22,
   "metadata": {},
   "outputs": [
    {
     "name": "stdout",
     "output_type": "stream",
     "text": [
      "21\n"
     ]
    }
   ],
   "source": [
    "print(A[1, 0])"
   ]
  },
  {
   "cell_type": "markdown",
   "metadata": {},
   "source": [
    "Which set of indices gives the value of 34?"
   ]
  },
  {
   "cell_type": "code",
   "execution_count": 23,
   "metadata": {
    "code_folding": []
   },
   "outputs": [
    {
     "name": "stdout",
     "output_type": "stream",
     "text": [
      "34\n"
     ]
    }
   ],
   "source": [
    "# Replace the ???? with the correct indices here.\n",
    "print(A[2,3])"
   ]
  },
  {
   "cell_type": "markdown",
   "metadata": {},
   "source": [
    "### Array slicing\n",
    "\n",
    "To get all values in a given row or column, use *slicing*.  "
   ]
  },
  {
   "cell_type": "code",
   "execution_count": 24,
   "metadata": {},
   "outputs": [
    {
     "name": "stdout",
     "output_type": "stream",
     "text": [
      "[21 22 23 24 25]\n"
     ]
    }
   ],
   "source": [
    "print(A[1,:])"
   ]
  },
  {
   "cell_type": "markdown",
   "metadata": {},
   "source": [
    "The `:` in the second index position indicates inclusion of all of the values in that row (dimension). \n",
    "\n",
    "How would you specify all the values in the first column?"
   ]
  },
  {
   "cell_type": "code",
   "execution_count": 26,
   "metadata": {},
   "outputs": [
    {
     "name": "stdout",
     "output_type": "stream",
     "text": [
      "[11 21 31 41 51]\n"
     ]
    }
   ],
   "source": [
    "print(A[:,0])"
   ]
  },
  {
   "cell_type": "markdown",
   "metadata": {},
   "source": [
    "You can also specify a *subset* of a *slice*.\n",
    "\n",
    "The general syntax for subsetting a dimension is \n",
    "\n",
    "`[start:stop:step]` \n",
    "\n",
    "* `start` is the first index that will be used (inclusive)\n",
    "    * If you do not specify the start index, it will be 0. \n",
    "* `stop` is when to stop the subsetting.  It is **exclusive** (i.e., the value for that index is not included). \n",
    "    * If you do not specify the stop index, the subset will include the last value (`stop` will be the last index + 1). \n",
    "* `:step` is optional. If you do not select a step, it will be 1. \n",
    "* An **negative index** indicates counting from the end of the row/column (e.g., \"-1\" means the last index.)  This is helpful when you don't remember how big the array is and want to, for example, take the last *n* values. \n",
    "\n",
    "Before you try each of the following, what you you expect the result to be?  \n",
    "\n",
    "(Note that you can leave off `print()` if you evaluate each cell {shift-ret} separately.)"
   ]
  },
  {
   "cell_type": "code",
   "execution_count": 27,
   "metadata": {},
   "outputs": [
    {
     "name": "stdout",
     "output_type": "stream",
     "text": [
      "[[31 32 33 34 35]\n",
      " [41 42 43 44 45]\n",
      " [51 52 53 54 55]]\n"
     ]
    }
   ],
   "source": [
    "print(A[2:5,:])"
   ]
  },
  {
   "cell_type": "code",
   "execution_count": 28,
   "metadata": {},
   "outputs": [
    {
     "name": "stdout",
     "output_type": "stream",
     "text": [
      "[[11 12 13 14 15]\n",
      " [21 22 23 24 25]\n",
      " [31 32 33 34 35]\n",
      " [41 42 43 44 45]]\n"
     ]
    }
   ],
   "source": [
    "print(A[:4,:])"
   ]
  },
  {
   "cell_type": "code",
   "execution_count": 29,
   "metadata": {},
   "outputs": [
    {
     "data": {
      "text/plain": [
       "array([[51, 52, 53, 54, 55]])"
      ]
     },
     "execution_count": 29,
     "metadata": {},
     "output_type": "execute_result"
    }
   ],
   "source": [
    "A[4:,:]"
   ]
  },
  {
   "cell_type": "code",
   "execution_count": 30,
   "metadata": {},
   "outputs": [
    {
     "data": {
      "text/plain": [
       "array([], shape=(0, 5), dtype=int64)"
      ]
     },
     "execution_count": 30,
     "metadata": {},
     "output_type": "execute_result"
    }
   ],
   "source": [
    "A[5:,:]"
   ]
  },
  {
   "cell_type": "code",
   "execution_count": 31,
   "metadata": {},
   "outputs": [
    {
     "data": {
      "text/plain": [
       "array([[11, 12, 13, 14, 15],\n",
       "       [21, 22, 23, 24, 25],\n",
       "       [31, 32, 33, 34, 35],\n",
       "       [41, 42, 43, 44, 45],\n",
       "       [51, 52, 53, 54, 55]])"
      ]
     },
     "execution_count": 31,
     "metadata": {},
     "output_type": "execute_result"
    }
   ],
   "source": [
    "A[:,:]"
   ]
  },
  {
   "cell_type": "code",
   "execution_count": 32,
   "metadata": {},
   "outputs": [
    {
     "data": {
      "text/plain": [
       "array([[11, 12, 13, 14, 15],\n",
       "       [31, 32, 33, 34, 35],\n",
       "       [51, 52, 53, 54, 55]])"
      ]
     },
     "execution_count": 32,
     "metadata": {},
     "output_type": "execute_result"
    }
   ],
   "source": [
    "A[0:5:2,:]"
   ]
  },
  {
   "cell_type": "code",
   "execution_count": 33,
   "metadata": {},
   "outputs": [
    {
     "data": {
      "text/plain": [
       "array([[41, 42, 43, 44, 45]])"
      ]
     },
     "execution_count": 33,
     "metadata": {},
     "output_type": "execute_result"
    }
   ],
   "source": [
    "A[3:-1,:]"
   ]
  },
  {
   "cell_type": "markdown",
   "metadata": {},
   "source": [
    "You can use subsetting for both rows and columns at the same time.\n",
    "\n",
    "How to specify 2nd and 3rd values in row 3?\n",
    "\n",
    "First three values in rows 4 and 5?"
   ]
  },
  {
   "cell_type": "code",
   "execution_count": null,
   "metadata": {
    "code_folding": [],
    "scrolled": true
   },
   "outputs": [],
   "source": [
    "# Your code for these two cases here."
   ]
  },
  {
   "cell_type": "code",
   "execution_count": null,
   "metadata": {},
   "outputs": [],
   "source": []
  }
 ],
 "metadata": {
  "kernelspec": {
   "display_name": "Python 3",
   "language": "python",
   "name": "python3"
  },
  "language_info": {
   "codemirror_mode": {
    "name": "ipython",
    "version": 3
   },
   "file_extension": ".py",
   "mimetype": "text/x-python",
   "name": "python",
   "nbconvert_exporter": "python",
   "pygments_lexer": "ipython3",
   "version": "3.6.5"
  },
  "varInspector": {
   "cols": {
    "lenName": 16,
    "lenType": 16,
    "lenVar": 40
   },
   "kernels_config": {
    "python": {
     "delete_cmd_postfix": "",
     "delete_cmd_prefix": "del ",
     "library": "var_list.py",
     "varRefreshCmd": "print(var_dic_list())"
    },
    "r": {
     "delete_cmd_postfix": ") ",
     "delete_cmd_prefix": "rm(",
     "library": "var_list.r",
     "varRefreshCmd": "cat(var_dic_list()) "
    }
   },
   "types_to_exclude": [
    "module",
    "function",
    "builtin_function_or_method",
    "instance",
    "_Feature"
   ],
   "window_display": false
  }
 },
 "nbformat": 4,
 "nbformat_minor": 1
}

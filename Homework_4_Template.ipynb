{
 "cells": [
  {
   "cell_type": "markdown",
   "metadata": {},
   "source": [
    "# Homework 4 Template\n",
    "\n",
    "\n",
    "Climate Data Analysis, ATS 301, Fall 2018\n",
    "\n",
    "## Draft due Nov. 5; Final due Nov. 7\n",
    "\n",
    "\n",
    "This week, we're using satellite observations of Northern Hemisphere snow cover. The data is in this file: \n",
    "\n",
    "/data/ATS_301/Data/nhsce_v01r01_19661004_20181001.nc\n",
    "\n",
    "Start by specifing inline plots and importing all the modules you'll need.\n"
   ]
  },
  {
   "cell_type": "code",
   "execution_count": 1,
   "metadata": {
    "collapsed": true,
    "scrolled": true
   },
   "outputs": [],
   "source": [
    "# Your code here"
   ]
  },
  {
   "cell_type": "markdown",
   "metadata": {},
   "source": [
    "## 1.\tRead in and describe the data.\n",
    "\n",
    "Also set values for ocean points and points that never have snow cover to `nan`."
   ]
  },
  {
   "cell_type": "code",
   "execution_count": 2,
   "metadata": {},
   "outputs": [],
   "source": [
    "# Your code here"
   ]
  },
  {
   "cell_type": "markdown",
   "metadata": {},
   "source": [
    "Describe this data set. How was it created? What range of years is included? What is the time and spatial resolution? \n",
    "\n",
    "**Be sure to provide the reference.**"
   ]
  },
  {
   "cell_type": "markdown",
   "metadata": {},
   "source": [
    "## 2.  Using *all land points that have snow at least once*, as determined in Q1:\n",
    "\n",
    "### 2.1. Plot the probability distribution of all *weekly* snow cover fractions corresponding to your month (e.g., Jan.), on the same plot as the probability distribution of a random sample from the Bernoulli distribution. \n",
    "\n",
    "Choose the parameter for the Bernoulli distribution and the number of random samples to reliably match the snow cover fraction distribution. \n"
   ]
  },
  {
   "cell_type": "code",
   "execution_count": 3,
   "metadata": {},
   "outputs": [],
   "source": [
    "# Your code here"
   ]
  },
  {
   "cell_type": "markdown",
   "metadata": {},
   "source": [
    "### 2.2.  Plot the probability distribution of the *monthly mean* snow cover fraction for your month."
   ]
  },
  {
   "cell_type": "code",
   "execution_count": 4,
   "metadata": {},
   "outputs": [],
   "source": [
    "# Your code here"
   ]
  },
  {
   "cell_type": "markdown",
   "metadata": {},
   "source": [
    "### 2.3. Plot the probability distribution of the *mean monthly* snow cover fraction for your month (e.g., average over all Januarys)."
   ]
  },
  {
   "cell_type": "code",
   "execution_count": 5,
   "metadata": {},
   "outputs": [],
   "source": [
    "# Your code here"
   ]
  },
  {
   "cell_type": "markdown",
   "metadata": {},
   "source": [
    "### 2.4 *Describe* and *explain* what happens to the shape of the distribution, including possible snow cover fraction values, as you increase the averaging period (i.e., as you go from Q 2.1 to Q  2.3). "
   ]
  },
  {
   "cell_type": "markdown",
   "metadata": {},
   "source": [
    "[A few sentences. You should both *describe* what the distribution looks like (for example, where are the maximum and minimum values? What is the shape of the distribution? How do these properties change as you increase the averaging period?), as well as *explain* *why* the distribution changes.]"
   ]
  },
  {
   "cell_type": "markdown",
   "metadata": {},
   "source": [
    "### 2.5.  Explain the Central Limit Theorem using your own words. "
   ]
  },
  {
   "cell_type": "markdown",
   "metadata": {},
   "source": [
    "[A few sentences.]"
   ]
  },
  {
   "cell_type": "markdown",
   "metadata": {},
   "source": [
    "## 3. For *one* grid point, examine the *annual-mean* statistics:\n",
    "\n",
    "### 3.1. Calculate the mean, standard deviation, variance, and standard error of the annual-mean time series using `scipy.stats` functions."
   ]
  },
  {
   "cell_type": "code",
   "execution_count": 5,
   "metadata": {},
   "outputs": [],
   "source": [
    "# Your code here"
   ]
  },
  {
   "cell_type": "markdown",
   "metadata": {},
   "source": [
    "### 3.2. Re-calculate these using only the `np.size`, `np.sum`, and `math.sqrt` functions, and verify that these match the mean, etc. you obtained above. \n",
    "\n",
    "Use a formatted table to display the results from 3.1 and 3.2."
   ]
  },
  {
   "cell_type": "code",
   "execution_count": 5,
   "metadata": {},
   "outputs": [],
   "source": [
    "# Your code here"
   ]
  },
  {
   "cell_type": "markdown",
   "metadata": {},
   "source": [
    "### 3.3. Plot (on a single plot) the histograms for the annual-mean time series and a sampled normal distribution with the same mean and variance. "
   ]
  },
  {
   "cell_type": "code",
   "execution_count": 5,
   "metadata": {},
   "outputs": [],
   "source": [
    "# Your code here"
   ]
  },
  {
   "cell_type": "markdown",
   "metadata": {},
   "source": [
    "### 3.4.  Re-sample from the normal distribution and re-calculate (and print) the t statistics and p values ~20 (or more) times to check the consistency of the test. Plot these t statistics as vertical lines on the probability distribution plot for the t distribution.\n",
    "\n",
    "[You do not need to plot histograms of the distributions.  Just print out the t and p values.]"
   ]
  },
  {
   "cell_type": "code",
   "execution_count": 5,
   "metadata": {},
   "outputs": [],
   "source": [
    "# Your code here"
   ]
  },
  {
   "cell_type": "markdown",
   "metadata": {},
   "source": [
    "### 3.5.  Can you reject the null hypothesis (that the two means are the same), at the 0.95 confidence level? Explain why or why not."
   ]
  },
  {
   "cell_type": "markdown",
   "metadata": {},
   "source": [
    "Your answer here. "
   ]
  },
  {
   "cell_type": "markdown",
   "metadata": {},
   "source": [
    "## 4.\n",
    "\n",
    "### 4.1.  Using *two* normal distributions with the same mean and standard deviation (as the snow fraction data for the grid point), re-sample and repeat the significance test multiple times (~50).  \n",
    "\n",
    "Plot these t statistics as vertical lines on the probability distribution plot for the t distribution.  Approximately how often do you get a *false positive* (where the null hypothesis is incorrectly rejected)?  How often do you *expect* to get false positives?"
   ]
  },
  {
   "cell_type": "code",
   "execution_count": 5,
   "metadata": {},
   "outputs": [],
   "source": [
    "# Your code here"
   ]
  },
  {
   "cell_type": "markdown",
   "metadata": {},
   "source": [
    "### 4.2.  Now *increase the mean for one of the distributions* by about half the standard deviation. \n",
    "\n",
    "Again, re-sample and repeat the significance test multiple times (~50).  Plot these t statistics as vertical lines on the probability distribution plot for the t distribution.   \n",
    "\n",
    "Approximately how often do you get *false negatives* (where the null hypothesis is not rejected)?"
   ]
  },
  {
   "cell_type": "code",
   "execution_count": 5,
   "metadata": {},
   "outputs": [],
   "source": [
    "# Your code here"
   ]
  },
  {
   "cell_type": "markdown",
   "metadata": {},
   "source": [
    "### 4.3. Repeat Q 4.2, but *reduce the number of samples* you draw from each distribution by half.\n",
    "\n",
    "Does this make false negative *more* or *less* likely?"
   ]
  },
  {
   "cell_type": "code",
   "execution_count": 5,
   "metadata": {},
   "outputs": [],
   "source": [
    "# Your code here"
   ]
  },
  {
   "cell_type": "markdown",
   "metadata": {},
   "source": [
    "### 4.4.  Repeat Q 4.2, but *increase the number of samples* until you rarely get false negatives. "
   ]
  },
  {
   "cell_type": "code",
   "execution_count": 5,
   "metadata": {},
   "outputs": [],
   "source": [
    "# Your code here"
   ]
  },
  {
   "cell_type": "markdown",
   "metadata": {},
   "source": [
    "### 4.5. Plot one of the histogram comparisons for each of Q 4.2, 4.3, and 4.4 (three plots total).  "
   ]
  },
  {
   "cell_type": "code",
   "execution_count": 6,
   "metadata": {},
   "outputs": [],
   "source": [
    "# Your code here"
   ]
  },
  {
   "cell_type": "markdown",
   "metadata": {},
   "source": [
    "### 4.6.  Based on these results (from Q. 4), do we have enough years of snow cover data to be able to detect a change in the mean by half the standard deviation with some confidence? Explain."
   ]
  },
  {
   "cell_type": "markdown",
   "metadata": {},
   "source": [
    "Your text here."
   ]
  },
  {
   "cell_type": "markdown",
   "metadata": {},
   "source": [
    "## 5. Now choose two more grid points. \n",
    "\n",
    "Try to pick one with similar behavior to the first and one that is different. \n",
    "\n",
    "### 5.1.  For each grid point, calculate the mean, standard deviation, variance, and standard error of the annual-mean time series. \n",
    "\n",
    "Combine the data from all 3 points into a nice table.\t"
   ]
  },
  {
   "cell_type": "code",
   "execution_count": 7,
   "metadata": {},
   "outputs": [],
   "source": [
    "# Your code here"
   ]
  },
  {
   "cell_type": "markdown",
   "metadata": {},
   "source": [
    "### 5.2.   For each combo of grid points (1&2, 2&3, 1&3), plot the histograms together. \n",
    "\n",
    "Use a different color for each grid point. [3 plots total]"
   ]
  },
  {
   "cell_type": "code",
   "execution_count": 7,
   "metadata": {},
   "outputs": [],
   "source": [
    "# Your code here"
   ]
  },
  {
   "cell_type": "markdown",
   "metadata": {},
   "source": [
    "### 5.3.  For each combo of grid points (1&2, 2&3, 1&3), compare the statistics/histograms to each other. \n",
    "\n",
    "For example, which has a higher mean? Does one have a higher variance? Longer tails or increased skewness? \n",
    "\n",
    "(Don’t worry about whether any differences are significant for this question.)"
   ]
  },
  {
   "cell_type": "markdown",
   "metadata": {},
   "source": [
    "Your text here."
   ]
  },
  {
   "cell_type": "markdown",
   "metadata": {},
   "source": [
    "### 5.4.  For each combo of grid points (1&2, 2&3, 1&3), perform both an independent and paired Student’s t test to determine if the null hypothesis (that the means are the same) can be rejected at the 0.95 confidence level. Which test is more stringent? Why?"
   ]
  },
  {
   "cell_type": "code",
   "execution_count": 7,
   "metadata": {},
   "outputs": [],
   "source": [
    "# Your code here"
   ]
  },
  {
   "cell_type": "markdown",
   "metadata": {},
   "source": [
    "Your text here."
   ]
  },
  {
   "cell_type": "markdown",
   "metadata": {},
   "source": [
    "## 6.  Indicate the location of the three points on a polar plot."
   ]
  },
  {
   "cell_type": "code",
   "execution_count": 7,
   "metadata": {},
   "outputs": [],
   "source": [
    "# Your code here"
   ]
  },
  {
   "cell_type": "markdown",
   "metadata": {},
   "source": [
    "## Checklist\n",
    "\n",
    "* Notebook re-runs correctly (\"Kernel\" -> \"Restart and run all\" works)\n",
    "* Plots include titles, labels (with units) on x and y axes, and legends (if multiple lines). (Titles are not necessary if they convey no more information than x and y axis labels.)\n",
    "* Numerical values in Markdown or print statements include units.\n",
    "* Answers to “compare,” “explain,” etc. questions are in complete sentences and grammatically correct. \n",
    "\n"
   ]
  },
  {
   "cell_type": "code",
   "execution_count": null,
   "metadata": {
    "collapsed": true
   },
   "outputs": [],
   "source": []
  }
 ],
 "metadata": {
  "kernelspec": {
   "display_name": "Python 3",
   "language": "python",
   "name": "python3"
  },
  "language_info": {
   "codemirror_mode": {
    "name": "ipython",
    "version": 3
   },
   "file_extension": ".py",
   "mimetype": "text/x-python",
   "name": "python",
   "nbconvert_exporter": "python",
   "pygments_lexer": "ipython3",
   "version": "3.6.5"
  },
  "varInspector": {
   "cols": {
    "lenName": 16,
    "lenType": 16,
    "lenVar": 40
   },
   "kernels_config": {
    "python": {
     "delete_cmd_postfix": "",
     "delete_cmd_prefix": "del ",
     "library": "var_list.py",
     "varRefreshCmd": "print(var_dic_list())"
    },
    "r": {
     "delete_cmd_postfix": ") ",
     "delete_cmd_prefix": "rm(",
     "library": "var_list.r",
     "varRefreshCmd": "cat(var_dic_list()) "
    }
   },
   "types_to_exclude": [
    "module",
    "function",
    "builtin_function_or_method",
    "instance",
    "_Feature"
   ],
   "window_display": false
  }
 },
 "nbformat": 4,
 "nbformat_minor": 1
}

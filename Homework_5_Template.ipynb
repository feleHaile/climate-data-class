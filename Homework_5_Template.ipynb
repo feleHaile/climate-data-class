{
 "cells": [
  {
   "cell_type": "markdown",
   "metadata": {},
   "source": [
    "# Homework 5 Template\n",
    "\n",
    "\n",
    "Climate Data Analysis, ATS 301, Fall 2018\n",
    "\n",
    "## Draft due Nov. 12; Final due Nov. 14\n",
    "\n",
    "\n",
    "This week, we will use the Vostok (Antarctica) ice core data to study correlations between different variables through glacial-interglacial cycles.\n",
    "\n",
    "I downloaded this data from\n",
    "\n",
    "https://www.ncdc.noaa.gov/data-access/paleoclimatology-data/datasets/ice-core\n",
    "[Select \"List of ice cores by location name\", then \"Vostok - Isotope and Gas Data and Temperature Reconstruction\" under Antarctica].\n",
    "\n",
    "and made minor modifications to make it easier to read in the data.\n",
    "\n",
    "**Note: you do not need to discuss individual figures unless specifically requested. You do need to have axis labels, correct units, legends, etc. so that is it clear what is being plotted from the figure alone.**\n",
    "\n",
    "\n",
    "Start by specifying inline plots and importing all the modules you'll need."
   ]
  },
  {
   "cell_type": "code",
   "execution_count": 1,
   "metadata": {
    "collapsed": true,
    "scrolled": true
   },
   "outputs": [],
   "source": [
    "# Your code here"
   ]
  },
  {
   "cell_type": "markdown",
   "metadata": {},
   "source": [
    "## 0.5.\tRead in the data.\n",
    "\n",
    "Use the provided code from the lab. "
   ]
  },
  {
   "cell_type": "code",
   "execution_count": 2,
   "metadata": {},
   "outputs": [],
   "source": [
    "# Your code here"
   ]
  },
  {
   "cell_type": "markdown",
   "metadata": {},
   "source": [
    "Record the column information for each file.\n",
    "\n",
    "**Be sure to provide the reference** (included at the beginning of each file). [It's the same reference for all, so you only need to include it once.]"
   ]
  },
  {
   "cell_type": "markdown",
   "metadata": {},
   "source": [
    "## 1. For methane, CO$_2$, dust, sodium, and δ$^{18}$O as a function of time (ice or gas age, depending on the variable):\n",
    "\n",
    "a.\tPlot _each_ of them _and_ the Vostok temperature difference (on the same plot). [5 plots total]"
   ]
  },
  {
   "cell_type": "code",
   "execution_count": 3,
   "metadata": {},
   "outputs": [],
   "source": [
    "# Your code here"
   ]
  },
  {
   "cell_type": "markdown",
   "metadata": {},
   "source": [
    "b.\tPlot _all_ of them, as well as the temperature difference, stacked on top of one another, with the same x-axis range. [one very tall plot, with six subplots]"
   ]
  },
  {
   "cell_type": "code",
   "execution_count": 3,
   "metadata": {},
   "outputs": [],
   "source": [
    "# Your code here"
   ]
  },
  {
   "cell_type": "markdown",
   "metadata": {},
   "source": [
    "c.\tHow long ago was the last glacial maximum? How much colder than present was it? "
   ]
  },
  {
   "cell_type": "markdown",
   "metadata": {},
   "source": [
    "_Your answer here. Use complete sentences._"
   ]
  },
  {
   "cell_type": "markdown",
   "metadata": {},
   "source": [
    "d.\tHow long ago was the last interglacial? How much warmer than present was it?"
   ]
  },
  {
   "cell_type": "markdown",
   "metadata": {},
   "source": [
    "_Your answer here. Use complete sentences._"
   ]
  },
  {
   "cell_type": "markdown",
   "metadata": {},
   "source": [
    "e.\tWhen temperatures are warm, which other variables tended to be at their high values? Their low values?"
   ]
  },
  {
   "cell_type": "markdown",
   "metadata": {},
   "source": [
    "_Your answer here. Use complete sentences._"
   ]
  },
  {
   "cell_type": "markdown",
   "metadata": {},
   "source": [
    "f.\tWhat were typical glacial values of CO$_2$ and methane? What were typical interglacial values of CO$_2$ and methane? Compare these values to the present-day concentrations."
   ]
  },
  {
   "cell_type": "markdown",
   "metadata": {},
   "source": [
    "_Your answer here. Use complete sentences._"
   ]
  },
  {
   "cell_type": "markdown",
   "metadata": {},
   "source": [
    "## 2.\tComparing ice age and gas age:\n",
    "\n",
    "a.\tPlot ice age and gas age versus depth. [1 plot]"
   ]
  },
  {
   "cell_type": "code",
   "execution_count": 3,
   "metadata": {},
   "outputs": [],
   "source": [
    "# Your code here"
   ]
  },
  {
   "cell_type": "markdown",
   "metadata": {},
   "source": [
    "b.\tIs the thickness of an annual layer of ice smallest at the top or bottom of the core? Why?"
   ]
  },
  {
   "cell_type": "markdown",
   "metadata": {},
   "source": [
    "_Your answer here. Use complete sentences._"
   ]
  },
  {
   "cell_type": "markdown",
   "metadata": {},
   "source": [
    "c.\tExplain why the ice age and the gas age are not the same.  "
   ]
  },
  {
   "cell_type": "markdown",
   "metadata": {},
   "source": [
    "_Your answer here. Use complete sentences._"
   ]
  },
  {
   "cell_type": "markdown",
   "metadata": {},
   "source": [
    "d.\tPlot the difference between the two as a _function of depth_."
   ]
  },
  {
   "cell_type": "code",
   "execution_count": 3,
   "metadata": {},
   "outputs": [],
   "source": [
    "# Your code here"
   ]
  },
  {
   "cell_type": "markdown",
   "metadata": {},
   "source": [
    "e.\tBy how much do they typically differ (just estimate the mean and range by looking at the figure)? "
   ]
  },
  {
   "cell_type": "markdown",
   "metadata": {},
   "source": [
    "_Your answer here. Use complete sentences._"
   ]
  },
  {
   "cell_type": "markdown",
   "metadata": {},
   "source": [
    "f.\tPlot the difference between ice age and gas age, as well as the temperature difference, _as a function of ice age_. [1 plot]"
   ]
  },
  {
   "cell_type": "code",
   "execution_count": 3,
   "metadata": {},
   "outputs": [],
   "source": [
    "# Your code here"
   ]
  },
  {
   "cell_type": "markdown",
   "metadata": {},
   "source": [
    "g.\tDoes the age difference depend on the climate state? If so, how?"
   ]
  },
  {
   "cell_type": "markdown",
   "metadata": {},
   "source": [
    "_Your answer here. Use complete sentences._"
   ]
  },
  {
   "cell_type": "markdown",
   "metadata": {},
   "source": [
    "## 3.\tStudy the relationship between the temperature difference and CO$_2$.\n",
    "\n",
    "a.\tInterpolate the temperature difference to the CO$_2$ times, and plot the original and interpolated data to verify your interpolation."
   ]
  },
  {
   "cell_type": "code",
   "execution_count": 5,
   "metadata": {},
   "outputs": [],
   "source": [
    "# Your code here"
   ]
  },
  {
   "cell_type": "markdown",
   "metadata": {},
   "source": [
    "b.\tCalculate the correlation between temperature difference and CO$_2$."
   ]
  },
  {
   "cell_type": "code",
   "execution_count": 5,
   "metadata": {},
   "outputs": [],
   "source": [
    "# Your code here"
   ]
  },
  {
   "cell_type": "markdown",
   "metadata": {},
   "source": [
    "c.\tAssume the Pearson correlation test is reasonable for this data. Is the correlation statistically different from 0 at the 95% confidence level?"
   ]
  },
  {
   "cell_type": "markdown",
   "metadata": {},
   "source": [
    "_Your answer here._"
   ]
  },
  {
   "cell_type": "markdown",
   "metadata": {},
   "source": [
    "d.\tPerform a linear regression and 2- and 3-degree polyfits of CO$_2$ to temperature difference. Be sure to output the various coefficients and the standard error (from the linear regression). "
   ]
  },
  {
   "cell_type": "code",
   "execution_count": 5,
   "metadata": {},
   "outputs": [],
   "source": [
    "# Your code here"
   ]
  },
  {
   "cell_type": "markdown",
   "metadata": {},
   "source": [
    "e.\tPlot CO$_2$ as a function of temperature difference (as a scatterplot).  Add lines for the linear regression and two polyfit estimates to the plot."
   ]
  },
  {
   "cell_type": "code",
   "execution_count": 5,
   "metadata": {},
   "outputs": [],
   "source": [
    "# Your code here"
   ]
  },
  {
   "cell_type": "markdown",
   "metadata": {},
   "source": [
    "f.\tRe-do steps d and e (the linear regression, polyfits, and plot), fitting temperature to CO$_2$ instead."
   ]
  },
  {
   "cell_type": "code",
   "execution_count": 5,
   "metadata": {},
   "outputs": [],
   "source": [
    "# Your code here"
   ]
  },
  {
   "cell_type": "markdown",
   "metadata": {},
   "source": [
    "g.\tExplain why the slope you get in d is not the inverse of the one in f."
   ]
  },
  {
   "cell_type": "markdown",
   "metadata": {},
   "source": [
    "_Your answer here. Use complete sentences._"
   ]
  },
  {
   "cell_type": "markdown",
   "metadata": {},
   "source": [
    "h.\tWhich do you expect to be more relevant for paleoclimate: using temperature change to estimate CO$_2$ or using CO$_2$ to estimate temperature change? Why? [Hint: this is somewhat of a trick question!]"
   ]
  },
  {
   "cell_type": "markdown",
   "metadata": {},
   "source": [
    "_Your answer here. Use complete sentences._"
   ]
  },
  {
   "cell_type": "markdown",
   "metadata": {},
   "source": [
    "i.\tExtrapolate the temperature change based on the present-day CO$_2$ concentration (roughly 400 ppm), assuming the relationship is linear (or a higher-order polyfit, if you'd like)."
   ]
  },
  {
   "cell_type": "code",
   "execution_count": 4,
   "metadata": {},
   "outputs": [],
   "source": [
    "# Your code here"
   ]
  },
  {
   "cell_type": "markdown",
   "metadata": {},
   "source": [
    "j.\tWhat are some of the limitations of doing this extrapolation?\t"
   ]
  },
  {
   "cell_type": "markdown",
   "metadata": {},
   "source": [
    "_Your answer here. Use complete sentences._"
   ]
  },
  {
   "cell_type": "markdown",
   "metadata": {},
   "source": [
    "## 4.\tWorking with a partner, pick two other relationships to test (between any of the variables). \n",
    "\n",
    "I suggest one person performs the calculations for one relationship, and the other studies the other, and then look at both results together for comparison.  You do not need to include your partner's plots, calculations, etc. here.\n",
    "\n",
    "**Try to make one of them an anti-correlation.** \n",
    "\n",
    "### 4.1 For your case:\n",
    "\n",
    "a.\tInterpolate the more highly resolved variable to other variable's times, and plot the original and interpolated data to verify.\n",
    "\n",
    "b.\tCalculate the correlation between the two variables.\n",
    "\n",
    "c.\tAssume the Pearson correlation test is reasonable for this data.  Is the correlation statistically different from 0 at the 95% confidence level?\n",
    "\n",
    "d.\tPerform a linear regression and 2- and 3-degree polyfits. Be sure to output the various coefficients and the standard error (from the linear regression). \n",
    "\n",
    "e.\tAdd the regression and polyfit estimates to the scatter plot.\n",
    "\n",
    "f.\tRe-do steps d and e, switching the variables.\n",
    "\n",
    "g.\tWhich do you expect to be more relevant for paleoclimate: using variable one to estimate variable two or vice versa? Why? [Hint: this may or may not be a trick question, depending on the variables!]"
   ]
  },
  {
   "cell_type": "code",
   "execution_count": 5,
   "metadata": {},
   "outputs": [],
   "source": [
    "# Your code here"
   ]
  },
  {
   "cell_type": "markdown",
   "metadata": {},
   "source": [
    "_Your answers here. Use complete sentences._"
   ]
  },
  {
   "cell_type": "markdown",
   "metadata": {},
   "source": [
    "### 4.2 Compare your relationship to your partner's.\n",
    "\n",
    "Write about a paragraph comparing and contrasting these relationships. Start by describing your partner's result, as if I couldn't see their plots and code output. Then compare the two results. Some questions you could answer include: which correlations are significant? which correlation is stronger? Speculate as to why. "
   ]
  },
  {
   "cell_type": "markdown",
   "metadata": {},
   "source": [
    "[A paragraph.]"
   ]
  },
  {
   "cell_type": "markdown",
   "metadata": {},
   "source": [
    "## Extra credit: Use the time series of δD and δ$^{18}$O to estimate the temperature difference at Vostok.  \n",
    "\n",
    "a.\tPlot your result along with the temperature difference from the deut file."
   ]
  },
  {
   "cell_type": "code",
   "execution_count": 5,
   "metadata": {},
   "outputs": [],
   "source": [
    "# Your code here"
   ]
  },
  {
   "cell_type": "markdown",
   "metadata": {},
   "source": [
    "b.\tThe data file calls this \"temperature above the inversion\", but the paper refers to two temperatures: surface temperature and inversion temperature. Which do you think this is?  "
   ]
  },
  {
   "cell_type": "markdown",
   "metadata": {},
   "source": [
    "_Your answer here. Use complete sentences._"
   ]
  },
  {
   "cell_type": "markdown",
   "metadata": {},
   "source": [
    "## Checklist\n",
    "\n",
    "* Notebook re-runs correctly (\"Kernel\" -> \"Restart and run all\" works)\n",
    "* Plots include titles, labels (with units) on x and y axes, and legends (if multiple lines). (Titles are not necessary if they convey no more information than x and y axis labels.)\n",
    "* Numerical values in Markdown or print statements include units.\n",
    "* Answers to “compare,” “explain,” etc. questions are in complete sentences and grammatically correct. \n",
    "\n"
   ]
  },
  {
   "cell_type": "code",
   "execution_count": null,
   "metadata": {
    "collapsed": true
   },
   "outputs": [],
   "source": []
  }
 ],
 "metadata": {
  "kernelspec": {
   "display_name": "Python 3",
   "language": "python",
   "name": "python3"
  },
  "language_info": {
   "codemirror_mode": {
    "name": "ipython",
    "version": 3
   },
   "file_extension": ".py",
   "mimetype": "text/x-python",
   "name": "python",
   "nbconvert_exporter": "python",
   "pygments_lexer": "ipython3",
   "version": "3.6.5"
  },
  "varInspector": {
   "cols": {
    "lenName": 16,
    "lenType": 16,
    "lenVar": 40
   },
   "kernels_config": {
    "python": {
     "delete_cmd_postfix": "",
     "delete_cmd_prefix": "del ",
     "library": "var_list.py",
     "varRefreshCmd": "print(var_dic_list())"
    },
    "r": {
     "delete_cmd_postfix": ") ",
     "delete_cmd_prefix": "rm(",
     "library": "var_list.r",
     "varRefreshCmd": "cat(var_dic_list()) "
    }
   },
   "types_to_exclude": [
    "module",
    "function",
    "builtin_function_or_method",
    "instance",
    "_Feature"
   ],
   "window_display": false
  }
 },
 "nbformat": 4,
 "nbformat_minor": 1
}

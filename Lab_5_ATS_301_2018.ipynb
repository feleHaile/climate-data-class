{
 "cells": [
  {
   "cell_type": "markdown",
   "metadata": {},
   "source": [
    "# Computer Lab 5: Atlantic Tropical Storms\n",
    "Climate Data Analysis, ATS 301, Fall 2018\t\t\t\t\t\n",
    "\n",
    "Primary objectives for today:\n",
    "* Plot (in different ways) information about tropical storms, hurricanes, and major hurricanes.\n",
    "\n",
    "## Reading in the data (possibly Pre-Lab 5)\n",
    "\n",
    "As before, we start by specifing that we want plots to be displayed inside the Jupyter Notebook, and load the modules we'll need."
   ]
  },
  {
   "cell_type": "code",
   "execution_count": 6,
   "metadata": {
    "scrolled": true
   },
   "outputs": [],
   "source": [
    "%matplotlib inline\n",
    "import matplotlib.pyplot as plt\n",
    "import numpy as np"
   ]
  },
  {
   "cell_type": "markdown",
   "metadata": {},
   "source": [
    "Read in the data, again using the `np.genfromtxt` function.  The file is located at \n",
    "\n",
    "`/data/ATS_301/Data/tropical_storm_2017.csv`"
   ]
  },
  {
   "cell_type": "code",
   "execution_count": null,
   "metadata": {
    "code_folding": []
   },
   "outputs": [],
   "source": [
    "# Put the correct options here, based on the file.\n",
    "storm_num=np.genfromtxt(\"/data/ATS_301/Data/tropical_storm_2017.csv\",????)"
   ]
  },
  {
   "cell_type": "code",
   "execution_count": 1,
   "metadata": {
    "code_folding": [
     0
    ]
   },
   "outputs": [],
   "source": [
    "# \n",
    "\n",
    "# Note to self: just add another line to the previous year's file.  Don't need to \n",
    "# download and mess with the table again.\n",
    "storm_num=np.genfromtxt(\"/data/ATS_301/Data/tropical_storm_2017.csv\",delimiter=',',skip_header=1)"
   ]
  },
  {
   "cell_type": "markdown",
   "metadata": {},
   "source": [
    "**Record the information about the source of the data in a Markdown cell.**\n",
    "\n",
    "\n",
    "Verify that the size of the array is what you'd expect."
   ]
  },
  {
   "cell_type": "code",
   "execution_count": null,
   "metadata": {},
   "outputs": [],
   "source": [
    "# Put the function to show the size of the array here."
   ]
  },
  {
   "cell_type": "code",
   "execution_count": 2,
   "metadata": {
    "code_folding": [
     0
    ]
   },
   "outputs": [
    {
     "data": {
      "text/plain": [
       "(167, 11)"
      ]
     },
     "execution_count": 2,
     "metadata": {},
     "output_type": "execute_result"
    }
   ],
   "source": [
    "#\n",
    "np.shape(storm_num)"
   ]
  },
  {
   "cell_type": "markdown",
   "metadata": {},
   "source": [
    "Look at file itself. Which column corresponds to the years? Verify this by printing out just that column (i.e., print out the years). (Remember that the first index is 0, and \":\" means everything in that dimension.) What are the first and last years of this data set?"
   ]
  },
  {
   "cell_type": "code",
   "execution_count": null,
   "metadata": {
    "code_folding": []
   },
   "outputs": [],
   "source": [
    "# Replace XXXXXXX with correct indices to show the years.\n",
    "storm_num[XXXXXX,XXXXXX]"
   ]
  },
  {
   "cell_type": "code",
   "execution_count": 3,
   "metadata": {
    "code_folding": [
     0
    ]
   },
   "outputs": [
    {
     "data": {
      "text/plain": [
       "array([1851., 1852., 1853., 1854., 1855., 1856., 1857., 1858., 1859.,\n",
       "       1860., 1861., 1862., 1863., 1864., 1865., 1866., 1867., 1868.,\n",
       "       1869., 1870., 1871., 1872., 1873., 1874., 1875., 1876., 1877.,\n",
       "       1878., 1879., 1880., 1881., 1882., 1883., 1884., 1885., 1886.,\n",
       "       1887., 1888., 1889., 1890., 1891., 1892., 1893., 1894., 1895.,\n",
       "       1896., 1897., 1898., 1899., 1900., 1901., 1902., 1903., 1904.,\n",
       "       1905., 1906., 1907., 1908., 1909., 1910., 1911., 1912., 1913.,\n",
       "       1914., 1915., 1916., 1917., 1918., 1919., 1920., 1921., 1922.,\n",
       "       1923., 1924., 1925., 1926., 1927., 1928., 1929., 1930., 1931.,\n",
       "       1932., 1933., 1934., 1935., 1936., 1937., 1938., 1939., 1940.,\n",
       "       1941., 1942., 1943., 1944., 1945., 1946., 1947., 1948., 1949.,\n",
       "       1950., 1951., 1952., 1953., 1954., 1955., 1956., 1957., 1958.,\n",
       "       1959., 1960., 1961., 1962., 1963., 1964., 1965., 1966., 1967.,\n",
       "       1968., 1969., 1970., 1971., 1972., 1973., 1974., 1975., 1976.,\n",
       "       1977., 1978., 1979., 1980., 1981., 1982., 1983., 1984., 1985.,\n",
       "       1986., 1987., 1988., 1989., 1990., 1991., 1992., 1993., 1994.,\n",
       "       1995., 1996., 1997., 1998., 1999., 2000., 2001., 2002., 2003.,\n",
       "       2004., 2005., 2006., 2007., 2008., 2009., 2010., 2011., 2012.,\n",
       "       2013., 2014., 2015., 2016., 2017.])"
      ]
     },
     "execution_count": 3,
     "metadata": {},
     "output_type": "execute_result"
    }
   ],
   "source": [
    "#\n",
    "storm_num[:,0]"
   ]
  },
  {
   "cell_type": "markdown",
   "metadata": {},
   "source": [
    "Print out the data for total number of \"named storms (revised)\" to see what sort of numbers you get."
   ]
  },
  {
   "cell_type": "code",
   "execution_count": null,
   "metadata": {},
   "outputs": [],
   "source": [
    "# Replace with the correct index.\n",
    "storm_num[XXXXXX,XXXXXX]"
   ]
  },
  {
   "cell_type": "code",
   "execution_count": 4,
   "metadata": {
    "code_folding": [
     0
    ]
   },
   "outputs": [
    {
     "data": {
      "text/plain": [
       "array([ 6.,  5.,  8.,  5.,  5.,  6.,  4.,  6.,  8.,  7.,  8.,  6.,  9.,\n",
       "        5.,  7.,  7.,  9.,  4., 10., 11.,  8.,  5.,  5.,  7.,  6.,  5.,\n",
       "        8., 12.,  8., 11.,  7.,  6.,  4.,  4.,  8., 12., 19.,  9.,  9.,\n",
       "        4., 10.,  9., 12.,  7.,  6.,  7.,  6., 11., 10.,  7., 13.,  5.,\n",
       "       10.,  6.,  5., 11.,  5., 10., 12.,  5.,  6.,  7.,  6.,  1.,  6.,\n",
       "       15.,  4.,  6.,  5.,  5.,  7.,  5.,  9., 11.,  4., 11.,  8.,  6.,\n",
       "        5.,  3., 13., 15., 20., 13.,  8., 17., 11.,  9.,  6.,  9.,  6.,\n",
       "       11., 10., 14., 11.,  7., 10., 10., 16., 16., 12., 11., 14., 16.,\n",
       "       13., 12.,  8., 12., 14.,  8., 11.,  5.,  9., 12.,  6., 11.,  8.,\n",
       "        8., 18., 10., 13.,  7.,  8., 11.,  9., 10.,  6., 12.,  9., 11.,\n",
       "       12.,  6.,  4., 13., 11.,  6.,  7., 12., 11., 14.,  8.,  7.,  8.,\n",
       "        7., 19., 13.,  8., 14., 12., 15., 15., 12., 16., 15., 28., 10.,\n",
       "       15., 16.,  9., 19., 19., 19., 14.,  8., 11., 15., 17.])"
      ]
     },
     "execution_count": 4,
     "metadata": {},
     "output_type": "execute_result"
    }
   ],
   "source": [
    "#\n",
    "storm_num[:,2]"
   ]
  },
  {
   "cell_type": "markdown",
   "metadata": {},
   "source": [
    "Plot the three columns that correspond to the (revised) number of named storms, hurricanes, and major hurricanes as a function of year.\n",
    "\n",
    "This is basically the same thing as what you did with the temperature data; you're just using a different dataset.  Copying your code from the previous assignment is fine here. (Reusing your own code is usually a great place to start.)\n",
    "\n",
    "Note that you cannot copy cells directly from one notebook to another. Instead, highlight the code you want to copy in a cell, press ⌘C (for Copy), go the the notebook you want to copy it to, and press ⌘V (for Paste). "
   ]
  },
  {
   "cell_type": "code",
   "execution_count": null,
   "metadata": {
    "code_folding": [],
    "scrolled": false
   },
   "outputs": [],
   "source": [
    "###### your plotting code goes here. Be sure in include axis labels and and a legend. \n",
    "# Play around with the plotting options (markers, colors, lines, etc.) to make the data \n",
    "# as easy to read as possible."
   ]
  },
  {
   "cell_type": "code",
   "execution_count": 7,
   "metadata": {
    "code_folding": [
     0
    ]
   },
   "outputs": [
    {
     "data": {
      "text/plain": [
       "<matplotlib.legend.Legend at 0x7f2eeaf85da0>"
      ]
     },
     "execution_count": 7,
     "metadata": {},
     "output_type": "execute_result"
    },
    {
     "data": {
      "image/png": "[encoded data removed]",
      "text/plain": [
       "<Figure size 720x576 with 1 Axes>"
      ]
     },
     "metadata": {
      "needs_background": "light"
     },
     "output_type": "display_data"
    }
   ],
   "source": [
    "#\n",
    "\n",
    "# Note: figsize included here to make plot bigger.  Haven't introduced it quite yet.\n",
    "plt.figure(figsize=(10,8))\n",
    "plt.plot(storm_num[:,0],storm_num[:,2],'k-',label=\"Named\")\n",
    "plt.plot(storm_num[:,0],storm_num[:,4],'r-',label=\"Hurricanes\")\n",
    "plt.plot(storm_num[:,0],storm_num[:,6],'b-',label=\"Major Hurricanes\")\n",
    "plt.ylabel(\"Number of storms\",size=20)\n",
    "plt.xlabel(\"Year\",size=20)\n",
    "plt.title(\"HURDAT2\",size=30)\n",
    "plt.legend(loc=\"best\",fontsize=\"x-large\")"
   ]
  },
  {
   "cell_type": "markdown",
   "metadata": {
    "collapsed": true
   },
   "source": [
    "### End of Pre-Lab"
   ]
  },
  {
   "cell_type": "markdown",
   "metadata": {
    "collapsed": true
   },
   "source": [
    "## Basic Statistics##"
   ]
  },
  {
   "cell_type": "markdown",
   "metadata": {
    "collapsed": true
   },
   "source": [
    "Calculate basic statistics for these three (revised) variables. To do this, use the the numpy\n",
    "commands `np.median`, `np.mean`, and `np.std` on just **one** column of data.\n",
    "\n",
    "**Note**: if you input more than a single row or column to these commands, you might get an answer other than you'd expect. We'll talk about this later, but, for now, just stick to a single column at a time.\n",
    "\n",
    "As an example, here's how to print out the median, mean, and std for (revised) named storms."
   ]
  },
  {
   "cell_type": "code",
   "execution_count": 8,
   "metadata": {},
   "outputs": [
    {
     "name": "stdout",
     "output_type": "stream",
     "text": [
      "9.0\n",
      "9.58682634730539\n",
      "4.168954993318087\n"
     ]
    }
   ],
   "source": [
    "print(np.median(storm_num[:,2]))\n",
    "print(np.mean(storm_num[:,2]))\n",
    "print(np.std(storm_num[:,2]))"
   ]
  },
  {
   "cell_type": "markdown",
   "metadata": {},
   "source": [
    "You can also look at the maximum and minimum values. If you specify a subset or slice of the array, thes `max` and `min` functions will find the max or min of just that subset."
   ]
  },
  {
   "cell_type": "code",
   "execution_count": 9,
   "metadata": {},
   "outputs": [
    {
     "name": "stdout",
     "output_type": "stream",
     "text": [
      "28.0\n",
      "1.0\n"
     ]
    }
   ],
   "source": [
    "print(max(storm_num[:,2]))\n",
    "print(min(storm_num[:,2]))"
   ]
  },
  {
   "cell_type": "markdown",
   "metadata": {},
   "source": [
    "Now calculate the median, mean, std, minimum, and maximum of the number of hurricanes."
   ]
  },
  {
   "cell_type": "code",
   "execution_count": 10,
   "metadata": {
    "code_folding": [
     0
    ]
   },
   "outputs": [
    {
     "name": "stdout",
     "output_type": "stream",
     "text": [
      "5.0\n",
      "5.431137724550898\n",
      "2.534738389969041\n",
      "15.0\n",
      "0.0\n"
     ]
    }
   ],
   "source": [
    "# Your code goes here\n",
    "\n",
    "print(np.median(storm_num[:,4]))\n",
    "print(np.mean(storm_num[:,4]))\n",
    "print(np.std(storm_num[:,4]))\n",
    "print(max(storm_num[:,4]))\n",
    "print(min(storm_num[:,4]))"
   ]
  },
  {
   "cell_type": "markdown",
   "metadata": {},
   "source": [
    "Printing out all of these numbers works OK when you don't have many numbers, but it can get difficult to keep track of what is what. \n",
    "\n",
    "So, we add some text to the `print` functions.  You can print multiple quantities separated by commas in one `print` function."
   ]
  },
  {
   "cell_type": "code",
   "execution_count": 13,
   "metadata": {},
   "outputs": [
    {
     "name": "stdout",
     "output_type": "stream",
     "text": [
      "Median named storms:  9.0 units\n",
      "Mean named storms:  9.58682634730539\n",
      "Standard deviation of named storms:  4.168954993318087\n"
     ]
    }
   ],
   "source": [
    "print(\"Median named storms: \",np.median(storm_num[:,2]),'units')\n",
    "print(\"Mean named storms: \",np.mean(storm_num[:,2]))\n",
    "print(\"Standard deviation of named storms: \",np.std(storm_num[:,2]))"
   ]
  },
  {
   "cell_type": "markdown",
   "metadata": {},
   "source": [
    "## Tables "
   ]
  },
  {
   "cell_type": "markdown",
   "metadata": {},
   "source": [
    "To make it even easier to look at the data, we'll organize it into tables. \n",
    "\n",
    "As we did last week, we will be using the `format` function to specify how many digits to display.  Here's an example of a row in the table:"
   ]
  },
  {
   "cell_type": "code",
   "execution_count": 14,
   "metadata": {},
   "outputs": [
    {
     "name": "stdout",
     "output_type": "stream",
     "text": [
      "           Named        Hurr.  Str Hurr   U.S.\n",
      "Median:    9.00         5.00     2.00     2.00\n"
     ]
    }
   ],
   "source": [
    "print('           Named        Hurr.  Str Hurr   U.S.')\n",
    "print('Median:    {0:.2f}         {1:.2f}     {2:.2f}     {3:.2f}'.format\\\n",
    "                                  (np.median(storm_num[:,2]), \\\n",
    "                                   np.median(storm_num[:,4]), \\\n",
    "                                   np.median(storm_num[:,6]), \\\n",
    "                                   np.median(storm_num[:,10])))\n"
   ]
  },
  {
   "cell_type": "markdown",
   "metadata": {},
   "source": [
    "**Note what happens when you type the backslash and press enter.** The backslash indicates that the command continues on the next line. You can do this to avoid having the line of code get too wide for the window.\n",
    "\n",
    "Now add lines for the mean, standard deviation, maximum, and minimum."
   ]
  },
  {
   "cell_type": "code",
   "execution_count": 15,
   "metadata": {
    "code_folding": [
     0
    ]
   },
   "outputs": [
    {
     "name": "stdout",
     "output_type": "stream",
     "text": [
      "           Named    Hurr.  Str Hurr   U.S.\n",
      "Median:    9.00     5.00     2.00     2.00\n",
      "Mean:      9.59     5.43     1.89     1.76\n",
      "Std dev:   4.17     2.53     1.65     1.42\n",
      "Min:          1        0        0        0\n",
      "Max:         28       15        7        7\n"
     ]
    }
   ],
   "source": [
    "#### Put your table here\n",
    "\n",
    "print('           Named    Hurr.  Str Hurr   U.S.')\n",
    "print('Median:    {0:.2f}     {1:.2f}     {2:.2f}     {3:.2f}'.format(np.median(storm_num[:,2]), \\\n",
    "                                                          np.median(storm_num[:,4]), \\\n",
    "                                                          np.median(storm_num[:,6]), \\\n",
    "                                                          np.median(storm_num[:,10])))\n",
    "print('Mean:      {0:.2f}     {1:.2f}     {2:.2f}     {3:.2f}'.format(np.mean(storm_num[:,2]), \\\n",
    "                                                          np.mean(storm_num[:,4]), \\\n",
    "                                                          np.mean(storm_num[:,6]), \\\n",
    "                                                          np.mean(storm_num[:,10])))\n",
    "print('Std dev:   {0:.2f}     {1:.2f}     {2:.2f}     {3:.2f}'.format(np.std(storm_num[:,2]), \\\n",
    "                                                          np.std(storm_num[:,4]), \\\n",
    "                                                          np.std(storm_num[:,6]), \\\n",
    "                                                          np.std(storm_num[:,10])))\n",
    "print('Min:       {0:4.0f}     {1:4.0f}     {2:4.0f}     {3:4.0f}'.format(min(storm_num[:,2]), \\\n",
    "                                                          min(storm_num[:,4]), \\\n",
    "                                                          min(storm_num[:,6]), \\\n",
    "                                                          min(storm_num[:,10])))\n",
    "print('Max:       {0:4.0f}     {1:4.0f}     {2:4.0f}     {3:4.0f}'.format(max(storm_num[:,2]), \\\n",
    "                                                          max(storm_num[:,4]), \\\n",
    "                                                          max(storm_num[:,6]), \\\n",
    "                                                          max(storm_num[:,10])))"
   ]
  },
  {
   "cell_type": "markdown",
   "metadata": {},
   "source": [
    "### Comparison with original data ###\n",
    "\n",
    "Next, try calculating the median for the original named storm data."
   ]
  },
  {
   "cell_type": "code",
   "execution_count": 16,
   "metadata": {},
   "outputs": [
    {
     "name": "stderr",
     "output_type": "stream",
     "text": [
      "/usr/local/lib/python3.6/dist-packages/numpy/lib/function_base.py:3250: RuntimeWarning: Invalid value encountered in median\n",
      "  r = func(a, **kwargs)\n"
     ]
    },
    {
     "data": {
      "text/plain": [
       "nan"
      ]
     },
     "execution_count": 16,
     "metadata": {},
     "output_type": "execute_result"
    }
   ],
   "source": [
    "np.median(storm_num[:,1])"
   ]
  },
  {
   "cell_type": "markdown",
   "metadata": {},
   "source": [
    "What do you think this means? Take a look at the data in this column:"
   ]
  },
  {
   "cell_type": "code",
   "execution_count": 17,
   "metadata": {},
   "outputs": [
    {
     "data": {
      "text/plain": [
       "array([nan, nan, nan, nan, nan, nan, nan, nan, nan, nan, nan, nan, nan,\n",
       "       nan, nan, nan, nan, nan, nan, nan,  6.,  5.,  5.,  7.,  4.,  3.,\n",
       "        8., 10.,  8.,  9.,  6.,  3.,  4.,  3.,  8., 10., 17.,  9.,  9.,\n",
       "        1., 11.,  9., 12.,  6.,  6.,  6.,  5.,  9.,  6.,  7., 10.,  5.,\n",
       "        9.,  5.,  5., 11.,  4.,  8., 10.,  4.,  4.,  6.,  4.,  1.,  5.,\n",
       "       14.,  3.,  5.,  3.,  4.,  6.,  4.,  7.,  8.,  2., 11.,  7.,  6.,\n",
       "        3.,  2.,  9., 11., 21., 11.,  6., 16.,  9.,  8.,  5.,  8.,  6.,\n",
       "       10., 10., 11., 11.,  6.,  9.,  9., 13., 13., 10.,  7., 14., 11.,\n",
       "       12.,  8.,  8., 10., 11.,  7., 11.,  5.,  9., 12.,  6., 11.,  8.,\n",
       "        8., 18., 10., 13.,  7.,  8., 11.,  9., 10.,  6., 12.,  9., 11.,\n",
       "       12.,  6.,  4., 13., 11.,  6.,  7., 12., 11., 14.,  8.,  7.,  8.,\n",
       "        7., 19., 13.,  8., 14., 12., 15., 15., 12., 16., 15., 28., 10.,\n",
       "       15., 16.,  9., 19., 19., 19., 14.,  8., 11., 15., 17.])"
      ]
     },
     "execution_count": 17,
     "metadata": {},
     "output_type": "execute_result"
    }
   ],
   "source": [
    "storm_num[:,1]"
   ]
  },
  {
   "cell_type": "markdown",
   "metadata": {},
   "source": [
    "To ignore the nan's and calculate the statistical properties for the remaining values, use `np.nanmedian`, `np.nanmean`, `np.nanstd`, `np.nanmax`, and `np.nanmin` instead. \n",
    "\n",
    "Note that these functions are part of the `numpy` module, so you have to include the `np.` prefix here."
   ]
  },
  {
   "cell_type": "code",
   "execution_count": 18,
   "metadata": {},
   "outputs": [
    {
     "name": "stdout",
     "output_type": "stream",
     "text": [
      "9.0\n",
      "9.16326530612245\n",
      "4.376873074376786\n",
      "1.0\n",
      "28.0\n"
     ]
    }
   ],
   "source": [
    "print(np.nanmedian(storm_num[:,1]))\n",
    "print(np.nanmean(storm_num[:,1]))\n",
    "print(np.nanstd(storm_num[:,1]))\n",
    "print(np.nanmin(storm_num[:,1]))\n",
    "print(np.nanmax(storm_num[:,1]))"
   ]
  },
  {
   "cell_type": "markdown",
   "metadata": {},
   "source": [
    "Now you can create a table with the statistical properties for the original data. **Note that this data includes fewer years**, so we have to be careful when comparing to the revised data, in case the hurricane properties were actually different for the years with missing original data.\n",
    "\n",
    "Finally, include a header on the table to indicate this is original data.  You'll want to add a header to the revised table you made earlier."
   ]
  },
  {
   "cell_type": "code",
   "execution_count": 19,
   "metadata": {},
   "outputs": [
    {
     "name": "stdout",
     "output_type": "stream",
     "text": [
      "Original data\n",
      "-------------\n",
      "           Named    Hurr.  Str Hurr   U.S.\n",
      "Median:    9.00     5.00     2.00     1.00\n"
     ]
    }
   ],
   "source": [
    "print('Original data')\n",
    "print('-------------')\n",
    "print('           Named    Hurr.  Str Hurr   U.S.')\n",
    "print('Median:    {0:.2f}     {1:.2f}     {2:.2f}     {3:.2f}'.format\\\n",
    "                                               (np.nanmedian(storm_num[:,1]), \\\n",
    "                                                np.nanmedian(storm_num[:,3]), \\\n",
    "                                                np.nanmedian(storm_num[:,5]), \\\n",
    "                                                np.nanmedian(storm_num[:,9])))"
   ]
  },
  {
   "cell_type": "code",
   "execution_count": 20,
   "metadata": {
    "code_folding": [
     0
    ]
   },
   "outputs": [
    {
     "name": "stdout",
     "output_type": "stream",
     "text": [
      "Original data\n",
      "-------------\n",
      "           Named    Hurr.  Str Hurr   U.S.\n",
      "Median:    9.00     5.00     2.00     1.00\n",
      "Mean:      9.16     5.35     2.14     1.65\n",
      "Std dev:   4.38     2.74     1.84     1.38\n",
      "Min:          1        0        0        0\n",
      "Max:         28       15        8        6\n",
      "\n",
      "Revised data\n",
      "-------------\n",
      "           Named    Hurr.  Str Hurr   U.S.\n",
      "Median:    9.00     5.00     2.00     2.00\n",
      "Mean:      9.59     5.43     1.89     1.76\n",
      "Std dev:   4.17     2.53     1.65     1.42\n",
      "Min:          1        0        0        0\n",
      "Max:         28       15        7        7\n"
     ]
    }
   ],
   "source": [
    "# Finish the table\n",
    "\n",
    "print('Original data')\n",
    "print('-------------')\n",
    "print('           Named    Hurr.  Str Hurr   U.S.')\n",
    "print('Median:    {0:.2f}     {1:.2f}     {2:.2f}     {3:.2f}'.format(np.nanmedian(storm_num[:,1]), \\\n",
    "                                                          np.nanmedian(storm_num[:,3]), \\\n",
    "                                                          np.nanmedian(storm_num[:,5]), \\\n",
    "                                                          np.nanmedian(storm_num[:,9])))\n",
    "print('Mean:      {0:.2f}     {1:.2f}     {2:.2f}     {3:.2f}'.format(np.nanmean(storm_num[:,1]), \\\n",
    "                                                          np.nanmean(storm_num[:,3]), \\\n",
    "                                                          np.nanmean(storm_num[:,5]), \\\n",
    "                                                          np.nanmean(storm_num[:,9])))\n",
    "print('Std dev:   {0:.2f}     {1:.2f}     {2:.2f}     {3:.2f}'.format(np.nanstd(storm_num[:,1]), \\\n",
    "                                                          np.nanstd(storm_num[:,3]), \\\n",
    "                                                          np.nanstd(storm_num[:,5]), \\\n",
    "                                                          np.nanstd(storm_num[:,9])))\n",
    "print('Min:       {0:4.0f}     {1:4.0f}     {2:4.0f}     {3:4.0f}'.format(np.nanmin(storm_num[:,1]), \\\n",
    "                                                          np.nanmin(storm_num[:,3]), \\\n",
    "                                                          np.nanmin(storm_num[:,4]), \\\n",
    "                                                          np.nanmin(storm_num[:,9])))\n",
    "print('Max:       {0:4.0f}     {1:4.0f}     {2:4.0f}     {3:4.0f}'.format(np.nanmax(storm_num[:,1]), \\\n",
    "                                                          np.nanmax(storm_num[:,3]), \\\n",
    "                                                          np.nanmax(storm_num[:,5]), \\\n",
    "                                                          np.nanmax(storm_num[:,9])))\n",
    "\n",
    "print('')\n",
    "print('Revised data')\n",
    "print('-------------')\n",
    "print('           Named    Hurr.  Str Hurr   U.S.')\n",
    "print('Median:    {0:.2f}     {1:.2f}     {2:.2f}     {3:.2f}'.format(np.median(storm_num[:,2]), \\\n",
    "                                                          np.median(storm_num[:,4]), \\\n",
    "                                                          np.median(storm_num[:,6]), \\\n",
    "                                                          np.median(storm_num[:,10])))\n",
    "print('Mean:      {0:.2f}     {1:.2f}     {2:.2f}     {3:.2f}'.format(np.mean(storm_num[:,2]), \\\n",
    "                                                          np.mean(storm_num[:,4]), \\\n",
    "                                                          np.mean(storm_num[:,6]), \\\n",
    "                                                          np.mean(storm_num[:,10])))\n",
    "print('Std dev:   {0:.2f}     {1:.2f}     {2:.2f}     {3:.2f}'.format(np.std(storm_num[:,2]), \\\n",
    "                                                          np.std(storm_num[:,4]), \\\n",
    "                                                          np.std(storm_num[:,6]), \\\n",
    "                                                          np.std(storm_num[:,10])))\n",
    "print('Min:       {0:4.0f}     {1:4.0f}     {2:4.0f}     {3:4.0f}'.format(min(storm_num[:,2]), \\\n",
    "                                                          min(storm_num[:,4]), \\\n",
    "                                                          min(storm_num[:,6]), \\\n",
    "                                                          min(storm_num[:,10])))\n",
    "print('Max:       {0:4.0f}     {1:4.0f}     {2:4.0f}     {3:4.0f}'.format(max(storm_num[:,2]), \\\n",
    "                                                          max(storm_num[:,4]), \\\n",
    "                                                          max(storm_num[:,6]), \\\n",
    "                                                          max(storm_num[:,10])))\n",
    "                \n",
    "            "
   ]
  },
  {
   "cell_type": "markdown",
   "metadata": {},
   "source": [
    "## Histograms ##"
   ]
  },
  {
   "cell_type": "markdown",
   "metadata": {},
   "source": [
    "Now, create a histogram with the named storm data, using the `plt.hist` function."
   ]
  },
  {
   "cell_type": "code",
   "execution_count": 21,
   "metadata": {},
   "outputs": [
    {
     "name": "stdout",
     "output_type": "stream",
     "text": [
      "Help on function hist in module matplotlib.pyplot:\n",
      "\n",
      "hist(x, bins=None, range=None, density=None, weights=None, cumulative=False, bottom=None, histtype='bar', align='mid', orientation='vertical', rwidth=None, log=False, color=None, label=None, stacked=False, normed=None, hold=None, data=None, **kwargs)\n",
      "    Plot a histogram.\n",
      "    \n",
      "    Compute and draw the histogram of *x*. The return value is a\n",
      "    tuple (*n*, *bins*, *patches*) or ([*n0*, *n1*, ...], *bins*,\n",
      "    [*patches0*, *patches1*,...]) if the input contains multiple\n",
      "    data.\n",
      "    \n",
      "    Multiple data can be provided via *x* as a list of datasets\n",
      "    of potentially different length ([*x0*, *x1*, ...]), or as\n",
      "    a 2-D ndarray in which each column is a dataset.  Note that\n",
      "    the ndarray form is transposed relative to the list form.\n",
      "    \n",
      "    Masked arrays are not supported at present.\n",
      "    \n",
      "    Parameters\n",
      "    ----------\n",
      "    x : (n,) array or sequence of (n,) arrays\n",
      "        Input values, this takes either a single array or a sequence of\n",
      "        arrays which are not required to be of the same length\n",
      "    \n",
      "    bins : integer or sequence or 'auto', optional\n",
      "        If an integer is given, ``bins + 1`` bin edges are calculated and\n",
      "        returned, consistent with :func:`numpy.histogram`.\n",
      "    \n",
      "        If `bins` is a sequence, gives bin edges, including left edge of\n",
      "        first bin and right edge of last bin.  In this case, `bins` is\n",
      "        returned unmodified.\n",
      "    \n",
      "        All but the last (righthand-most) bin is half-open.  In other\n",
      "        words, if `bins` is::\n",
      "    \n",
      "            [1, 2, 3, 4]\n",
      "    \n",
      "        then the first bin is ``[1, 2)`` (including 1, but excluding 2) and\n",
      "        the second ``[2, 3)``.  The last bin, however, is ``[3, 4]``, which\n",
      "        *includes* 4.\n",
      "    \n",
      "        Unequally spaced bins are supported if *bins* is a sequence.\n",
      "    \n",
      "        If Numpy 1.11 is installed, may also be ``'auto'``.\n",
      "    \n",
      "        Default is taken from the rcParam ``hist.bins``.\n",
      "    \n",
      "    range : tuple or None, optional\n",
      "        The lower and upper range of the bins. Lower and upper outliers\n",
      "        are ignored. If not provided, *range* is ``(x.min(), x.max())``.\n",
      "        Range has no effect if *bins* is a sequence.\n",
      "    \n",
      "        If *bins* is a sequence or *range* is specified, autoscaling\n",
      "        is based on the specified bin range instead of the\n",
      "        range of x.\n",
      "    \n",
      "        Default is ``None``\n",
      "    \n",
      "    density : boolean, optional\n",
      "        If ``True``, the first element of the return tuple will\n",
      "        be the counts normalized to form a probability density, i.e.,\n",
      "        the area (or integral) under the histogram will sum to 1.\n",
      "        This is achieved by dividing the count by the number of\n",
      "        observations times the bin width and not dividing by the total\n",
      "        number of observations. If *stacked* is also ``True``, the sum of\n",
      "        the histograms is normalized to 1.\n",
      "    \n",
      "        Default is ``None`` for both *normed* and *density*. If either is\n",
      "        set, then that value will be used. If neither are set, then the\n",
      "        args will be treated as ``False``.\n",
      "    \n",
      "        If both *density* and *normed* are set an error is raised.\n",
      "    \n",
      "    weights : (n, ) array_like or None, optional\n",
      "        An array of weights, of the same shape as *x*.  Each value in *x*\n",
      "        only contributes its associated weight towards the bin count\n",
      "        (instead of 1).  If *normed* or *density* is ``True``,\n",
      "        the weights are normalized, so that the integral of the density\n",
      "        over the range remains 1.\n",
      "    \n",
      "        Default is ``None``\n",
      "    \n",
      "    cumulative : boolean, optional\n",
      "        If ``True``, then a histogram is computed where each bin gives the\n",
      "        counts in that bin plus all bins for smaller values. The last bin\n",
      "        gives the total number of datapoints. If *normed* or *density*\n",
      "        is also ``True`` then the histogram is normalized such that the\n",
      "        last bin equals 1. If *cumulative* evaluates to less than 0\n",
      "        (e.g., -1), the direction of accumulation is reversed.\n",
      "        In this case, if *normed* and/or *density* is also ``True``, then\n",
      "        the histogram is normalized such that the first bin equals 1.\n",
      "    \n",
      "        Default is ``False``\n",
      "    \n",
      "    bottom : array_like, scalar, or None\n",
      "        Location of the bottom baseline of each bin.  If a scalar,\n",
      "        the base line for each bin is shifted by the same amount.\n",
      "        If an array, each bin is shifted independently and the length\n",
      "        of bottom must match the number of bins.  If None, defaults to 0.\n",
      "    \n",
      "        Default is ``None``\n",
      "    \n",
      "    histtype : {'bar', 'barstacked', 'step',  'stepfilled'}, optional\n",
      "        The type of histogram to draw.\n",
      "    \n",
      "        - 'bar' is a traditional bar-type histogram.  If multiple data\n",
      "          are given the bars are arranged side by side.\n",
      "    \n",
      "        - 'barstacked' is a bar-type histogram where multiple\n",
      "          data are stacked on top of each other.\n",
      "    \n",
      "        - 'step' generates a lineplot that is by default\n",
      "          unfilled.\n",
      "    \n",
      "        - 'stepfilled' generates a lineplot that is by default\n",
      "          filled.\n",
      "    \n",
      "        Default is 'bar'\n",
      "    \n",
      "    align : {'left', 'mid', 'right'}, optional\n",
      "        Controls how the histogram is plotted.\n",
      "    \n",
      "            - 'left': bars are centered on the left bin edges.\n",
      "    \n",
      "            - 'mid': bars are centered between the bin edges.\n",
      "    \n",
      "            - 'right': bars are centered on the right bin edges.\n",
      "    \n",
      "        Default is 'mid'\n",
      "    \n",
      "    orientation : {'horizontal', 'vertical'}, optional\n",
      "        If 'horizontal', `~matplotlib.pyplot.barh` will be used for\n",
      "        bar-type histograms and the *bottom* kwarg will be the left edges.\n",
      "    \n",
      "    rwidth : scalar or None, optional\n",
      "        The relative width of the bars as a fraction of the bin width.  If\n",
      "        ``None``, automatically compute the width.\n",
      "    \n",
      "        Ignored if *histtype* is 'step' or 'stepfilled'.\n",
      "    \n",
      "        Default is ``None``\n",
      "    \n",
      "    log : boolean, optional\n",
      "        If ``True``, the histogram axis will be set to a log scale. If\n",
      "        *log* is ``True`` and *x* is a 1D array, empty bins will be\n",
      "        filtered out and only the non-empty ``(n, bins, patches)``\n",
      "        will be returned.\n",
      "    \n",
      "        Default is ``False``\n",
      "    \n",
      "    color : color or array_like of colors or None, optional\n",
      "        Color spec or sequence of color specs, one per dataset.  Default\n",
      "        (``None``) uses the standard line color sequence.\n",
      "    \n",
      "        Default is ``None``\n",
      "    \n",
      "    label : string or None, optional\n",
      "        String, or sequence of strings to match multiple datasets.  Bar\n",
      "        charts yield multiple patches per dataset, but only the first gets\n",
      "        the label, so that the legend command will work as expected.\n",
      "    \n",
      "        default is ``None``\n",
      "    \n",
      "    stacked : boolean, optional\n",
      "        If ``True``, multiple data are stacked on top of each other If\n",
      "        ``False`` multiple data are arranged side by side if histtype is\n",
      "        'bar' or on top of each other if histtype is 'step'\n",
      "    \n",
      "        Default is ``False``\n",
      "    \n",
      "    normed : bool, optional\n",
      "        Deprecated; use the density keyword argument instead.\n",
      "    \n",
      "    Returns\n",
      "    -------\n",
      "    n : array or list of arrays\n",
      "        The values of the histogram bins. See *normed* or *density*\n",
      "        and *weights* for a description of the possible semantics.\n",
      "        If input *x* is an array, then this is an array of length\n",
      "        *nbins*. If input is a sequence arrays\n",
      "        ``[data1, data2,..]``, then this is a list of arrays with\n",
      "        the values of the histograms for each of the arrays in the\n",
      "        same order.\n",
      "    \n",
      "    bins : array\n",
      "        The edges of the bins. Length nbins + 1 (nbins left edges and right\n",
      "        edge of last bin).  Always a single array even when multiple data\n",
      "        sets are passed in.\n",
      "    \n",
      "    patches : list or list of lists\n",
      "        Silent list of individual patches used to create the histogram\n",
      "        or list of such list if multiple input datasets.\n",
      "    \n",
      "    Other Parameters\n",
      "    ----------------\n",
      "    **kwargs : `~matplotlib.patches.Patch` properties\n",
      "    \n",
      "    See also\n",
      "    --------\n",
      "    hist2d : 2D histograms\n",
      "    \n",
      "    Notes\n",
      "    -----\n",
      "    .. [Notes section required for data comment. See #10189.]\n",
      "    \n",
      "    .. note::\n",
      "        In addition to the above described arguments, this function can take a\n",
      "        **data** keyword argument. If such a **data** argument is given, the\n",
      "        following arguments are replaced by **data[<arg>]**:\n",
      "    \n",
      "        * All arguments with the following names: 'weights', 'x'.\n",
      "\n"
     ]
    }
   ],
   "source": [
    "help(plt.hist)"
   ]
  },
  {
   "cell_type": "code",
   "execution_count": 22,
   "metadata": {
    "scrolled": true
   },
   "outputs": [
    {
     "data": {
      "text/plain": [
       "(array([ 2., 44., 45., 28., 26., 14.,  6.,  1.,  0.,  1.]),\n",
       " array([ 1. ,  3.7,  6.4,  9.1, 11.8, 14.5, 17.2, 19.9, 22.6, 25.3, 28. ]),\n",
       " <a list of 10 Patch objects>)"
      ]
     },
     "execution_count": 22,
     "metadata": {},
     "output_type": "execute_result"
    },
    {
     "data": {
      "image/png": "[encoded data removed]",
      "text/plain": [
       "<Figure size 432x288 with 1 Axes>"
      ]
     },
     "metadata": {
      "needs_background": "light"
     },
     "output_type": "display_data"
    }
   ],
   "source": [
    "plt.hist(storm_num[:,2])"
   ]
  },
  {
   "cell_type": "markdown",
   "metadata": {},
   "source": [
    "I like to clearly see the edges of the different bins sometimes.  To do this, use the `ec` (short for `edgecolor`) optional argument, with a different color (`k` - black, in this case)."
   ]
  },
  {
   "cell_type": "code",
   "execution_count": 23,
   "metadata": {
    "scrolled": false
   },
   "outputs": [
    {
     "data": {
      "text/plain": [
       "(array([ 2., 44., 45., 28., 26., 14.,  6.,  1.,  0.,  1.]),\n",
       " array([ 1. ,  3.7,  6.4,  9.1, 11.8, 14.5, 17.2, 19.9, 22.6, 25.3, 28. ]),\n",
       " <a list of 10 Patch objects>)"
      ]
     },
     "execution_count": 23,
     "metadata": {},
     "output_type": "execute_result"
    },
    {
     "data": {
      "image/png": "[encoded data removed]",
      "text/plain": [
       "<Figure size 432x288 with 1 Axes>"
      ]
     },
     "metadata": {
      "needs_background": "light"
     },
     "output_type": "display_data"
    }
   ],
   "source": [
    "plt.hist(storm_num[:,2],ec=\"k\")"
   ]
  },
  {
   "cell_type": "markdown",
   "metadata": {},
   "source": [
    "By default, the `plt.hist` uses 10 bins. \n",
    "\n",
    "* The first output array shows the number of data points (years, in this case) that have values within each bin. \n",
    "\n",
    "* The second output array shows the beginnings (inclusive) and ends (exclusive, except for the final bin) for each bin. [The range of the final bin is inclusive. Yes, this is confusing.]\n",
    "\n",
    "* For example, there are 2 years with between 1 and 3.7 tropical storms.\n",
    "\n",
    "\n",
    "You can specify a different number of bins using the `bins` option. Play around with this value to see what the histogram looks like with different numbers of bins."
   ]
  },
  {
   "cell_type": "code",
   "execution_count": 24,
   "metadata": {},
   "outputs": [
    {
     "data": {
      "text/plain": [
       "(array([ 1.,  1., 24., 20., 15., 30., 11., 17., 20.,  6.,  7.,  7.,  1.,\n",
       "         5.,  1.,  0.,  0.,  0.,  0.,  1.]),\n",
       " array([ 1.  ,  2.35,  3.7 ,  5.05,  6.4 ,  7.75,  9.1 , 10.45, 11.8 ,\n",
       "        13.15, 14.5 , 15.85, 17.2 , 18.55, 19.9 , 21.25, 22.6 , 23.95,\n",
       "        25.3 , 26.65, 28.  ]),\n",
       " <a list of 20 Patch objects>)"
      ]
     },
     "execution_count": 24,
     "metadata": {},
     "output_type": "execute_result"
    },
    {
     "data": {
      "image/png": "[encoded data removed]",
      "text/plain": [
       "<Figure size 432x288 with 1 Axes>"
      ]
     },
     "metadata": {
      "needs_background": "light"
     },
     "output_type": "display_data"
    }
   ],
   "source": [
    "plt.hist(storm_num[:,2],bins=20,ec=\"k\")"
   ]
  },
  {
   "cell_type": "markdown",
   "metadata": {},
   "source": [
    "You can also use tell python to use an algorithm to determine the optimal number of bins by using `bins='auto'`:"
   ]
  },
  {
   "cell_type": "code",
   "execution_count": 25,
   "metadata": {
    "scrolled": false
   },
   "outputs": [
    {
     "data": {
      "text/plain": [
       "(array([ 2., 24., 35., 30., 28., 20., 13.,  7.,  6.,  1.,  0.,  0.,  1.]),\n",
       " array([ 1.        ,  3.07692308,  5.15384615,  7.23076923,  9.30769231,\n",
       "        11.38461538, 13.46153846, 15.53846154, 17.61538462, 19.69230769,\n",
       "        21.76923077, 23.84615385, 25.92307692, 28.        ]),\n",
       " <a list of 13 Patch objects>)"
      ]
     },
     "execution_count": 25,
     "metadata": {},
     "output_type": "execute_result"
    },
    {
     "data": {
      "image/png": "[encoded data removed]",
      "text/plain": [
       "<Figure size 432x288 with 1 Axes>"
      ]
     },
     "metadata": {
      "needs_background": "light"
     },
     "output_type": "display_data"
    }
   ],
   "source": [
    "plt.hist(storm_num[:,2],bins='auto',ec=\"k\")"
   ]
  },
  {
   "cell_type": "markdown",
   "metadata": {
    "heading_collapsed": true
   },
   "source": [
    "### Specifying the bins exactly\n",
    "\n",
    "For this dataset, we know we have only integers (except for ACE). It doesn't really make sense to have ranges that have floats, rather than integers, for their ranges.  So, it would be good if the ranges included the same number of integers within each.  The best way to do this is to specify the ranges of the bins exactly. To do this, we need to create a 1-D array.\n",
    "\n",
    "What range of values do we need to include in the array? Use the `min` and `max` functions to determine this. "
   ]
  },
  {
   "cell_type": "code",
   "execution_count": 26,
   "metadata": {
    "hidden": true
   },
   "outputs": [
    {
     "data": {
      "text/plain": [
       "28.0"
      ]
     },
     "execution_count": 26,
     "metadata": {},
     "output_type": "execute_result"
    }
   ],
   "source": [
    "max(storm_num[:,2])"
   ]
  },
  {
   "cell_type": "code",
   "execution_count": 27,
   "metadata": {
    "hidden": true
   },
   "outputs": [
    {
     "data": {
      "text/plain": [
       "1.0"
      ]
     },
     "execution_count": 27,
     "metadata": {},
     "output_type": "execute_result"
    }
   ],
   "source": [
    "min(storm_num[:,2])"
   ]
  },
  {
   "cell_type": "markdown",
   "metadata": {
    "hidden": true
   },
   "source": [
    "Our max value is 28.  Even though the minimum value here is 1, we'll soon want to compare this histogram to one for strong hurricanes, which do have some values of 0.  So we'll create an array that goes from 0 to 29. (The 29 is because we want the last bin to *inclusive* on both ends, and we don't want include 27 and 28 in the same bin.\n",
    "\n",
    "**One quick way to make a 1-D array with integers increasing from 0 to some number, in increments of 1, is the `np.arange` function.**\n",
    "\n",
    "We want an array of size 30 (since arrays start with an index of 0).\n",
    "\n",
    "Start by printing out the array to make sure it's what you expect."
   ]
  },
  {
   "cell_type": "code",
   "execution_count": 28,
   "metadata": {
    "hidden": true
   },
   "outputs": [
    {
     "data": {
      "text/plain": [
       "array([ 0,  1,  2,  3,  4,  5,  6,  7,  8,  9, 10, 11, 12, 13, 14, 15, 16,\n",
       "       17, 18, 19, 20, 21, 22, 23, 24, 25, 26, 27, 28, 29])"
      ]
     },
     "execution_count": 28,
     "metadata": {},
     "output_type": "execute_result"
    }
   ],
   "source": [
    "np.arange(30)"
   ]
  },
  {
   "cell_type": "markdown",
   "metadata": {
    "hidden": true
   },
   "source": [
    "Now we can use this array for the `bin` input variable in the `plt.hist` command.\n",
    "\n",
    "By default, `plt.hist` centers the bars in the middle of the bin ranges.  However, we have created the bin array such that the first edge of the array corresponds to the number of storms for that bin. The `align=\"left\"` options centers the bars around the left sides of the ranges. This is a little subtle in this case, because we have so many bins.  It will be a little easier to see when we look at the hurricane data.  "
   ]
  },
  {
   "cell_type": "code",
   "execution_count": 29,
   "metadata": {
    "hidden": true,
    "scrolled": false
   },
   "outputs": [
    {
     "data": {
      "text/plain": [
       "(array([ 0.,  1.,  0.,  1.,  8., 16., 20., 15., 18., 12., 11., 17., 13.,\n",
       "         7.,  6.,  7.,  5.,  2.,  1.,  5.,  1.,  0.,  0.,  0.,  0.,  0.,\n",
       "         0.,  0.,  1.]),\n",
       " array([ 0,  1,  2,  3,  4,  5,  6,  7,  8,  9, 10, 11, 12, 13, 14, 15, 16,\n",
       "        17, 18, 19, 20, 21, 22, 23, 24, 25, 26, 27, 28, 29]),\n",
       " <a list of 29 Patch objects>)"
      ]
     },
     "execution_count": 29,
     "metadata": {},
     "output_type": "execute_result"
    },
    {
     "data": {
      "image/png": "[encoded data removed]",
      "text/plain": [
       "<Figure size 432x288 with 1 Axes>"
      ]
     },
     "metadata": {
      "needs_background": "light"
     },
     "output_type": "display_data"
    }
   ],
   "source": [
    "plt.hist(storm_num[:,2],bins=np.arange(30),ec=\"k\")"
   ]
  },
  {
   "cell_type": "code",
   "execution_count": 30,
   "metadata": {
    "hidden": true,
    "scrolled": false
   },
   "outputs": [
    {
     "data": {
      "text/plain": [
       "(array([ 0.,  1.,  0.,  1.,  8., 16., 20., 15., 18., 12., 11., 17., 13.,\n",
       "         7.,  6.,  7.,  5.,  2.,  1.,  5.,  1.,  0.,  0.,  0.,  0.,  0.,\n",
       "         0.,  0.,  1.]),\n",
       " array([ 0,  1,  2,  3,  4,  5,  6,  7,  8,  9, 10, 11, 12, 13, 14, 15, 16,\n",
       "        17, 18, 19, 20, 21, 22, 23, 24, 25, 26, 27, 28, 29]),\n",
       " <a list of 29 Patch objects>)"
      ]
     },
     "execution_count": 30,
     "metadata": {},
     "output_type": "execute_result"
    },
    {
     "data": {
      "image/png": "[encoded data removed]",
      "text/plain": [
       "<Figure size 432x288 with 1 Axes>"
      ]
     },
     "metadata": {
      "needs_background": "light"
     },
     "output_type": "display_data"
    }
   ],
   "source": [
    "plt.hist(storm_num[:,2],bins=np.arange(30),align=\"left\",ec=\"k\")"
   ]
  },
  {
   "cell_type": "markdown",
   "metadata": {
    "hidden": true
   },
   "source": [
    "Now make a histogram of the number of <i>hurricanes</i>."
   ]
  },
  {
   "cell_type": "code",
   "execution_count": 31,
   "metadata": {
    "code_folding": [
     0
    ],
    "hidden": true
   },
   "outputs": [
    {
     "data": {
      "text/plain": [
       "(array([ 2.,  2.,  7., 28., 33., 22., 24., 20.,  8.,  6.,  8.,  4.,  2.,\n",
       "         0.,  0.,  1.,  0.,  0.,  0.,  0.,  0.,  0.,  0.,  0.,  0.,  0.,\n",
       "         0.,  0.,  0.]),\n",
       " array([ 0,  1,  2,  3,  4,  5,  6,  7,  8,  9, 10, 11, 12, 13, 14, 15, 16,\n",
       "        17, 18, 19, 20, 21, 22, 23, 24, 25, 26, 27, 28, 29]),\n",
       " <a list of 29 Patch objects>)"
      ]
     },
     "execution_count": 31,
     "metadata": {},
     "output_type": "execute_result"
    },
    {
     "data": {
      "image/png": "[encoded data removed]",
      "text/plain": [
       "<Figure size 432x288 with 1 Axes>"
      ]
     },
     "metadata": {
      "needs_background": "light"
     },
     "output_type": "display_data"
    }
   ],
   "source": [
    "# Your code here.\n",
    "plt.hist(storm_num[:,4],bins=np.arange(30),align=\"left\",ec=\"k\")"
   ]
  },
  {
   "cell_type": "markdown",
   "metadata": {
    "hidden": true
   },
   "source": [
    "To better compare the numbers, we can put all three histograms on the same plot. \n",
    "\n",
    "**Use the same bins for all three histograms** so that they line up.  This is why we're specifying the bins exactly."
   ]
  },
  {
   "cell_type": "code",
   "execution_count": 32,
   "metadata": {
    "hidden": true,
    "scrolled": false
   },
   "outputs": [
    {
     "data": {
      "text/plain": [
       "(array([32., 48., 45., 17.,  9.,  7.,  7.,  2.,  0.,  0.,  0.,  0.,  0.,\n",
       "         0.,  0.,  0.,  0.,  0.,  0.,  0.,  0.,  0.,  0.,  0.,  0.,  0.,\n",
       "         0.,  0.,  0.]),\n",
       " array([ 0,  1,  2,  3,  4,  5,  6,  7,  8,  9, 10, 11, 12, 13, 14, 15, 16,\n",
       "        17, 18, 19, 20, 21, 22, 23, 24, 25, 26, 27, 28, 29]),\n",
       " <a list of 29 Patch objects>)"
      ]
     },
     "execution_count": 32,
     "metadata": {},
     "output_type": "execute_result"
    },
    {
     "data": {
      "image/png": "[encoded data removed]",
      "text/plain": [
       "<Figure size 432x288 with 1 Axes>"
      ]
     },
     "metadata": {
      "needs_background": "light"
     },
     "output_type": "display_data"
    }
   ],
   "source": [
    "plt.hist(storm_num[:,2],bins=np.arange(30),align=\"left\",ec=\"k\")\n",
    "plt.hist(storm_num[:,4],bins=np.arange(30),align=\"left\",ec=\"k\")\n",
    "plt.hist(storm_num[:,6],bins=np.arange(30),align=\"left\",ec=\"k\")"
   ]
  },
  {
   "cell_type": "markdown",
   "metadata": {
    "hidden": true
   },
   "source": [
    "Some of the bins bars overlap, so we can use the `alpha` option to specify the opacity, with 0 entirely transparent and 1 entirely opaque (the default).  "
   ]
  },
  {
   "cell_type": "code",
   "execution_count": 33,
   "metadata": {
    "hidden": true,
    "scrolled": false
   },
   "outputs": [
    {
     "data": {
      "text/plain": [
       "(array([32., 48., 45., 17.,  9.,  7.,  7.,  2.,  0.,  0.,  0.,  0.,  0.,\n",
       "         0.,  0.,  0.,  0.,  0.,  0.,  0.,  0.,  0.,  0.,  0.,  0.,  0.,\n",
       "         0.,  0.,  0.]),\n",
       " array([ 0,  1,  2,  3,  4,  5,  6,  7,  8,  9, 10, 11, 12, 13, 14, 15, 16,\n",
       "        17, 18, 19, 20, 21, 22, 23, 24, 25, 26, 27, 28, 29]),\n",
       " <a list of 29 Patch objects>)"
      ]
     },
     "execution_count": 33,
     "metadata": {},
     "output_type": "execute_result"
    },
    {
     "data": {
      "image/png": "[encoded data removed]",
      "text/plain": [
       "<Figure size 432x288 with 1 Axes>"
      ]
     },
     "metadata": {
      "needs_background": "light"
     },
     "output_type": "display_data"
    }
   ],
   "source": [
    "plt.hist(storm_num[:,2],bins=np.arange(30),align=\"left\",ec=\"k\",alpha=0.4)\n",
    "plt.hist(storm_num[:,4],bins=np.arange(30),align=\"left\",ec=\"k\",alpha=0.5)\n",
    "plt.hist(storm_num[:,6],bins=np.arange(30),align=\"left\",ec=\"k\",alpha=0.4)"
   ]
  },
  {
   "cell_type": "markdown",
   "metadata": {
    "hidden": true
   },
   "source": [
    "You can get rid of the individual lines by dropping the `ec` argument."
   ]
  },
  {
   "cell_type": "code",
   "execution_count": 34,
   "metadata": {
    "hidden": true,
    "scrolled": false
   },
   "outputs": [
    {
     "data": {
      "text/plain": [
       "(array([32., 48., 45., 17.,  9.,  7.,  7.,  2.,  0.,  0.,  0.,  0.,  0.,\n",
       "         0.,  0.,  0.,  0.,  0.,  0.,  0.,  0.,  0.,  0.,  0.,  0.,  0.,\n",
       "         0.,  0.,  0.]),\n",
       " array([ 0,  1,  2,  3,  4,  5,  6,  7,  8,  9, 10, 11, 12, 13, 14, 15, 16,\n",
       "        17, 18, 19, 20, 21, 22, 23, 24, 25, 26, 27, 28, 29]),\n",
       " <a list of 29 Patch objects>)"
      ]
     },
     "execution_count": 34,
     "metadata": {},
     "output_type": "execute_result"
    },
    {
     "data": {
      "image/png": "[encoded data removed]",
      "text/plain": [
       "<Figure size 432x288 with 1 Axes>"
      ]
     },
     "metadata": {
      "needs_background": "light"
     },
     "output_type": "display_data"
    }
   ],
   "source": [
    "plt.hist(storm_num[:,2],bins=np.arange(30),align=\"left\",alpha=0.4)\n",
    "plt.hist(storm_num[:,4],bins=np.arange(30),align=\"left\",alpha=0.5)\n",
    "plt.hist(storm_num[:,6],bins=np.arange(30),align=\"left\",alpha=0.4)"
   ]
  },
  {
   "cell_type": "markdown",
   "metadata": {
    "hidden": true
   },
   "source": [
    "Alternately, we can use a `histtype='step'` to just show the lines around the edges.  Also, I'm increasing the `linewidth` to 2, to make the lines easier to see."
   ]
  },
  {
   "cell_type": "code",
   "execution_count": 35,
   "metadata": {
    "hidden": true,
    "scrolled": false
   },
   "outputs": [
    {
     "data": {
      "text/plain": [
       "(array([32., 48., 45., 17.,  9.,  7.,  7.,  2.,  0.,  0.,  0.,  0.,  0.,\n",
       "         0.,  0.,  0.,  0.,  0.,  0.,  0.,  0.,  0.,  0.,  0.,  0.,  0.,\n",
       "         0.,  0.,  0.]),\n",
       " array([ 0,  1,  2,  3,  4,  5,  6,  7,  8,  9, 10, 11, 12, 13, 14, 15, 16,\n",
       "        17, 18, 19, 20, 21, 22, 23, 24, 25, 26, 27, 28, 29]),\n",
       " <a list of 1 Patch objects>)"
      ]
     },
     "execution_count": 35,
     "metadata": {},
     "output_type": "execute_result"
    },
    {
     "data": {
      "image/png": "[encoded data removed]",
      "text/plain": [
       "<Figure size 432x288 with 1 Axes>"
      ]
     },
     "metadata": {
      "needs_background": "light"
     },
     "output_type": "display_data"
    }
   ],
   "source": [
    "plt.hist(storm_num[:,2],bins=np.arange(30),align=\"left\",histtype='step',linewidth=2)\n",
    "plt.hist(storm_num[:,4],bins=np.arange(30),align=\"left\",histtype='step',linewidth=2)\n",
    "plt.hist(storm_num[:,6],bins=np.arange(30),align=\"left\",histtype='step',linewidth=2)"
   ]
  },
  {
   "cell_type": "markdown",
   "metadata": {
    "hidden": true
   },
   "source": [
    "`histype='stepfilled'` draws a line around the edges of each histogram and fills the inside with the specified color.  The `color` and the `ec` should be different, so you can see the outline.  (In this case, we are not specifying the `color`, just using the default values.)"
   ]
  },
  {
   "cell_type": "code",
   "execution_count": 36,
   "metadata": {
    "hidden": true,
    "scrolled": false
   },
   "outputs": [
    {
     "data": {
      "text/plain": [
       "(array([32., 48., 45., 17.,  9.,  7.,  7.,  2.,  0.,  0.,  0.,  0.,  0.,\n",
       "         0.,  0.,  0.,  0.,  0.,  0.,  0.,  0.,  0.,  0.,  0.,  0.,  0.,\n",
       "         0.,  0.,  0.]),\n",
       " array([ 0,  1,  2,  3,  4,  5,  6,  7,  8,  9, 10, 11, 12, 13, 14, 15, 16,\n",
       "        17, 18, 19, 20, 21, 22, 23, 24, 25, 26, 27, 28, 29]),\n",
       " <a list of 1 Patch objects>)"
      ]
     },
     "execution_count": 36,
     "metadata": {},
     "output_type": "execute_result"
    },
    {
     "data": {
      "image/png": "[encoded data removed]",
      "text/plain": [
       "<Figure size 432x288 with 1 Axes>"
      ]
     },
     "metadata": {
      "needs_background": "light"
     },
     "output_type": "display_data"
    }
   ],
   "source": [
    "plt.hist(storm_num[:,2],bins=np.arange(30),align=\"left\",histtype='stepfilled',linewidth=2,ec=\"k\",alpha=0.5)\n",
    "plt.hist(storm_num[:,4],bins=np.arange(30),align=\"left\",histtype='stepfilled',linewidth=2,ec=\"k\",alpha=0.5)\n",
    "plt.hist(storm_num[:,6],bins=np.arange(30),align=\"left\",histtype='stepfilled',linewidth=2,ec=\"k\",alpha=0.5)"
   ]
  },
  {
   "cell_type": "markdown",
   "metadata": {
    "hidden": true
   },
   "source": [
    "Yet another way to view the data is to plot the individual histogram bars next to each other. You can do this by providing all three arrays to the `plt.hist` function at once.  Note that they are all within a set of `[]` and separated by commas.  We are effectively passing a *list* of the 3 arrays we want plotted."
   ]
  },
  {
   "cell_type": "code",
   "execution_count": 37,
   "metadata": {
    "hidden": true
   },
   "outputs": [
    {
     "data": {
      "text/plain": [
       "([array([ 0.,  1.,  0.,  1.,  8., 16., 20., 15., 18., 12., 11., 17., 13.,\n",
       "          7.,  6.,  7.,  5.,  2.,  1.,  5.,  1.,  0.,  0.,  0.,  0.,  0.,\n",
       "          0.,  0.,  1.]),\n",
       "  array([ 2.,  2.,  7., 28., 33., 22., 24., 20.,  8.,  6.,  8.,  4.,  2.,\n",
       "          0.,  0.,  1.,  0.,  0.,  0.,  0.,  0.,  0.,  0.,  0.,  0.,  0.,\n",
       "          0.,  0.,  0.]),\n",
       "  array([32., 48., 45., 17.,  9.,  7.,  7.,  2.,  0.,  0.,  0.,  0.,  0.,\n",
       "          0.,  0.,  0.,  0.,  0.,  0.,  0.,  0.,  0.,  0.,  0.,  0.,  0.,\n",
       "          0.,  0.,  0.])],\n",
       " array([ 0,  1,  2,  3,  4,  5,  6,  7,  8,  9, 10, 11, 12, 13, 14, 15, 16,\n",
       "        17, 18, 19, 20, 21, 22, 23, 24, 25, 26, 27, 28, 29]),\n",
       " <a list of 3 Lists of Patches objects>)"
      ]
     },
     "execution_count": 37,
     "metadata": {},
     "output_type": "execute_result"
    },
    {
     "data": {
      "image/png": "[encoded data removed]",
      "text/plain": [
       "<Figure size 432x288 with 1 Axes>"
      ]
     },
     "metadata": {
      "needs_background": "light"
     },
     "output_type": "display_data"
    }
   ],
   "source": [
    "plt.hist([storm_num[:,2],storm_num[:,4],storm_num[:,6]],bins=np.arange(30),align=\"left\")"
   ]
  },
  {
   "cell_type": "markdown",
   "metadata": {
    "hidden": true
   },
   "source": [
    "Play around with the different options until you find a style you like.  (Note that you can mix and match all of the different fill colors, line colors, opacities, histtypes, etc. if you plot using the three separate `plt.hist` functions.) \n",
    "\n",
    "**Add the labels and legend** to finish the plot.  You can also use the `plt.axis` command (which we'll talk about later) to get rid of the wasted space on the left when you do your homework."
   ]
  },
  {
   "cell_type": "markdown",
   "metadata": {},
   "source": [
    "## Bar plots ##"
   ]
  },
  {
   "cell_type": "markdown",
   "metadata": {},
   "source": [
    "Bar plots use vertical bars, rather than markers or lines. Depending on your data, they can sometimes be clearer than line plots. We'll start by making a bar plot for the named storms.\n",
    "\n",
    "The `plt.bar` function works similarly to the `plt.plot` function. The x values goes first, followed by the y values. You can specify things like color, as well:"
   ]
  },
  {
   "cell_type": "code",
   "execution_count": null,
   "metadata": {},
   "outputs": [],
   "source": [
    "plt.bar(storm_num[:,0],storm_num[:,2],color='y')\n",
    "plt.ylabel(\"Number of systems\")\n",
    "plt.xlabel(\"Year\")\n",
    "plt.title(\"Atlantic basin storm count\")"
   ]
  },
  {
   "cell_type": "markdown",
   "metadata": {},
   "source": [
    "This is sort of difficult to read.\n",
    "\n",
    "By default, python picks the ranges for the x and y axis. However, you can specify these yourself using the `plt.axis` command. "
   ]
  },
  {
   "cell_type": "code",
   "execution_count": null,
   "metadata": {
    "scrolled": true
   },
   "outputs": [],
   "source": [
    "help(plt.axis)"
   ]
  },
  {
   "cell_type": "code",
   "execution_count": null,
   "metadata": {},
   "outputs": [],
   "source": [
    "## fill in the values for the plt.axis function\n",
    "\n",
    "plt.bar(storm_num[:,0],storm_num[:,2],color='y')\n",
    "plt.axis([???, ???, ???, ???])\n",
    "plt.ylabel(\"Number of systems\")\n",
    "plt.xlabel(\"Year\")\n",
    "plt.title(\"Atlantic basin storm count\")"
   ]
  },
  {
   "cell_type": "code",
   "execution_count": 38,
   "metadata": {
    "code_folding": [
     0
    ]
   },
   "outputs": [
    {
     "data": {
      "text/plain": [
       "Text(0.5,1,'Atlantic basin storm count')"
      ]
     },
     "execution_count": 38,
     "metadata": {},
     "output_type": "execute_result"
    },
    {
     "data": {
      "image/png": "[encoded data removed]",
      "text/plain": [
       "<Figure size 432x288 with 1 Axes>"
      ]
     },
     "metadata": {
      "needs_background": "light"
     },
     "output_type": "display_data"
    }
   ],
   "source": [
    "#\n",
    "\n",
    "# If you are getting weird artifacts in the plot, the snap=False option may help.\n",
    "plt.bar(storm_num[:,0],storm_num[:,2],color='y', snap=False)\n",
    "plt.axis([1850, 2018, 0, 30])\n",
    "plt.ylabel(\"Number of systems\")\n",
    "plt.xlabel(\"Year\")\n",
    "plt.title(\"Atlantic basin storm count\")"
   ]
  },
  {
   "cell_type": "markdown",
   "metadata": {},
   "source": [
    "That's somewhat better. \n",
    "\n",
    "Next, let's increase the size of the figure using the `plt.figure` command. Note that this will also alter the aspect ratio of the plot, which we want in this case, because we would like to stretch out the x axis. The first number corresponds to the x axis length, and the second to the y axis.\n",
    "\n",
    "** Note: rather than re-typing all of this code, it's probably easiest to copy the cell and paste it as you go from step to step.** "
   ]
  },
  {
   "cell_type": "code",
   "execution_count": null,
   "metadata": {},
   "outputs": [],
   "source": [
    "# Play around with the figsize values\n",
    "plt.figure(figsize=(XXX, XXXX))\n",
    "# Put rest of the commands here."
   ]
  },
  {
   "cell_type": "code",
   "execution_count": 41,
   "metadata": {
    "code_folding": []
   },
   "outputs": [
    {
     "data": {
      "image/png": "[encoded data removed]",
      "text/plain": [
       "<Figure size 864x432 with 1 Axes>"
      ]
     },
     "metadata": {
      "needs_background": "light"
     },
     "output_type": "display_data"
    }
   ],
   "source": [
    "#\n",
    "plt.figure(figsize=(12, 6))\n",
    "plt.bar(storm_num[:,0],storm_num[:,2],color='y',snap=False)\n",
    "plt.axis([1850, 2018, 0, 30])\n",
    "plt.ylabel(\"Number of systems\")\n",
    "plt.xlabel(\"Year\")\n",
    "plt.title(\"Atlantic basin storm count\")\n",
    "# Clean up the output.\n",
    "plt.show()"
   ]
  },
  {
   "cell_type": "markdown",
   "metadata": {},
   "source": [
    "We can plot multiple data sets on the same bar plot. Depending on the options specified, the bars will appear on top of each other or next to each other. By default, they will appear on top of any previous bar plots."
   ]
  },
  {
   "cell_type": "code",
   "execution_count": 42,
   "metadata": {},
   "outputs": [
    {
     "data": {
      "text/plain": [
       "<BarContainer object of 167 artists>"
      ]
     },
     "execution_count": 42,
     "metadata": {},
     "output_type": "execute_result"
    },
    {
     "data": {
      "image/png": "[encoded data removed]",
      "text/plain": [
       "<Figure size 432x288 with 1 Axes>"
      ]
     },
     "metadata": {
      "needs_background": "light"
     },
     "output_type": "display_data"
    }
   ],
   "source": [
    "# Add the appropriate additional commands to make this plot pretty.\n",
    "\n",
    "plt.bar(storm_num[:,0],storm_num[:,2],color='y',label=\"Named storms\",snap=False)\n",
    "plt.bar(storm_num[:,0],storm_num[:,4],color='r',label=\"Hurricanes\",snap=False)\n",
    "plt.bar(storm_num[:,0],storm_num[:,6],color='purple',label=\"Major hurricanes\",snap=False)"
   ]
  },
  {
   "cell_type": "code",
   "execution_count": 43,
   "metadata": {
    "code_folding": [
     0
    ]
   },
   "outputs": [
    {
     "data": {
      "image/png": "[encoded data removed]",
      "text/plain": [
       "<Figure size 864x432 with 1 Axes>"
      ]
     },
     "metadata": {
      "needs_background": "light"
     },
     "output_type": "display_data"
    }
   ],
   "source": [
    "#\n",
    "plt.figure(figsize=(12, 6))\n",
    "plt.bar(storm_num[:,0],storm_num[:,2],color='y',label=\"Named storms\",snap=False)\n",
    "plt.bar(storm_num[:,0],storm_num[:,4],color='r',label=\"Hurricanes\",snap=False)\n",
    "plt.bar(storm_num[:,0],storm_num[:,6],color='purple',label=\"Major hurricanes\",snap=False)\n",
    "plt.axis([1850, 2018, 0, 30])\n",
    "plt.legend(loc=2)\n",
    "plt.ylabel(\"Number of systems\")\n",
    "plt.xlabel(\"Year\")\n",
    "plt.title(\"Atlantic basin storm count\")\n",
    "plt.show()"
   ]
  },
  {
   "cell_type": "markdown",
   "metadata": {},
   "source": [
    "Try re-arranging the ordering of the data. What happens?"
   ]
  },
  {
   "cell_type": "code",
   "execution_count": 44,
   "metadata": {},
   "outputs": [
    {
     "data": {
      "text/plain": [
       "<BarContainer object of 167 artists>"
      ]
     },
     "execution_count": 44,
     "metadata": {},
     "output_type": "execute_result"
    },
    {
     "data": {
      "image/png": "[encoded data removed]",
      "text/plain": [
       "<Figure size 432x288 with 1 Axes>"
      ]
     },
     "metadata": {
      "needs_background": "light"
     },
     "output_type": "display_data"
    }
   ],
   "source": [
    "plt.bar(storm_num[:,0],storm_num[:,6],color='purple',label=\"Major hurricanes\",snap=False)\n",
    "plt.bar(storm_num[:,0],storm_num[:,2],color='y',label=\"Named storms\",snap=False)\n",
    "plt.bar(storm_num[:,0],storm_num[:,4],color='r',label=\"Hurricanes\",snap=False)"
   ]
  },
  {
   "cell_type": "markdown",
   "metadata": {
    "collapsed": true
   },
   "source": [
    "Return to the original ordering of the `plt.bar` commands so you can see all the data again."
   ]
  },
  {
   "cell_type": "markdown",
   "metadata": {},
   "source": [
    "## Plotting ACE ##"
   ]
  },
  {
   "cell_type": "markdown",
   "metadata": {},
   "source": [
    "Next, we want to plot ACE, similar to how it is done here:\n",
    "\n",
    "https://www.epa.gov/climate-indicators/climate-change-indicators-tropical-cyclone-activity\n",
    "\n",
    "What sort of plot is this?\n",
    "\n",
    "1. Specify the correct column in the array.\n",
    "\n",
    "2. To make the bars somewhat separate, we can specify their `width`. The default is 0.8. Try a few different values.\n",
    "\n",
    "3. Also, notice that you can specify some colors by a name, rather than a single letter. This Web page lists the named colors:\n",
    "\n",
    "http://matplotlib.org/examples/color/named_colors.html"
   ]
  },
  {
   "cell_type": "code",
   "execution_count": null,
   "metadata": {},
   "outputs": [],
   "source": [
    "plt.figure(figsize=(???, ???))\n",
    "plt.bar(storm_num[???,???],storm_num[???,???],color='???',width=???,snap=False)\n",
    "plt.ylabel(\"ACE\")\n",
    "plt.xlabel(\"Year\")\n",
    "plt.title(\"Atlantic basin Accumulated Cyclone Energy Index\")"
   ]
  },
  {
   "cell_type": "code",
   "execution_count": 45,
   "metadata": {
    "code_folding": [
     0
    ]
   },
   "outputs": [
    {
     "data": {
      "image/png": "[encoded data removed]",
      "text/plain": [
       "<Figure size 720x288 with 1 Axes>"
      ]
     },
     "metadata": {
      "needs_background": "light"
     },
     "output_type": "display_data"
    }
   ],
   "source": [
    "#\n",
    "plt.figure(figsize=(10, 4))\n",
    "plt.bar(storm_num[:,0],storm_num[:,8],color='lightsteelblue',width=0.7,snap=False)\n",
    "#plt.bar(storm_num[:,0],storm_num[:,8],color='lightsteelblue',snap=False)\n",
    "#plt.axis([1851, 2018, 0, 300])\n",
    "plt.ylabel(\"ACE\")\n",
    "plt.xlabel(\"Year\")\n",
    "plt.title(\"Atlantic basin Accumulated Cyclone Energy Index\")\n",
    "plt.show()\n"
   ]
  },
  {
   "cell_type": "markdown",
   "metadata": {},
   "source": [
    "One handy thing you can use the `plt.axis` command for is to limit the plot to a smaller portion of the data. You don't have to specify the range within the `plt.bar` or `plt.plot` commands themselves.\n",
    "\n",
    "For example, to enlarge part of the earlier bar chart, we just change the x axis range. This works particularly well for years, because then you don't need to figure out which index corresponds to a particular year.\n"
   ]
  },
  {
   "cell_type": "code",
   "execution_count": 46,
   "metadata": {},
   "outputs": [
    {
     "data": {
      "image/png": "[encoded data removed]",
      "text/plain": [
       "<Figure size 576x288 with 1 Axes>"
      ]
     },
     "metadata": {
      "needs_background": "light"
     },
     "output_type": "display_data"
    }
   ],
   "source": [
    "plt.figure(figsize=(8, 4))\n",
    "plt.bar(storm_num[:,0],storm_num[:,2],color='y',label=\"Named storms\")\n",
    "plt.bar(storm_num[:,0],storm_num[:,4],color='r',label=\"Hurricanes\")\n",
    "plt.bar(storm_num[:,0],storm_num[:,6],color='purple',label=\"Major hurricanes\")\n",
    "plt.axis([1970, 2018, 0, 30])\n",
    "plt.legend(loc=2)\n",
    "plt.ylabel(\"Number of systems\")\n",
    "plt.xlabel(\"Year\")\n",
    "plt.title(\"Atlantic basin storm count\")\n",
    "plt.show()"
   ]
  },
  {
   "cell_type": "markdown",
   "metadata": {},
   "source": [
    "Try this with the ACE data, to match the plot on the website."
   ]
  },
  {
   "cell_type": "code",
   "execution_count": 47,
   "metadata": {
    "code_folding": [
     0
    ]
   },
   "outputs": [
    {
     "data": {
      "image/png": "[encoded data removed]",
      "text/plain": [
       "<Figure size 720x288 with 1 Axes>"
      ]
     },
     "metadata": {
      "needs_background": "light"
     },
     "output_type": "display_data"
    }
   ],
   "source": [
    "##### Your plot goes here.\n",
    "\n",
    "plt.figure(figsize=(10, 4))\n",
    "plt.bar(storm_num[:,0],storm_num[:,8],color='lightsteelblue',width=0.7)\n",
    "plt.axis([1950, 2018, 0, 300])\n",
    "plt.ylabel(\"ACE\")\n",
    "plt.xlabel(\"Year\")\n",
    "plt.title(\"Atlantic basin Accumulated Cyclone Energy Index\")\n",
    "plt.show()"
   ]
  },
  {
   "cell_type": "markdown",
   "metadata": {},
   "source": [
    "Finally, we can add horizontal lines to the plot using the `plt.axhline` command with the `y=` option.\n",
    "\n",
    "In this case, we want lines at 120 and 71.4. Add the following lines to your plot. **They must be before the `plt.show` command**.\n",
    "\n",
    "`plt.axhline(y=120)`\n",
    "\n",
    "`plt.axhline(y=71.4)`"
   ]
  },
  {
   "cell_type": "code",
   "execution_count": 55,
   "metadata": {
    "code_folding": []
   },
   "outputs": [
    {
     "data": {
      "image/png": "[encoded data removed]",
      "text/plain": [
       "<Figure size 720x288 with 1 Axes>"
      ]
     },
     "metadata": {
      "needs_background": "light"
     },
     "output_type": "display_data"
    }
   ],
   "source": [
    "##### Your plot goes here.\n",
    "\n",
    "plt.figure(figsize=(10, 4))\n",
    "plt.bar(storm_num[:,0],storm_num[:,8],color='lightsteelblue',width=0.7)\n",
    "plt.axhline(y=120,color='darkorange')\n",
    "plt.axhline(y=71.4,color='darkorange')\n",
    "plt.axis([1950, 2018, 0, 300])\n",
    "plt.ylabel(\"ACE\",size=16)\n",
    "plt.xlabel(\"Year\",size=16)\n",
    "plt.title(\"Atlantic basin Accumulated Cyclone Energy Index\",size=20)\n",
    "plt.xticks(size=12)\n",
    "plt.yticks(size=12)\n",
    "plt.show()"
   ]
  },
  {
   "cell_type": "markdown",
   "metadata": {},
   "source": [
    "## Fraction of hurricanes that become strong hurricanes ##\n",
    "\n",
    "Let's start by just trying to plot this fraction. We can limit it to the years shown in the plot in the lecture:"
   ]
  },
  {
   "cell_type": "code",
   "execution_count": 56,
   "metadata": {},
   "outputs": [
    {
     "name": "stderr",
     "output_type": "stream",
     "text": [
      "/usr/local/lib/python3.6/dist-packages/ipykernel_launcher.py:1: RuntimeWarning: invalid value encountered in true_divide\n",
      "  \"\"\"Entry point for launching an IPython kernel.\n"
     ]
    },
    {
     "data": {
      "text/plain": [
       "[1970, 2012, 0, 1]"
      ]
     },
     "execution_count": 56,
     "metadata": {},
     "output_type": "execute_result"
    },
    {
     "data": {
      "image/png": "[encoded data removed]",
      "text/plain": [
       "<Figure size 432x288 with 1 Axes>"
      ]
     },
     "metadata": {
      "needs_background": "light"
     },
     "output_type": "display_data"
    }
   ],
   "source": [
    "plt.plot(storm_num[:,0],(storm_num[:,6]/storm_num[:,4]))\n",
    "plt.axis([1970,2012,0,1])"
   ]
  },
  {
   "cell_type": "markdown",
   "metadata": {},
   "source": [
    "It worked, but what does that error message mean? Print out the fraction to see what it looks like:"
   ]
  },
  {
   "cell_type": "code",
   "execution_count": 57,
   "metadata": {},
   "outputs": [
    {
     "name": "stderr",
     "output_type": "stream",
     "text": [
      "/usr/local/lib/python3.6/dist-packages/ipykernel_launcher.py:1: RuntimeWarning: invalid value encountered in true_divide\n",
      "  \"\"\"Entry point for launching an IPython kernel.\n"
     ]
    },
    {
     "data": {
      "text/plain": [
       "array([0.33333333, 0.2       , 0.5       , 0.33333333, 0.25      ,\n",
       "       0.5       , 0.        , 0.        , 0.14285714, 0.16666667,\n",
       "       0.        , 0.        , 0.        , 0.        , 0.        ,\n",
       "       0.16666667, 0.14285714, 0.        , 0.14285714, 0.2       ,\n",
       "       0.33333333, 0.        , 0.66666667, 0.        , 0.2       ,\n",
       "       0.5       , 0.33333333, 0.2       , 0.33333333, 0.22222222,\n",
       "       0.        , 0.5       , 0.66666667, 0.25      , 0.        ,\n",
       "       0.4       , 0.18181818, 0.33333333, 0.        , 0.5       ,\n",
       "       0.14285714, 0.        , 0.5       , 0.8       , 0.        ,\n",
       "       0.33333333, 0.        , 0.2       , 0.4       , 0.66666667,\n",
       "       0.        , 0.        , 0.14285714, 0.        , 1.        ,\n",
       "       0.5       ,        nan, 0.16666667, 0.66666667, 0.33333333,\n",
       "       0.        , 0.25      , 0.        ,        nan, 0.6       ,\n",
       "       0.5       , 1.        , 0.25      , 0.5       , 0.        ,\n",
       "       0.4       , 0.33333333, 0.25      , 0.4       , 0.        ,\n",
       "       0.75      , 0.25      , 0.25      , 0.33333333, 1.        ,\n",
       "       0.33333333, 0.66666667, 0.54545455, 0.14285714, 0.6       ,\n",
       "       0.14285714, 0.25      , 0.5       , 0.33333333, 0.        ,\n",
       "       0.75      , 0.25      , 0.4       , 0.375     , 0.4       ,\n",
       "       0.        , 0.4       , 0.66666667, 0.28571429, 0.54545455,\n",
       "       0.375     , 0.4       , 0.42857143, 0.42857143, 0.44444444,\n",
       "       0.25      , 0.66666667, 0.42857143, 0.28571429, 0.5       ,\n",
       "       0.875     , 0.33333333, 0.28571429, 1.        , 0.25      ,\n",
       "       0.42857143, 0.16666667, 0.        , 0.41666667, 0.4       ,\n",
       "       0.16666667, 0.        , 0.25      , 0.5       , 0.5       ,\n",
       "       0.33333333, 0.2       , 0.4       , 0.4       , 0.22222222,\n",
       "       0.42857143, 0.5       , 0.33333333, 0.2       , 0.42857143,\n",
       "       0.        , 0.33333333, 0.6       , 0.28571429, 0.125     ,\n",
       "       0.5       , 0.25      , 0.25      , 0.        , 0.45454545,\n",
       "       0.66666667, 0.33333333, 0.3       , 0.625     , 0.375     ,\n",
       "       0.44444444, 0.5       , 0.42857143, 0.66666667, 0.46666667,\n",
       "       0.4       , 0.33333333, 0.625     , 0.66666667, 0.41666667,\n",
       "       0.57142857, 0.2       , 0.        , 0.33333333, 0.5       ,\n",
       "       0.57142857, 0.6       ])"
      ]
     },
     "execution_count": 57,
     "metadata": {},
     "output_type": "execute_result"
    }
   ],
   "source": [
    "storm_num[:,6]/storm_num[:,4]"
   ]
  },
  {
   "cell_type": "markdown",
   "metadata": {},
   "source": [
    "We've got some nan's in there. Why do we get these?"
   ]
  },
  {
   "cell_type": "code",
   "execution_count": 58,
   "metadata": {},
   "outputs": [
    {
     "data": {
      "text/plain": [
       "array([ 3.,  5.,  4.,  3.,  4.,  4.,  3.,  6.,  7.,  6.,  6.,  3.,  5.,\n",
       "        3.,  3.,  6.,  7.,  3.,  7., 10.,  6.,  4.,  3.,  4.,  5.,  4.,\n",
       "        3., 10.,  6.,  9.,  4.,  4.,  3.,  4.,  6., 10., 11.,  6.,  6.,\n",
       "        2.,  7.,  5., 10.,  5.,  2.,  6.,  3.,  5.,  5.,  3.,  6.,  3.,\n",
       "        7.,  4.,  1.,  6.,  0.,  6.,  6.,  3.,  3.,  4.,  4.,  0.,  5.,\n",
       "       10.,  2.,  4.,  2.,  4.,  5.,  3.,  4.,  5.,  1.,  8.,  4.,  4.,\n",
       "        3.,  2.,  3.,  6., 11.,  7.,  5.,  7.,  4.,  4.,  3.,  6.,  4.,\n",
       "        4.,  5.,  8.,  5.,  3.,  5.,  6.,  7., 11.,  8.,  5.,  7.,  7.,\n",
       "        9.,  4.,  3.,  7.,  7.,  4.,  8.,  3.,  7.,  6.,  4.,  7.,  6.,\n",
       "        4., 12.,  5.,  6.,  3.,  4.,  4.,  6.,  6.,  5.,  5.,  5.,  9.,\n",
       "        7.,  2.,  3.,  5.,  7.,  4.,  3.,  5.,  7.,  8.,  4.,  4.,  4.,\n",
       "        3., 11.,  9.,  3., 10.,  8.,  8.,  9.,  4.,  7.,  9., 15.,  5.,\n",
       "        6.,  8.,  3., 12.,  7., 10.,  2.,  6.,  4.,  7., 10.])"
      ]
     },
     "execution_count": 58,
     "metadata": {},
     "output_type": "execute_result"
    }
   ],
   "source": [
    "storm_num[:,4]"
   ]
  },
  {
   "cell_type": "markdown",
   "metadata": {},
   "source": [
    "However, these nan's are all before the time period we're interested in. So we can ignore this error message this time. In general, though, we need to be very careful when doing division where the denominator may be zero. \n",
    "\n",
    "Now, **add the new years of data** to the plot for comparison with the year range on the UCS web site (which is now out of date by a few years).  "
   ]
  },
  {
   "cell_type": "code",
   "execution_count": 60,
   "metadata": {
    "code_folding": [],
    "scrolled": true
   },
   "outputs": [
    {
     "name": "stderr",
     "output_type": "stream",
     "text": [
      "/usr/local/lib/python3.6/dist-packages/ipykernel_launcher.py:2: RuntimeWarning: invalid value encountered in true_divide\n",
      "  \n"
     ]
    },
    {
     "data": {
      "text/plain": [
       "[1970, 2018, 0, 1]"
      ]
     },
     "execution_count": 60,
     "metadata": {},
     "output_type": "execute_result"
    },
    {
     "data": {
      "image/png": "[encoded data removed]",
      "text/plain": [
       "<Figure size 432x288 with 1 Axes>"
      ]
     },
     "metadata": {
      "needs_background": "light"
     },
     "output_type": "display_data"
    }
   ],
   "source": [
    "# Your code goes here.\n",
    "plt.plot(storm_num[:,0],(storm_num[:,6]/storm_num[:,4]))\n",
    "plt.axis([1970,2018,0,1])"
   ]
  },
  {
   "cell_type": "markdown",
   "metadata": {},
   "source": [
    "Zoom back out to the entire record.  What is happening to the variability over time?  Do you think the variability is really changing?"
   ]
  },
  {
   "cell_type": "code",
   "execution_count": 59,
   "metadata": {},
   "outputs": [
    {
     "name": "stderr",
     "output_type": "stream",
     "text": [
      "/usr/local/lib/python3.6/dist-packages/ipykernel_launcher.py:1: RuntimeWarning: invalid value encountered in true_divide\n",
      "  \"\"\"Entry point for launching an IPython kernel.\n"
     ]
    },
    {
     "data": {
      "text/plain": [
       "[<matplotlib.lines.Line2D at 0x7f2ee80806a0>]"
      ]
     },
     "execution_count": 59,
     "metadata": {},
     "output_type": "execute_result"
    },
    {
     "data": {
      "image/png": "[encoded data removed]",
      "text/plain": [
       "<Figure size 432x288 with 1 Axes>"
      ]
     },
     "metadata": {
      "needs_background": "light"
     },
     "output_type": "display_data"
    }
   ],
   "source": [
    "plt.plot(storm_num[:,0],(storm_num[:,6]/storm_num[:,4]))"
   ]
  },
  {
   "cell_type": "markdown",
   "metadata": {},
   "source": [
    "Prettify the plot for your homework."
   ]
  },
  {
   "cell_type": "code",
   "execution_count": 49,
   "metadata": {
    "scrolled": true
   },
   "outputs": [
    {
     "name": "stdout",
     "output_type": "stream",
     "text": [
      "Help on function xticks in module matplotlib.pyplot:\n",
      "\n",
      "xticks(*args, **kwargs)\n",
      "    Get or set the current tick locations and labels of the x-axis.\n",
      "    \n",
      "    Call signatures::\n",
      "    \n",
      "        locs, labels = xticks()           # Get locations and labels\n",
      "    \n",
      "        xticks(locs, [labels], **kwargs)  # Set locations and labels\n",
      "    \n",
      "    Parameters\n",
      "    ----------\n",
      "    locs : array_like\n",
      "        A list of positions at which ticks should be placed. You can pass an\n",
      "        empty list to disable xticks.\n",
      "    \n",
      "    labels : array_like, optional\n",
      "        A list of explicit labels to place at the given *locs*.\n",
      "    \n",
      "    **kwargs\n",
      "        :class:`.Text` properties can be used to control the appearance of\n",
      "        the labels.\n",
      "    \n",
      "    Returns\n",
      "    -------\n",
      "    locs\n",
      "        An array of label locations.\n",
      "    labels\n",
      "        A list of `.Text` objects.\n",
      "    \n",
      "    Notes\n",
      "    -----\n",
      "    Calling this function with no arguments (e.g. ``xticks()``) is the pyplot\n",
      "    equivalent of calling `~.Axes.get_xticks` and `~.Axes.get_xticklabels` on\n",
      "    the current axes.\n",
      "    Calling this function with arguments is the pyplot equivalent of calling\n",
      "    `~.Axes.set_xticks` and `~.Axes.set_xticklabels` on the current axes.\n",
      "    \n",
      "    Examples\n",
      "    --------\n",
      "    Get the current locations and labels:\n",
      "    \n",
      "        >>> locs, labels = xticks()\n",
      "    \n",
      "    Set label locations:\n",
      "    \n",
      "        >>> xticks(np.arange(0, 1, step=0.2))\n",
      "    \n",
      "    Set text labels:\n",
      "    \n",
      "        >>> xticks(np.arange(5), ('Tom', 'Dick', 'Harry', 'Sally', 'Sue'))\n",
      "    \n",
      "    Set text labels and properties:\n",
      "    \n",
      "        >>> xticks(np.arange(12), calendar.month_name[1:13], rotation=20)\n",
      "    \n",
      "    Disable xticks:\n",
      "    \n",
      "        >>> xticks([])\n",
      "\n"
     ]
    }
   ],
   "source": [
    "help(plt.xticks)"
   ]
  },
  {
   "cell_type": "code",
   "execution_count": null,
   "metadata": {},
   "outputs": [],
   "source": []
  }
 ],
 "metadata": {
  "anaconda-cloud": {},
  "kernelspec": {
   "display_name": "Python 3",
   "language": "python",
   "name": "python3"
  },
  "language_info": {
   "codemirror_mode": {
    "name": "ipython",
    "version": 3
   },
   "file_extension": ".py",
   "mimetype": "text/x-python",
   "name": "python",
   "nbconvert_exporter": "python",
   "pygments_lexer": "ipython3",
   "version": "3.6.5"
  },
  "varInspector": {
   "cols": {
    "lenName": 16,
    "lenType": 16,
    "lenVar": 40
   },
   "kernels_config": {
    "python": {
     "delete_cmd_postfix": "",
     "delete_cmd_prefix": "del ",
     "library": "var_list.py",
     "varRefreshCmd": "print(var_dic_list())"
    },
    "r": {
     "delete_cmd_postfix": ") ",
     "delete_cmd_prefix": "rm(",
     "library": "var_list.r",
     "varRefreshCmd": "cat(var_dic_list()) "
    }
   },
   "types_to_exclude": [
    "module",
    "function",
    "builtin_function_or_method",
    "instance",
    "_Feature"
   ],
   "window_display": false
  }
 },
 "nbformat": 4,
 "nbformat_minor": 1
}

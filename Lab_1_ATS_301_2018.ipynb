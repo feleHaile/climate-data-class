{
 "cells": [
  {
   "cell_type": "markdown",
   "metadata": {},
   "source": [
    "# Computer Lab 1: Introduction to Python\n",
    "Climate Data Analysis, ATS 301, Fall 2018\t\t\t\t\t\n",
    "\n",
    "Primary objective for today:\n",
    "\tCreate temperature anomaly plot similar to the GISTEMP plot, using pre-downloaded GISTEMP data\n",
    "\n",
    "Secondary objectives:\n",
    "\tGain basic familiarity with Jupyter interface and Python: variables, functions, loading modules, Markdown cells.\n",
    "\n",
    "\n",
    "## Pre-Lab\n",
    "\n",
    "Start by logging on to the server (https://jupyter.coas.oregonstate.edu), and opening your pre-Lab 1 \"notebook\". \n",
    "\n",
    "You hopefully were able to calculate the effective blackbody temperature of the Earth:\n",
    "\n",
    "<p style=\"text-align:center;\">$S(1-\\alpha)=\\sigma T^4$\n",
    "<p>\n",
    "\n",
    "•\tWhere S is the solar constant (340 Wm$^{-2}$)\n",
    "\n",
    "•\tα is the planetary albedo (0.3)\n",
    "\n",
    "•\tσ is the Stephan-Boltzman contant (5.67 x 10$^{-8}$ Wm$^{-2}$K$^{-4}$)\n",
    "\n",
    "•\tand T is the effective blackbody temperature (in K). \n",
    "\n",
    "(You may find it helpful that you can take the nth root of something using exponentiation to the 1/n power.)\n",
    "\n",
    "If you were not able to do this calculation, we will go over it now.    "
   ]
  },
  {
   "cell_type": "markdown",
   "metadata": {},
   "source": [
    "## Variables\n",
    "\n",
    "Say you wanted to calculate T for a whole bunch of different values of the solar constant and albedo. Rather than copying and pasting the previous line, or retyping, the better way is to use *variables*. By assigning a *value* to a variable, you can use it again later. This also ensures that the same value is used for a variable everywhere in your code. You only have to change it in one place, and then it’s the same everywhere when you re-run the code.  Otherwise, you may accidently use the old value somewhere.\n",
    "\n",
    "There are different conventions for naming variables. I prefer descriptive words, separated by underscores. <b>You cannot use spaces in a variable name.</b> \n"
   ]
  },
  {
   "cell_type": "code",
   "execution_count": null,
   "metadata": {},
   "outputs": [],
   "source": [
    "solar_constant=340"
   ]
  },
  {
   "cell_type": "code",
   "execution_count": null,
   "metadata": {},
   "outputs": [],
   "source": [
    "albedo=0.3"
   ]
  },
  {
   "cell_type": "markdown",
   "metadata": {},
   "source": [
    "Notice that there is no output this time. That is because the interpreter is doing *assignment* rather than *evaluation*. (See *Think Python* for an explanation of this.) \n",
    "\n",
    "Now we can use these variables to calculate the absorbed solar radiation.\n"
   ]
  },
  {
   "cell_type": "code",
   "execution_count": null,
   "metadata": {},
   "outputs": [],
   "source": [
    "solar_constant * (1-albedo)"
   ]
  },
  {
   "cell_type": "markdown",
   "metadata": {},
   "source": [
    "Now you’ve calculated the absorbed solar radiation. **Compare your answer with your neighbor before moving on.** \n",
    "\n",
    "You don’t have to enter in all of the commands one line at a time (in fact, you normally don’t want to). You can keep adding lines to the cell until you press 'shift-enter'.\n"
   ]
  },
  {
   "cell_type": "code",
   "execution_count": null,
   "metadata": {},
   "outputs": [],
   "source": [
    "new_solar=342\n",
    "new_solar*(1-albedo)"
   ]
  },
  {
   "cell_type": "markdown",
   "metadata": {},
   "source": [
    "Here, you’ve calculated the absorbed solar radiation for a slightly brighter sun. Notice that the value of `albedo` is the same. Actually, `solar_constant` is the same as well, since you haven’t changed that either. You can reassign a value to a variable using “`=`” again. Here I’ll increase the solar constant yet again.\n"
   ]
  },
  {
   "cell_type": "code",
   "execution_count": null,
   "metadata": {},
   "outputs": [],
   "source": [
    "new_solar=344\n",
    "new_solar*(1-albedo)"
   ]
  },
  {
   "cell_type": "markdown",
   "metadata": {},
   "source": [
    "One thing to note here is that if you want to output the values from lines before the last one is that you need to use a *`print` command* to output this. See the discussion of *interactive* vs *script mode* in *Think Python*.\n",
    "\n",
    "Here, I use `print` statements to check on the values of the two different solar constant variables. Before you run this cell, write down what you expect the output to be.\n"
   ]
  },
  {
   "cell_type": "code",
   "execution_count": null,
   "metadata": {},
   "outputs": [],
   "source": [
    "new_solar=346\n",
    "print(new_solar)\n",
    "print(solar_constant)\n",
    "new_solar*(1-albedo)"
   ]
  },
  {
   "cell_type": "markdown",
   "metadata": {},
   "source": [
    "<b>To do</b>: Given the 0-D energy balance model, calculate the effective temperature based on a solar constant of 340 Wm$^{-2}$, albedo of 0.3, but this time, use variable names for everything. "
   ]
  },
  {
   "cell_type": "code",
   "execution_count": null,
   "metadata": {},
   "outputs": [],
   "source": [
    "####### your code goes here #######"
   ]
  },
  {
   "cell_type": "markdown",
   "metadata": {},
   "source": [
    "## Python functions\n",
    "\n",
    "Python can do more than math operations. Say you wanted to calculate the absolute value of something. Try this:"
   ]
  },
  {
   "cell_type": "code",
   "execution_count": null,
   "metadata": {},
   "outputs": [],
   "source": [
    "abs(-0.5)"
   ]
  },
  {
   "cell_type": "code",
   "execution_count": null,
   "metadata": {},
   "outputs": [],
   "source": [
    "abs(0.5)"
   ]
  },
  {
   "cell_type": "markdown",
   "metadata": {},
   "source": [
    "`abs` is a *function*.  You already knew one function (`print`), and now you know two. Functions take *arguments* as *input*, and *return* a value (or values, as we’ll see later). In this case, Some functions take more than one argument, and some allow you to specify optional arguments. \n",
    "\n",
    "The `abs` function, as used above, is not very interesting, since you already know the answer. However, when we combine functions with *variables*, they become much more valuable.\n",
    "\n",
    "Say you wanted to calculate the absolute value for a whole bunch of different numbers. Rather than copying and pasting the previous line, or retyping, the better way is to use variables. Since a common quantity of interest in in climate is a temperature change, let’s create a new temperature change variable:\n",
    "\n"
   ]
  },
  {
   "cell_type": "code",
   "execution_count": null,
   "metadata": {},
   "outputs": [],
   "source": [
    "temp_change = 0.5\n",
    "print(temp_change)"
   ]
  },
  {
   "cell_type": "markdown",
   "metadata": {},
   "source": [
    "Now, whenever you use temp_change in your code, python will replace it with whatever value you last set it to. (Note: it will use the last value, which is not always what you intend it to use. If your code gets long (later on in the class), use a `print` statement to verify the value is what you think it is.) \n",
    "\n",
    "Now, use this variable in the `abs` function:\n"
   ]
  },
  {
   "cell_type": "code",
   "execution_count": null,
   "metadata": {},
   "outputs": [],
   "source": [
    "abs(temp_change)"
   ]
  },
  {
   "cell_type": "markdown",
   "metadata": {},
   "source": [
    "Try with a different temp_change value:\n"
   ]
  },
  {
   "cell_type": "code",
   "execution_count": null,
   "metadata": {},
   "outputs": [],
   "source": [
    "temp_change = -0.7\n",
    "abs(temp_change)"
   ]
  },
  {
   "cell_type": "markdown",
   "metadata": {},
   "source": [
    "While this doesn’t seem like it is any more efficient right now, it will become more useful when you have multiple calculations in a row.\n",
    "\n",
    "## Save your work\n",
    "\n",
    "Now would be a good time to save your work.\n",
    "\n",
    "Go to the \"File\" menu and select \"Save and Checkpoint\", or click on the disk icon in the toolbar.  You should do this often.\n",
    "\n",
    "## Python modules\n",
    "\n",
    "The base Python includes only a few _functions_ by default. `abs` is an example of a built-in Python function. It takes a value (`temp_change` in our case) and returns the absolute value. But basic Python does not include many built-in functions.\n",
    "\n",
    "To extend the functionality of Python, we use _modules_. Modules are files that have predefined functions that you can _import_ into and use in Python.  This allows for great customization of Python, but it can be challenging sometimes when you are trying to find a particular function, and don’t remember which module it’s in. I recommend keeping a “cheat sheet” of functions you often use, so you can refer back to it to remember how to do certain calculations or plots.\n",
    "\n",
    "Some common modules we’ll use in this class are `matplotlib`, which includes basic plotting commands and is intended to be similar to Matlab, and `numpy`, which allows us to do neat things with multi-dimension arrays. In the spirit of continuing to jump into the deep end, today we’ll just start using them, and talk about what they actually do later.\n"
   ]
  },
  {
   "cell_type": "markdown",
   "metadata": {},
   "source": [
    "First, we need to _import_ the modules. Actually, **before** importing the `matplotlib` functions, we use the `%matplotlib inline` command to tell Jupyter to include the plots _inline_ on this web interface, rather than as a separate window. <span style=\"color:red\">**If you use a matplotlib function before you run this command, you will need to rewrite your code and \"restart and rerun\" the kernel to get inline plotting to work.**</span>\n",
    "\n",
    "The first `import` command imports the `pyplot` subset of functions from the `matplotlib` module. To simpify our code, we are giving these functions the nickname of `plt`. (Otherwise, we would have to write `matplotlib.pyplot` every place you see `plt` below.)\n",
    "\n",
    "We are also importing the `numpy` module, shortening the name to `np` so that we don't have to type the three extra characters. Programmers are lazy.\n"
   ]
  },
  {
   "cell_type": "code",
   "execution_count": null,
   "metadata": {
    "scrolled": true
   },
   "outputs": [],
   "source": [
    "%matplotlib inline\n",
    "import matplotlib.pyplot as plt\n",
    "import numpy as np"
   ]
  },
  {
   "cell_type": "markdown",
   "metadata": {},
   "source": [
    "In general, it's a good idea to import all of the modules you need for a particular notebook in the very first code cell of the notebook. \n",
    "\n",
    "## Our first look at the GISTEMP Data\n",
    "\n",
    "Next week, you will learn how to read in data from a file and save it in variables. But, today, we just want to make a quick plot so that we have something pretty to look at this first lab.  So I have already extracted the variables for you. \n",
    "\n",
    "The following command \"runs\" the Python code to get this data. The code is in the `/Data/ATS_301/Share/` directory, rather than your home directory, so we have to tell the computer exactly where it is.\n",
    "\n",
    "After the command runs, you will have the data stored in the variables `glob_ann_gistemp` (global annual average temperature anomaly) and `gistemp_year` (corresponding year for each anomaly). These are a special type of variable called an *array*, which we'll learn more about next week.\n"
   ]
  },
  {
   "cell_type": "code",
   "execution_count": null,
   "metadata": {},
   "outputs": [],
   "source": [
    "%run /data/ATS_301/Share/Gistemp.ipynb"
   ]
  },
  {
   "cell_type": "markdown",
   "metadata": {},
   "source": [
    "Let's look at all the year values, just to make sure they look reasonable. Normally, you wouldn't want to look at all the data, since it would be too long, but let's try it just this once."
   ]
  },
  {
   "cell_type": "code",
   "execution_count": null,
   "metadata": {},
   "outputs": [],
   "source": [
    "print(gistemp_year)"
   ]
  },
  {
   "cell_type": "code",
   "execution_count": null,
   "metadata": {},
   "outputs": [],
   "source": [
    "print(glob_ann_gistemp)"
   ]
  },
  {
   "cell_type": "markdown",
   "metadata": {},
   "source": [
    "When you use a new dataset, it's always a good idea to do some sanity checks before using it. Let's start by exploring some basic aspects of the array. The function `np.shape` will tell you the size of a numpy array."
   ]
  },
  {
   "cell_type": "code",
   "execution_count": null,
   "metadata": {},
   "outputs": [],
   "source": [
    "np.shape(glob_ann_gistemp)"
   ]
  },
  {
   "cell_type": "markdown",
   "metadata": {},
   "source": [
    "Since the array is 1-D, the first number (the length of the array) is followed by a comma and nothing else. If the array had multiple dimensions, there would be additional numbers here.\n",
    "\n",
    "Verify that the size of the year array is the same before moving on."
   ]
  },
  {
   "cell_type": "code",
   "execution_count": null,
   "metadata": {
    "code_folding": [
     0
    ]
   },
   "outputs": [],
   "source": [
    "# Your code goes here.\n",
    "\n",
    "np.shape(gistemp_year)"
   ]
  },
  {
   "cell_type": "markdown",
   "metadata": {},
   "source": [
    "Based on what you already know (in this case, you can see the final plot you’re trying to make, but generally you’ll have to use rely more on your own background knowledge) what do you expect the maxumim and minimum values to be, approximately? Add a *Markdown cell* with your rough estimate before continuing.\n",
    "\n",
    "**To add a Markdown cell**, start in a new cell, go to the pull-down menu that says \"Code\", and switch it to \"Markdown\". Now, you can just type in plain text. When you run the cell, it converts it to text like you see here."
   ]
  },
  {
   "cell_type": "markdown",
   "metadata": {},
   "source": [
    "### Add your Markdown cell here\n",
    "\n",
    "Based on the plot shown in class, I expect the maximum value to be about XXXXX.\n",
    "\n",
    "Don't forget to include the units."
   ]
  },
  {
   "cell_type": "markdown",
   "metadata": {},
   "source": [
    "Now calculate the actual max and min temp anomalies to verify they're about what you expect. The `min` and `max` functions do what you would expect:"
   ]
  },
  {
   "cell_type": "code",
   "execution_count": null,
   "metadata": {
    "scrolled": true
   },
   "outputs": [],
   "source": [
    "max(glob_ann_gistemp)"
   ]
  },
  {
   "cell_type": "code",
   "execution_count": null,
   "metadata": {},
   "outputs": [],
   "source": [
    "min(glob_ann_gistemp)"
   ]
  },
  {
   "cell_type": "markdown",
   "metadata": {},
   "source": [
    "## Plotting\n",
    "\n",
    "Now you are ready to make your first plot, using the `matplotlib` module.\n",
    "\n",
    "http://matplotlib.org/users/pyplot_tutorial.html provides an introduction to basic plotting using these `pyplot` functions. You can also check out the matplotlib documentation through the Help menu in the menu bar.\n",
    "\n",
    "The basic command to plot an x-y plot (scatterplot or line plot) is `plt.plot`. The `plt` part at the beginning of the functions tells us that we are using functions from the `matplotlib` module called `pyplot` (which we imported in an earlier step). "
   ]
  },
  {
   "cell_type": "code",
   "execution_count": null,
   "metadata": {},
   "outputs": [],
   "source": [
    "plt.plot(glob_ann_gistemp)"
   ]
  },
  {
   "cell_type": "markdown",
   "metadata": {},
   "source": [
    "What is plotted on the x axis? What is on the y axis?\n",
    "\n",
    "Since we didn't specify values to use for the x-axis, Python just used the _index_ associated with each temperature anomaly data point for the plot. However, we know what the year values are, so we can include them explictly.\n",
    "\n",
    "Redo this plot to show time on the x axis, rather index, by using a different form of the `plot` command. Rather than one _argument_, this one takes two. The first is the list of x values for each point. The second is the list of y values for each point. (If the lists are different lengths, you will get an error.)\n",
    "\n",
    "So the plot command become\n"
   ]
  },
  {
   "cell_type": "code",
   "execution_count": null,
   "metadata": {
    "scrolled": false
   },
   "outputs": [],
   "source": [
    "plt.plot(gistemp_year,glob_ann_gistemp)"
   ]
  },
  {
   "cell_type": "markdown",
   "metadata": {},
   "source": [
    "We need to add labels to our plot. `plt.xlabel`, `plt.ylabel`, and `plt.title` add the specified text to the axes and title. The title is a little long, so we'll change the font size. Try this cell with a larger or smaller `size` to see what happens."
   ]
  },
  {
   "cell_type": "code",
   "execution_count": null,
   "metadata": {
    "scrolled": false
   },
   "outputs": [],
   "source": [
    "plt.plot(gistemp_year,glob_ann_gistemp)\n",
    "plt.ylabel(\"Temperature Anomaly (°C)\")\n",
    "plt.xlabel(\"Year\")\n",
    "plt.title(\"Global Mean Estimates based on Land and Ocean Data (GISTEMP)\",size=10)"
   ]
  },
  {
   "cell_type": "markdown",
   "metadata": {},
   "source": [
    "The plot we are trying to replicate uses black markers for the data points. How do we do this?\n",
    "\n",
    "The `plt.plot` function has many options. To see what these are, we use the `help` command. The `help` command will be one of your greatest friends this term. It will provide you with all sorts of information about how to use various functions.\n"
   ]
  },
  {
   "cell_type": "code",
   "execution_count": null,
   "metadata": {
    "scrolled": false
   },
   "outputs": [],
   "source": [
    "help(plt.plot)"
   ]
  },
  {
   "cell_type": "markdown",
   "metadata": {},
   "source": [
    "Click on the side of the cell to toggle between scrolling and non-scrolling, since this command results in lots of output.\n",
    "\n",
    "Based on the output from the help command, work with your partner to figure out which options to use in the `plt.plot` command to create the plot with black markers and line rather than a blue line. "
   ]
  },
  {
   "cell_type": "code",
   "execution_count": null,
   "metadata": {
    "scrolled": false
   },
   "outputs": [],
   "source": [
    "plt.plot(gistemp_year,glob_ann_gistemp,###### put the correct options here #######)\n",
    "plt.ylabel(\"Temperature Anomaly (°C)\")\n",
    "plt.xlabel(\"Year\")\n",
    "plt.title(\"Global Mean Estimates based on Land and Ocean Data (GISTEMP)\",size=10)\n",
    "         "
   ]
  },
  {
   "cell_type": "code",
   "execution_count": null,
   "metadata": {
    "code_folding": [
     0
    ],
    "scrolled": false
   },
   "outputs": [],
   "source": [
    "#\n",
    "\n",
    "plt.plot(gistemp_year,glob_ann_gistemp,'ks-')\n",
    "plt.ylabel(\"Temperature Anomaly (°C)\")\n",
    "plt.xlabel(\"Year\")\n",
    "plt.title(\"Global Mean Estimates based on Land and Ocean Data (GISTEMP)\",size=10)\n",
    "       "
   ]
  },
  {
   "cell_type": "markdown",
   "metadata": {},
   "source": [
    "## Turning in lab notebook\n",
    "\n",
    "\n",
    "1. Go to \"File\" -> \"Save and Checkpoint\" to save your lab notebook.\n",
    "\n",
    "2. Go to \"File\" -> \"Close and Halt\". The notebook tab will close, and you will be back on the directory web page. \n",
    "\n",
    "3. Click the box next to the notebook file.\n",
    "\n",
    "4. Click \"duplicate\", so that you can save a copy in your home directory.\n",
    "\n",
    "5. Click the box next to the notebook file again.\n",
    "\n",
    "6. Click the \"move\" button.\n",
    "\n",
    "7. Type \"data/ATS_301/Labs/Lab01\".\n"
   ]
  },
  {
   "cell_type": "markdown",
   "metadata": {
    "collapsed": true
   },
   "source": [
    "## For more info\n",
    "\n",
    "\n",
    "http://matplotlib.org/users/pyplot_tutorial.html provides an introduction to basic plotting using this pyplot functions.\n"
   ]
  },
  {
   "cell_type": "code",
   "execution_count": null,
   "metadata": {},
   "outputs": [],
   "source": []
  }
 ],
 "metadata": {
  "kernelspec": {
   "display_name": "Python 3",
   "language": "python",
   "name": "python3"
  },
  "language_info": {
   "codemirror_mode": {
    "name": "ipython",
    "version": 3
   },
   "file_extension": ".py",
   "mimetype": "text/x-python",
   "name": "python",
   "nbconvert_exporter": "python",
   "pygments_lexer": "ipython3",
   "version": "3.6.5"
  },
  "varInspector": {
   "cols": {
    "lenName": 16,
    "lenType": 16,
    "lenVar": 40
   },
   "kernels_config": {
    "python": {
     "delete_cmd_postfix": "",
     "delete_cmd_prefix": "del ",
     "library": "var_list.py",
     "varRefreshCmd": "print(var_dic_list())"
    },
    "r": {
     "delete_cmd_postfix": ") ",
     "delete_cmd_prefix": "rm(",
     "library": "var_list.r",
     "varRefreshCmd": "cat(var_dic_list()) "
    }
   },
   "types_to_exclude": [
    "module",
    "function",
    "builtin_function_or_method",
    "instance",
    "_Feature"
   ],
   "window_display": false
  }
 },
 "nbformat": 4,
 "nbformat_minor": 1
}
